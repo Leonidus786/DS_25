{
 "cells": [
  {
   "cell_type": "code",
   "execution_count": 2,
   "id": "efab79cf-2288-423e-96ff-2e90df3d9f07",
   "metadata": {},
   "outputs": [
    {
     "name": "stdin",
     "output_type": "stream",
     "text": [
      "Enter a number:  5\n"
     ]
    },
    {
     "name": "stdout",
     "output_type": "stream",
     "text": [
      "The factorial of 5 is : 120\n"
     ]
    }
   ],
   "source": [
    "# Recursion --> mtlb function khud ko definition me hi bula lega \n",
    "\n",
    "\n",
    "##Recursion -- Factorial of a number \n",
    "\n",
    "n = int(input(\"Enter a number: \"))\n",
    "\n",
    "# creating a function with name factorial\n",
    "def factorial(n):  \n",
    "  if n == 0 or n == 1:\n",
    "    return 1\n",
    "  else:\n",
    "    ## Calling function (factorial) itself --- Recursive function\n",
    "    return n * factorial(n-1)\n",
    "  \n",
    "\n",
    "result = factorial(n)\n",
    "\n",
    "\n",
    "# n = int(input(\"Enter a number: \"))\n",
    "\n",
    "# def factorial(n):\n",
    "#     if n == 0 or n == 1:\n",
    "#         return 1\n",
    "#     else :\n",
    "#         return n * factorial(n-1)\n",
    "    \n",
    "# result = factorial(n)\n",
    "\n",
    "print(f\"The factorial of {n} is : {result}\")\n",
    "  \n"
   ]
  },
  {
   "cell_type": "code",
   "execution_count": 1,
   "id": "2d7928ee-e8c4-4707-b39e-8b3e72198ecc",
   "metadata": {},
   "outputs": [],
   "source": [
    "# Ex-2\n",
    "def countdown(value):\n",
    "  if value <= 0:   #base case  \n",
    "    print(\"done\")\n",
    "  else:\n",
    "    print(value)\n",
    "    countdown(value-1)  #recursive case"
   ]
  },
  {
   "cell_type": "code",
   "execution_count": 2,
   "id": "56542284-a6ef-4caf-8bf0-f15b2ee5feb1",
   "metadata": {},
   "outputs": [
    {
     "name": "stdout",
     "output_type": "stream",
     "text": [
      "10\n",
      "9\n",
      "8\n",
      "7\n",
      "6\n",
      "5\n",
      "4\n",
      "3\n",
      "2\n",
      "1\n",
      "done\n"
     ]
    }
   ],
   "source": [
    "countdown(10)"
   ]
  },
  {
   "cell_type": "code",
   "execution_count": 3,
   "id": "1c899375-cd6c-447f-9394-c2252d6b19f6",
   "metadata": {},
   "outputs": [
    {
     "data": {
      "text/plain": [
       "12"
      ]
     },
     "execution_count": 3,
     "metadata": {},
     "output_type": "execute_result"
    }
   ],
   "source": [
    "# Sum of digits\n",
    "\n",
    "def sum_digits(n): \n",
    "  if n <= 9: \n",
    "    return n \n",
    "  last_digit = n % 10 \n",
    "  return sum_digits(n // 10) + last_digit\n",
    "\n",
    "sum_digits(552) #returns 12"
   ]
  },
  {
   "cell_type": "code",
   "execution_count": 4,
   "id": "6121a4e3-e4d7-404a-b863-447b8be8143c",
   "metadata": {},
   "outputs": [
    {
     "data": {
      "text/plain": [
       "27"
      ]
     },
     "execution_count": 4,
     "metadata": {},
     "output_type": "execute_result"
    }
   ],
   "source": [
    "sum_digits(999)"
   ]
  },
  {
   "cell_type": "code",
   "execution_count": 5,
   "id": "2593190f-90a0-4ad8-be3c-00206b432a7b",
   "metadata": {},
   "outputs": [
    {
     "data": {
      "text/plain": [
       "18"
      ]
     },
     "execution_count": 5,
     "metadata": {},
     "output_type": "execute_result"
    }
   ],
   "source": [
    "sum_digits(99)"
   ]
  }
 ],
 "metadata": {
  "kernelspec": {
   "display_name": "Python 3 (ipykernel)",
   "language": "python",
   "name": "python3"
  },
  "language_info": {
   "codemirror_mode": {
    "name": "ipython",
    "version": 3
   },
   "file_extension": ".py",
   "mimetype": "text/x-python",
   "name": "python",
   "nbconvert_exporter": "python",
   "pygments_lexer": "ipython3",
   "version": "3.11.7"
  }
 },
 "nbformat": 4,
 "nbformat_minor": 5
}
