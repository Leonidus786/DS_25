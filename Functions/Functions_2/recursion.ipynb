{
 "cells": [
  {
   "cell_type": "code",
   "execution_count": 2,
   "id": "efab79cf-2288-423e-96ff-2e90df3d9f07",
   "metadata": {},
   "outputs": [
    {
     "name": "stdin",
     "output_type": "stream",
     "text": [
      "Enter a number:  5\n"
     ]
    },
    {
     "name": "stdout",
     "output_type": "stream",
     "text": [
      "The factorial of 5 is : 120\n"
     ]
    }
   ],
   "source": [
    "# Recursion --> mtlb function khud ko definition me hi bula lega \n",
    "\n",
    "\n",
    "##Recursion -- Factorial of a number \n",
    "\n",
    "n = int(input(\"Enter a number: \"))\n",
    "\n",
    "# creating a function with name factorial\n",
    "def factorial(n):  \n",
    "  if n == 0 or n == 1:\n",
    "    return 1\n",
    "  else:\n",
    "    ## Calling function (factorial) itself --- Recursive function\n",
    "    return n * factorial(n-1)\n",
    "  \n",
    "\n",
    "result = factorial(n)\n",
    "\n",
    "\n",
    "# n = int(input(\"Enter a number: \"))\n",
    "\n",
    "# def factorial(n):\n",
    "#     if n == 0 or n == 1:\n",
    "#         return 1\n",
    "#     else :\n",
    "#         return n * factorial(n-1)\n",
    "    \n",
    "# result = factorial(n)\n",
    "\n",
    "print(f\"The factorial of {n} is : {result}\")\n",
    "  \n"
   ]
  }
 ],
 "metadata": {
  "kernelspec": {
   "display_name": "Python 3 (ipykernel)",
   "language": "python",
   "name": "python3"
  },
  "language_info": {
   "codemirror_mode": {
    "name": "ipython",
    "version": 3
   },
   "file_extension": ".py",
   "mimetype": "text/x-python",
   "name": "python",
   "nbconvert_exporter": "python",
   "pygments_lexer": "ipython3",
   "version": "3.11.7"
  }
 },
 "nbformat": 4,
 "nbformat_minor": 5
}
