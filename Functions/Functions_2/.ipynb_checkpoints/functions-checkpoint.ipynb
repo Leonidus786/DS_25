{
 "cells": [
  {
   "cell_type": "code",
   "execution_count": 10,
   "id": "f869944b-564e-41ae-81cd-b02a071fdba7",
   "metadata": {},
   "outputs": [],
   "source": [
    "\"\"\"\n",
    "Function --> Koi Khas Kaam.\n",
    "A block of code written to perform a particular task.\n",
    "Also it runs only when it is called.\n",
    "\n",
    "def mera_naam_function_hai():\n",
    "  print(\"Ye m krne wala hu but name leke bulao hmko\")\n",
    "\n",
    "-- Specially bulane k liye\n",
    "\n",
    "mera_naam_Function_hai()\n",
    "\n",
    "\n",
    "\n",
    "Ex---1 \n",
    "# Writing a function ---> Defining a function.\n",
    "def fun_name(P1, P2, ......, Pn):\n",
    "    do this:\n",
    "    while condition is this\n",
    "\n",
    "    print(and) \n",
    "    return (this.value)\n",
    "\n",
    "# def --> keyword \n",
    "\n",
    "# fun_name --> name of the function\n",
    "\n",
    "# P1....Pn --> Parameters -->A parameter is the variable listed \n",
    "# inside the parentheses in the function definition. --- Also called\n",
    "default values of a function.\n",
    "\n",
    "\n",
    "Ex---1.1 --->\n",
    "\n",
    "# Calling a function ---> using arguments\n",
    "\n",
    "fun_name(A1, A2,........., An)\n",
    "\n",
    "\n",
    "\n",
    "\"\"\"\n",
    "# def mera_naam_function_hai():\n",
    "#     print(\"Ye m krne wala hu but bhaiya bulane pe hi krunga\")\n",
    "\n",
    "# # Bulate h\n",
    "\n",
    "# mera_naam_function_hai()\n",
    "\n",
    "\n",
    "\n",
    "def my_function(p1, p2): #p1 & p2 are parameters\n",
    "    t = p1+p2\n",
    "    print(t) # t is the value of function\n",
    "\n",
    "# my_function(2,3)\n",
    "\n",
    "# my_function(12,13)\n",
    "\n",
    "# below line will raise a type error. Find Out why ?\n",
    "# my_function()\n",
    "\n",
    "# 2 chahiye but denge ek\n",
    "# my_function(72)"
   ]
  },
  {
   "cell_type": "code",
   "execution_count": 13,
   "id": "2cdb8dc7-82a5-4d67-bb64-c65cdf64d536",
   "metadata": {},
   "outputs": [
    {
     "name": "stdout",
     "output_type": "stream",
     "text": [
      "Emil Refsnes\n",
      "Tobias Refsnes\n",
      "Linus Refsnes\n"
     ]
    }
   ],
   "source": [
    "# def my_function (a1,a2):\n",
    "#     t = a1+a2\n",
    "#     print(t)\n",
    "\n",
    "# b = my_function(4,5)\n",
    "# print(b)\n",
    "\n",
    "\n",
    "def my_function(fname):\n",
    "  print(fname + \" Refsnes\")\n",
    "\n",
    "my_function(\"Emil\")\n",
    "my_function(\"Tobias\")\n",
    "my_function(\"Linus\")"
   ]
  },
  {
   "cell_type": "code",
   "execution_count": 16,
   "id": "d4d5b544-3551-43fa-8057-23d9af697eb3",
   "metadata": {},
   "outputs": [
    {
     "name": "stdout",
     "output_type": "stream",
     "text": [
      "His last name is Refsnes\n"
     ]
    }
   ],
   "source": [
    "#Arbitrary Arguments, *args\n",
    "'''If you do not know how many arguments that will be passed into\n",
    " your function, add a * before the parameter name in the function \n",
    " definition.'''\n",
    "\n",
    "\n",
    "\n",
    "# def my_function(child3, child2, child1):\n",
    "#   print(\"The youngest child is \" + child3)\n",
    "\n",
    "# my_function(child1 = \"Emil\", child2 = \"Tobias\", child3 = \"Linus\")\n",
    "\n",
    "# def my_function(*kids):\n",
    "#   print(\"The youngest child is \" + kids[2])\n",
    "\n",
    "# my_function(\"Emil\", \"Tobias\", \"Linus\")\n",
    "\n",
    "def my_function(**kid):\n",
    "  print(\"His last name is \" + kid[\"lname\"])\n",
    "\n",
    "my_function(fname = \"Tobias\", lname = \"Refsnes\")"
   ]
  },
  {
   "cell_type": "code",
   "execution_count": 17,
   "id": "b643453a-d89e-48fa-be25-549a98cb585b",
   "metadata": {},
   "outputs": [
    {
     "name": "stdout",
     "output_type": "stream",
     "text": [
      "I am from Sweden\n",
      "I am from India\n",
      "I am from Norway\n",
      "I am from Brazil\n"
     ]
    }
   ],
   "source": [
    "# def my_function(country = \"Norway\"):\n",
    "#   print(\"I am from \" + country)\n",
    "\n",
    "# my_function(\"Sweden\")\n",
    "# my_function(\"India\")\n",
    "# my_function()\n",
    "# my_function(\"Brazil\")\n",
    "\n",
    "\n",
    "# def my_function(x):\n",
    "#   return 5 * x\n",
    "\n",
    "# print(my_function(3))\n",
    "# print(my_function(5))\n",
    "# print(my_function(9))\n",
    "\n",
    "\n",
    "# def my_function(food):\n",
    "#   for x in food:\n",
    "#     print(x)\n",
    "\n",
    "# fruits = [\"apple\", \"banana\", \"cherry\"]\n",
    "\n",
    "# my_function(fruits)\n",
    "\n"
   ]
  },
  {
   "cell_type": "code",
   "execution_count": 18,
   "id": "3283ca5e-db55-48c1-99dc-a092005a06ab",
   "metadata": {},
   "outputs": [
    {
     "name": "stdout",
     "output_type": "stream",
     "text": [
      "apple\n",
      "banana\n",
      "cherry\n",
      "Mango\n"
     ]
    }
   ],
   "source": [
    "def my_function(food):\n",
    "  for x in food:\n",
    "    print(x)\n",
    "\n",
    "fruits = [\"apple\", \"banana\", \"cherry\", \"Mango\"]\n",
    "\n",
    "my_function(fruits)"
   ]
  }
 ],
 "metadata": {
  "kernelspec": {
   "display_name": "Python 3 (ipykernel)",
   "language": "python",
   "name": "python3"
  },
  "language_info": {
   "codemirror_mode": {
    "name": "ipython",
    "version": 3
   },
   "file_extension": ".py",
   "mimetype": "text/x-python",
   "name": "python",
   "nbconvert_exporter": "python",
   "pygments_lexer": "ipython3",
   "version": "3.11.7"
  }
 },
 "nbformat": 4,
 "nbformat_minor": 5
}
