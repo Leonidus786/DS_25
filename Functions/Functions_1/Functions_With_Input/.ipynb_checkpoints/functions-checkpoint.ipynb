{
 "cells": [
  {
   "cell_type": "code",
   "execution_count": null,
   "id": "f0d68207-ca3f-4869-b545-7c8fa6dbd352",
   "metadata": {},
   "outputs": [],
   "source": [
    "#Simple Function\n",
    "def greet():\n",
    "  print(\"Hello Abhishek\")\n",
    "  print(\"How do you do Abhishek?\")\n",
    "  print(\"Isn't the weather nice today?\")\n",
    "greet()\n",
    "\n",
    "#Function that allows for input\n",
    "#'name' is the parameter.\n",
    "#'Jack Bauer' is the argument.\n",
    "def greet_with_name(name):\n",
    "  print(f\"Hello {name}\")\n",
    "  print(f\"How do you do {name}?\")\n",
    "greet_with_name(\"Jack Bauer\")\n",
    "\n",
    "#Functions with more than 1 input\n",
    "def greet_with(name, location):\n",
    "  print(f\"Hello {name}\")\n",
    "  print(f\"What is it like in {location}?\")\n",
    "\n",
    "#Calling greet_with() with Positional Arguments\n",
    "greet_with(\"Jack Bauer\", \"Nowhere\")\n",
    "#vs.\n",
    "greet_with(\"Nowhere\", \"Jack Bauer\")\n",
    "\n",
    "\n",
    "#Calling greet_with() with Keyword Arguments\n",
    "greet_with(location=\"New Delhi\", name=\"Abhishek\")"
   ]
  }
 ],
 "metadata": {
  "kernelspec": {
   "display_name": "Python 3 (ipykernel)",
   "language": "python",
   "name": "python3"
  },
  "language_info": {
   "codemirror_mode": {
    "name": "ipython",
    "version": 3
   },
   "file_extension": ".py",
   "mimetype": "text/x-python",
   "name": "python",
   "nbconvert_exporter": "python",
   "pygments_lexer": "ipython3",
   "version": "3.11.7"
  }
 },
 "nbformat": 4,
 "nbformat_minor": 5
}
