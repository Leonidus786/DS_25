{
 "cells": [
  {
   "cell_type": "code",
   "execution_count": 1,
   "id": "b5baca26-ac39-4088-b357-5f070be7b239",
   "metadata": {},
   "outputs": [],
   "source": [
    "# Tuples --> (), tuple()"
   ]
  },
  {
   "cell_type": "code",
   "execution_count": 2,
   "id": "2649adc1-cda1-4b12-8ae9-0cff8bd6862d",
   "metadata": {},
   "outputs": [],
   "source": [
    "my_tuple = (\"Amit\", 1, 2.9, 1+0j, [1,2,3,4], (1,2,3))"
   ]
  },
  {
   "cell_type": "code",
   "execution_count": 3,
   "id": "3ab2c662-14b9-45a4-bdf3-a9c30c1e2778",
   "metadata": {},
   "outputs": [
    {
     "name": "stdout",
     "output_type": "stream",
     "text": [
      "<class 'tuple'>\n"
     ]
    }
   ],
   "source": [
    "print(type(my_tuple))"
   ]
  },
  {
   "cell_type": "code",
   "execution_count": 5,
   "id": "16f8f9d3-3c3c-41ec-9898-56fdcbaee60b",
   "metadata": {},
   "outputs": [
    {
     "data": {
      "text/plain": [
       "6"
      ]
     },
     "execution_count": 5,
     "metadata": {},
     "output_type": "execute_result"
    }
   ],
   "source": [
    "len(my_tuple)"
   ]
  },
  {
   "cell_type": "code",
   "execution_count": 4,
   "id": "2298b27e-3fec-40ea-91f0-33b015b5cbdd",
   "metadata": {},
   "outputs": [
    {
     "data": {
      "text/plain": [
       "[1, 2, 3, 4]"
      ]
     },
     "execution_count": 4,
     "metadata": {},
     "output_type": "execute_result"
    }
   ],
   "source": [
    "my_tuple[-2]"
   ]
  },
  {
   "cell_type": "code",
   "execution_count": 6,
   "id": "6ef44f45-53b9-4973-a81f-6c73bef4dab9",
   "metadata": {},
   "outputs": [
    {
     "data": {
      "text/plain": [
       "'Amit'"
      ]
     },
     "execution_count": 6,
     "metadata": {},
     "output_type": "execute_result"
    }
   ],
   "source": [
    "my_tuple[-6]"
   ]
  },
  {
   "cell_type": "code",
   "execution_count": 7,
   "id": "49c926b0-31ad-4c9b-8567-e803c42a426c",
   "metadata": {},
   "outputs": [
    {
     "data": {
      "text/plain": [
       "'Amit'"
      ]
     },
     "execution_count": 7,
     "metadata": {},
     "output_type": "execute_result"
    }
   ],
   "source": [
    "my_tuple[0]"
   ]
  },
  {
   "cell_type": "code",
   "execution_count": 9,
   "id": "b959e398-2037-44d3-a595-a21a5a237764",
   "metadata": {},
   "outputs": [
    {
     "ename": "TypeError",
     "evalue": "'tuple' object does not support item assignment",
     "output_type": "error",
     "traceback": [
      "\u001b[1;31m---------------------------------------------------------------------------\u001b[0m",
      "\u001b[1;31mTypeError\u001b[0m                                 Traceback (most recent call last)",
      "Cell \u001b[1;32mIn[9], line 2\u001b[0m\n\u001b[0;32m      1\u001b[0m \u001b[38;5;66;03m# This line will generate a TypeError\u001b[39;00m\n\u001b[1;32m----> 2\u001b[0m my_tuple[\u001b[38;5;241m0\u001b[39m] \u001b[38;5;241m=\u001b[39m \u001b[38;5;124m\"\u001b[39m\u001b[38;5;124mAbhishek\u001b[39m\u001b[38;5;124m\"\u001b[39m\n",
      "\u001b[1;31mTypeError\u001b[0m: 'tuple' object does not support item assignment"
     ]
    }
   ],
   "source": [
    "# This line will generate a TypeError\n",
    "my_tuple[0] = \"Abhishek\""
   ]
  },
  {
   "cell_type": "code",
   "execution_count": 10,
   "id": "e8375727-af84-4b34-a5e6-92ee029738de",
   "metadata": {},
   "outputs": [],
   "source": [
    "my_tuple_1 = (1,1,2,2,3,3,5)"
   ]
  },
  {
   "cell_type": "code",
   "execution_count": 11,
   "id": "754042ae-4ca5-4c55-b934-3b33b09b6229",
   "metadata": {},
   "outputs": [
    {
     "data": {
      "text/plain": [
       "(1, 1, 2, 2, 3, 3, 5)"
      ]
     },
     "execution_count": 11,
     "metadata": {},
     "output_type": "execute_result"
    }
   ],
   "source": [
    "my_tuple_1"
   ]
  },
  {
   "cell_type": "code",
   "execution_count": 18,
   "id": "eea178d5-3922-4b0b-8c06-bd969700f46f",
   "metadata": {},
   "outputs": [],
   "source": [
    "tuple_One = (2, True, False, None)"
   ]
  },
  {
   "cell_type": "code",
   "execution_count": 19,
   "id": "0dfacdb4-96ee-468a-8511-e00284ac6b9d",
   "metadata": {},
   "outputs": [
    {
     "data": {
      "text/plain": [
       "tuple"
      ]
     },
     "execution_count": 19,
     "metadata": {},
     "output_type": "execute_result"
    }
   ],
   "source": [
    "type(tuple_One)"
   ]
  },
  {
   "cell_type": "code",
   "execution_count": 16,
   "id": "cfb34fc6-00be-480d-9335-6d1da3fadb2e",
   "metadata": {},
   "outputs": [],
   "source": [
    "list_1 = [2]"
   ]
  },
  {
   "cell_type": "code",
   "execution_count": 17,
   "id": "76384193-fbf4-4b5d-9b08-f7c8bb8df66e",
   "metadata": {},
   "outputs": [
    {
     "data": {
      "text/plain": [
       "list"
      ]
     },
     "execution_count": 17,
     "metadata": {},
     "output_type": "execute_result"
    }
   ],
   "source": [
    "type(list_1)"
   ]
  },
  {
   "cell_type": "code",
   "execution_count": 20,
   "id": "f2873486-283e-431f-bd37-3d8f47e00b1d",
   "metadata": {},
   "outputs": [
    {
     "data": {
      "text/plain": [
       "(1, 2.9, (1+0j), [1, 2, 3, 4])"
      ]
     },
     "execution_count": 20,
     "metadata": {},
     "output_type": "execute_result"
    }
   ],
   "source": [
    "my_tuple[1:5]"
   ]
  },
  {
   "cell_type": "code",
   "execution_count": 21,
   "id": "3e017cf8-db0b-405a-8691-2fe806ea9c36",
   "metadata": {},
   "outputs": [
    {
     "data": {
      "text/plain": [
       "('Amit', 1, 2.9, (1+0j), [1, 2, 3, 4], (1, 2, 3))"
      ]
     },
     "execution_count": 21,
     "metadata": {},
     "output_type": "execute_result"
    }
   ],
   "source": [
    "my_tuple"
   ]
  },
  {
   "cell_type": "code",
   "execution_count": 22,
   "id": "d595da5c-1e01-4f81-aef0-1bcb0a29628a",
   "metadata": {},
   "outputs": [
    {
     "name": "stdout",
     "output_type": "stream",
     "text": [
      "Amit\n",
      "1\n",
      "2.9\n",
      "(1+0j)\n",
      "[1, 2, 3, 4]\n",
      "(1, 2, 3)\n"
     ]
    }
   ],
   "source": [
    "# moving on each item of a tuple\n",
    "\n",
    "for c in my_tuple:\n",
    "    print(c)"
   ]
  },
  {
   "cell_type": "code",
   "execution_count": 23,
   "id": "ab873922-97b6-4f51-8451-d87784f8b78c",
   "metadata": {},
   "outputs": [
    {
     "data": {
      "text/plain": [
       "False"
      ]
     },
     "execution_count": 23,
     "metadata": {},
     "output_type": "execute_result"
    }
   ],
   "source": [
    "1.5 in my_tuple"
   ]
  },
  {
   "cell_type": "code",
   "execution_count": 24,
   "id": "bab7f6c0-24e9-4cc8-b193-b11a3bc5e658",
   "metadata": {},
   "outputs": [
    {
     "data": {
      "text/plain": [
       "True"
      ]
     },
     "execution_count": 24,
     "metadata": {},
     "output_type": "execute_result"
    }
   ],
   "source": [
    "1.5 not in my_tuple"
   ]
  },
  {
   "cell_type": "code",
   "execution_count": 26,
   "id": "c8adbb79-424c-4f13-bab1-e3336f29a121",
   "metadata": {},
   "outputs": [
    {
     "ename": "TypeError",
     "evalue": "'tuple' object does not support item assignment",
     "output_type": "error",
     "traceback": [
      "\u001b[1;31m---------------------------------------------------------------------------\u001b[0m",
      "\u001b[1;31mTypeError\u001b[0m                                 Traceback (most recent call last)",
      "Cell \u001b[1;32mIn[26], line 3\u001b[0m\n\u001b[0;32m      1\u001b[0m x \u001b[38;5;241m=\u001b[39m (\u001b[38;5;124m\"\u001b[39m\u001b[38;5;124mapple\u001b[39m\u001b[38;5;124m\"\u001b[39m, \u001b[38;5;124m\"\u001b[39m\u001b[38;5;124mbanana\u001b[39m\u001b[38;5;124m\"\u001b[39m, \u001b[38;5;124m\"\u001b[39m\u001b[38;5;124mcherry\u001b[39m\u001b[38;5;124m\"\u001b[39m)\n\u001b[1;32m----> 3\u001b[0m x[\u001b[38;5;241m1\u001b[39m] \u001b[38;5;241m=\u001b[39m \u001b[38;5;124m\"\u001b[39m\u001b[38;5;124mkiwi\u001b[39m\u001b[38;5;124m\"\u001b[39m\n",
      "\u001b[1;31mTypeError\u001b[0m: 'tuple' object does not support item assignment"
     ]
    }
   ],
   "source": [
    "x = (\"apple\", \"banana\", \"cherry\")\n",
    "\n",
    "x[1] = \"kiwi\""
   ]
  },
  {
   "cell_type": "code",
   "execution_count": 25,
   "id": "57a45d60-5eb9-4dde-b29c-743c2fb2a246",
   "metadata": {},
   "outputs": [
    {
     "name": "stdout",
     "output_type": "stream",
     "text": [
      "('apple', 'kiwi', 'cherry')\n"
     ]
    }
   ],
   "source": [
    "x = (\"apple\", \"banana\", \"cherry\")\n",
    "y = list(x)\n",
    "y[1] = \"kiwi\"\n",
    "x = tuple(y)\n",
    "print(x)"
   ]
  },
  {
   "cell_type": "code",
   "execution_count": 27,
   "id": "d53e78a8-5d61-49d9-a0ad-1bfeac57777f",
   "metadata": {},
   "outputs": [],
   "source": [
    "a = (1,2,3)\n",
    "b = (4,5,6)"
   ]
  },
  {
   "cell_type": "code",
   "execution_count": 28,
   "id": "86820eea-58ad-4bea-a6f1-968fffae2226",
   "metadata": {},
   "outputs": [
    {
     "data": {
      "text/plain": [
       "(1, 2, 3, 4, 5, 6)"
      ]
     },
     "execution_count": 28,
     "metadata": {},
     "output_type": "execute_result"
    }
   ],
   "source": [
    "a+b"
   ]
  },
  {
   "cell_type": "code",
   "execution_count": 29,
   "id": "c680ad18-0939-4a65-bc7b-69aacc4eb9f7",
   "metadata": {},
   "outputs": [],
   "source": [
    "a +=b"
   ]
  },
  {
   "cell_type": "code",
   "execution_count": 30,
   "id": "8e17ab94-76b0-46fa-b706-de8e05656ad2",
   "metadata": {},
   "outputs": [
    {
     "data": {
      "text/plain": [
       "(1, 2, 3, 4, 5, 6)"
      ]
     },
     "execution_count": 30,
     "metadata": {},
     "output_type": "execute_result"
    }
   ],
   "source": [
    "a"
   ]
  },
  {
   "cell_type": "code",
   "execution_count": 31,
   "id": "783886d0-e122-4860-8630-9a00168596ae",
   "metadata": {},
   "outputs": [],
   "source": [
    "# remove() ---> to remove/delete a particular item\n",
    "# pop() --> to remove by index if empty it will delete the last item\n",
    "# del --> mostly use to delete complete iterable. \n",
    "# clear() --> only delete items inside a iterable."
   ]
  },
  {
   "cell_type": "code",
   "execution_count": 32,
   "id": "73a4e58c-06ee-4123-92d2-f3934b4512a4",
   "metadata": {},
   "outputs": [],
   "source": [
    "a,b,c = 12,15,18"
   ]
  },
  {
   "cell_type": "code",
   "execution_count": 33,
   "id": "b9dabc5b-fc23-4151-8939-ad5a81c7e5c3",
   "metadata": {},
   "outputs": [
    {
     "data": {
      "text/plain": [
       "12"
      ]
     },
     "execution_count": 33,
     "metadata": {},
     "output_type": "execute_result"
    }
   ],
   "source": [
    "a"
   ]
  },
  {
   "cell_type": "code",
   "execution_count": 34,
   "id": "7698020f-254e-4130-a069-ae3db3efafa5",
   "metadata": {},
   "outputs": [
    {
     "data": {
      "text/plain": [
       "15"
      ]
     },
     "execution_count": 34,
     "metadata": {},
     "output_type": "execute_result"
    }
   ],
   "source": [
    "b"
   ]
  },
  {
   "cell_type": "code",
   "execution_count": 35,
   "id": "369c2ec3-f268-468e-88e4-a1abc716cd5e",
   "metadata": {},
   "outputs": [
    {
     "data": {
      "text/plain": [
       "18"
      ]
     },
     "execution_count": 35,
     "metadata": {},
     "output_type": "execute_result"
    }
   ],
   "source": [
    "c"
   ]
  },
  {
   "cell_type": "code",
   "execution_count": 36,
   "id": "aa2e1b40-d80f-4d3a-b5f1-ff91615f713e",
   "metadata": {},
   "outputs": [
    {
     "name": "stdout",
     "output_type": "stream",
     "text": [
      "apple\n",
      "banana\n",
      "cherry\n"
     ]
    }
   ],
   "source": [
    "fruits = (\"apple\", \"banana\", \"cherry\")\n",
    "\n",
    "(green, yellow, red) = fruits\n",
    "\n",
    "print(green)\n",
    "print(yellow)\n",
    "print(red)\n"
   ]
  }
 ],
 "metadata": {
  "kernelspec": {
   "display_name": "Python 3 (ipykernel)",
   "language": "python",
   "name": "python3"
  },
  "language_info": {
   "codemirror_mode": {
    "name": "ipython",
    "version": 3
   },
   "file_extension": ".py",
   "mimetype": "text/x-python",
   "name": "python",
   "nbconvert_exporter": "python",
   "pygments_lexer": "ipython3",
   "version": "3.11.7"
  }
 },
 "nbformat": 4,
 "nbformat_minor": 5
}
