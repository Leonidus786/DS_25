{
 "cells": [
  {
   "cell_type": "code",
   "execution_count": 1,
   "id": "db5fe050-cebc-4f19-8290-fa53e8ead21f",
   "metadata": {},
   "outputs": [],
   "source": [
    "import numpy as np"
   ]
  },
  {
   "cell_type": "code",
   "execution_count": 2,
   "id": "54ee42a8-3fa0-4bee-a064-de11cc846795",
   "metadata": {},
   "outputs": [],
   "source": [
    "values = [4,11,7,14]"
   ]
  },
  {
   "cell_type": "code",
   "execution_count": 3,
   "id": "ca2a71fa-6b82-49e8-9464-289e1086c4b3",
   "metadata": {},
   "outputs": [
    {
     "data": {
      "text/plain": [
       "9.0"
      ]
     },
     "execution_count": 3,
     "metadata": {},
     "output_type": "execute_result"
    }
   ],
   "source": [
    "x = np.mean(values)\n",
    "x"
   ]
  },
  {
   "cell_type": "code",
   "execution_count": 4,
   "id": "290f7889-1b9f-485c-896f-af8e6562e6f7",
   "metadata": {},
   "outputs": [
    {
     "data": {
      "text/plain": [
       "41.0"
      ]
     },
     "execution_count": 4,
     "metadata": {},
     "output_type": "execute_result"
    }
   ],
   "source": [
    "values = [13,21,21,40,42,48,55,72]\n",
    "y = np.median(values)\n",
    "y"
   ]
  },
  {
   "cell_type": "code",
   "execution_count": 5,
   "id": "6409551c-a89b-44f1-b4ef-988c93b66561",
   "metadata": {},
   "outputs": [],
   "source": [
    "from statistics import multimode"
   ]
  },
  {
   "cell_type": "code",
   "execution_count": 6,
   "id": "23523f2b-c88a-476a-9654-7510eb409721",
   "metadata": {},
   "outputs": [
    {
     "name": "stdout",
     "output_type": "stream",
     "text": [
      "[7, 12]\n"
     ]
    }
   ],
   "source": [
    "values = [4,7,3,8,11,7,10,19,6,9,12,12]\n",
    "\n",
    "z = multimode(values)\n",
    "\n",
    "print(z)"
   ]
  },
  {
   "cell_type": "code",
   "execution_count": 7,
   "id": "4c153351-a606-4fd4-b233-b1be82947e07",
   "metadata": {},
   "outputs": [
    {
     "name": "stdout",
     "output_type": "stream",
     "text": [
      "59\n"
     ]
    }
   ],
   "source": [
    "values = [13,21,21,40,48,55,72]\n",
    "\n",
    "a = np.ptp(values)\n",
    "\n",
    "print(a)"
   ]
  },
  {
   "cell_type": "code",
   "execution_count": 8,
   "id": "2c501261-01a8-435d-9d6b-f2b2d6c1922d",
   "metadata": {},
   "outputs": [
    {
     "name": "stdout",
     "output_type": "stream",
     "text": [
      "[13.   21.   41.   49.75 72.  ]\n"
     ]
    }
   ],
   "source": [
    "values = [13,21,21,40,42,48,55,72]\n",
    "\n",
    "b = np.quantile(values, [0,0.25,0.5,0.75,1])\n",
    "\n",
    "print(b)"
   ]
  },
  {
   "cell_type": "code",
   "execution_count": 9,
   "id": "d7073e4c-1a3e-46f1-9918-bf87c5fba3c2",
   "metadata": {},
   "outputs": [
    {
     "name": "stdout",
     "output_type": "stream",
     "text": [
      "45.3\n"
     ]
    }
   ],
   "source": [
    "values = [13,21,21,40,42,48,55,72]\n",
    "\n",
    "f = np.percentile(values, 65)\n",
    "\n",
    "print(f)"
   ]
  },
  {
   "cell_type": "code",
   "execution_count": 10,
   "id": "157ed340-112f-4882-beed-eb51cb5179e8",
   "metadata": {},
   "outputs": [],
   "source": [
    "from scipy import stats"
   ]
  },
  {
   "cell_type": "code",
   "execution_count": 11,
   "id": "6a10d715-8ce7-4644-8367-9e34fc129a03",
   "metadata": {},
   "outputs": [
    {
     "name": "stdout",
     "output_type": "stream",
     "text": [
      "28.75\n"
     ]
    }
   ],
   "source": [
    "values = [13,21,21,40,42,48,55,72]\n",
    "\n",
    "g = stats.iqr(values)\n",
    "\n",
    "print(g)"
   ]
  },
  {
   "cell_type": "code",
   "execution_count": 12,
   "id": "f487f581-d4b1-4883-833f-9b9a20610a75",
   "metadata": {},
   "outputs": [
    {
     "name": "stdout",
     "output_type": "stream",
     "text": [
      "3.11.7 | packaged by Anaconda, Inc. | (main, Dec 15 2023, 18:05:47) [MSC v.1916 64 bit (AMD64)]\n"
     ]
    }
   ],
   "source": [
    "import sys\n",
    "print(sys.version)"
   ]
  },
  {
   "cell_type": "code",
   "execution_count": 13,
   "id": "ea1ca188-060e-44b3-86db-c45b27d63378",
   "metadata": {},
   "outputs": [
    {
     "name": "stdout",
     "output_type": "stream",
     "text": [
      "3.8078865529319543\n"
     ]
    }
   ],
   "source": [
    "values = [4,11,7,14]\n",
    "\n",
    "h = np.std(values)\n",
    "\n",
    "print(h)"
   ]
  }
 ],
 "metadata": {
  "kernelspec": {
   "display_name": "Python 3 (ipykernel)",
   "language": "python",
   "name": "python3"
  },
  "language_info": {
   "codemirror_mode": {
    "name": "ipython",
    "version": 3
   },
   "file_extension": ".py",
   "mimetype": "text/x-python",
   "name": "python",
   "nbconvert_exporter": "python",
   "pygments_lexer": "ipython3",
   "version": "3.11.7"
  }
 },
 "nbformat": 4,
 "nbformat_minor": 5
}
