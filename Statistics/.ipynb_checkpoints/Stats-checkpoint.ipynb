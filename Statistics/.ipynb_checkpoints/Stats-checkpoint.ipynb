{
 "cells": [
  {
   "cell_type": "markdown",
   "id": "3239be57-d45d-48fb-bd6e-9d7a19b2ed43",
   "metadata": {},
   "source": [
    "# What is Statistics?\n",
    "\n",
    "## Statistics is the science of collecting, organizing and analyzing the data.\n",
    "\n",
    "## Reason to study statistics:- To make better decisions."
   ]
  },
  {
   "cell_type": "markdown",
   "id": "8d2bd0c2-a0ae-4412-b1d3-49766f4d4fc4",
   "metadata": {},
   "source": [
    "# What is data?\n",
    "\n",
    "## Facts or piece of information that can be measured.\n",
    "\n",
    "### Eg- IQ of a class, Ages of students in a class."
   ]
  },
  {
   "cell_type": "markdown",
   "id": "01f3a93f-4216-41f1-ad3e-f229382a5ef8",
   "metadata": {},
   "source": [
    "# Type of Statistics\n",
    "\n",
    "## 1. DESCRIPTIVE Statistics:-\n",
    "#### It consists of organizing and summarizing the data.\n",
    "\n",
    "## 2. INFERENTIAL Statistic:-\n",
    "### Techniques where in we use the data that we have measured to form conclusions."
   ]
  },
  {
   "cell_type": "markdown",
   "id": "ab328540-9fdf-4466-a565-a3b841d948d2",
   "metadata": {},
   "source": [
    "# Examples:\n",
    "### You have data of Class of Maths Student \n",
    "\n",
    "#### Marks_1stSem = [84, 78, 86, 72, 75, 65, 80, 81, 92, 95, 96, 97]\n",
    "\n",
    "## Descriptive -- What is the avreage marks of the student in the class ?\n",
    "## Inferential -- Are the marks of the students of this classroom similar to the age of the maths classroom in the college?"
   ]
  },
  {
   "cell_type": "markdown",
   "id": "f431083f-98d8-41f8-93c8-22d7ee8ac9ec",
   "metadata": {},
   "source": [
    "# Population:- All the peoples of a city.\n",
    "# Sample:- the data that you collect from population because you can't have access to each and everyone in the city."
   ]
  },
  {
   "cell_type": "markdown",
   "id": "90323bd9-ba42-4ba6-8705-853baf5b3ff2",
   "metadata": {},
   "source": [
    "# What are the sampling methods or Sampling Techniques?\n",
    "### In Statistics, the sampling method or sampling technique is the process of studying the population by gathering \n",
    "### information and analyzing that data. \n",
    "### It is the basis of the data where the sample space is enormous. \n",
    "\n",
    "## Resource:- https://byjus.com/maths/sampling-methods/"
   ]
  },
  {
   "cell_type": "markdown",
   "id": "508da56e-246b-4e75-95e6-b5e154ae2e7a",
   "metadata": {},
   "source": [
    "### Types of Sampling Method\n",
    "##### In Statistics, there are different sampling techniques available to get relevant results from the population. \n",
    "##### The two different types of sampling methods are:-\n",
    "\n",
    "1. Probability Sampling\n",
    "2. Non-probability Sampling"
   ]
  },
  {
   "cell_type": "code",
   "execution_count": 1,
   "id": "b8675bf4-deb1-45b3-804c-54f0d1d5ce6b",
   "metadata": {},
   "outputs": [],
   "source": [
    "# What is Probability Sampling?\n",
    "# The probability sampling method utilizes some form of random selection.\n",
    "# In this method, all the eligible individuals have a chance of selecting the sample from the whole sample space.\n",
    "# This method is more time consuming and expensive than the non-probability sampling method.\n",
    "# The benefit of using probability sampling is that it guarantees the sample that should be the representative of the population."
   ]
  },
  {
   "cell_type": "code",
   "execution_count": 2,
   "id": "9f1d1e89-8acd-49a0-b798-65cbf4a1b859",
   "metadata": {},
   "outputs": [],
   "source": [
    "# Probability Sampling Types\n",
    "# Probability Sampling methods are further classified into different types, such as simple random sampling, \n",
    "# systematic sampling, stratified sampling, and clustered sampling. \n",
    "# Let us discuss the different types of probability sampling methods along with illustrative examples here in detail."
   ]
  },
  {
   "cell_type": "markdown",
   "id": "9f43fe40-7fb6-4940-bd99-6d73d25c0cc6",
   "metadata": {},
   "source": [
    "# Variables:-\n",
    "\n",
    "##### A variable is a property which can take on any value.\n",
    "###### For eg. -- height of students of a class."
   ]
  },
  {
   "cell_type": "markdown",
   "id": "f587ad36-159a-4d06-9cf5-73c08843e740",
   "metadata": {},
   "source": [
    "## Types of variables:- \n",
    "1. Qualitative or Categorical Variables\n",
    "2. Quantitative Variables"
   ]
  },
  {
   "cell_type": "markdown",
   "id": "34d06290-1d33-4395-bc65-43884a0367a9",
   "metadata": {},
   "source": [
    "## Qualitative -- Based on some charateristics we can derive categorical variable. \n",
    "### for eg. - Gender, Blood Group, IQ etc.."
   ]
  },
  {
   "cell_type": "markdown",
   "id": "eb6be76c-a73c-4b74-9215-6e9af11af7a6",
   "metadata": {},
   "source": [
    "## Quantitative:- Measured Numerically{Add, Subtract, Multiply, Divide}\n",
    "### for eg. - Height, Age, Weight etc."
   ]
  },
  {
   "cell_type": "markdown",
   "id": "2aa8b07b-5009-4b71-a9ac-0321ef612608",
   "metadata": {},
   "source": [
    "## Types of Quantitative Variables:-\n",
    "1. Discrete Variables - Whole numbers, Integers -- eg. Total no. of children in a family, No. of bank accounts a person have.\n",
    "2. Continuous Variables - Floats, decimals, fractions, rationals, real nos. -- eg. Height, weight, rainfall."
   ]
  },
  {
   "cell_type": "code",
   "execution_count": 1,
   "id": "972b5abf-6cd4-4ff0-9d57-48bd9a08f7b3",
   "metadata": {},
   "outputs": [],
   "source": [
    "# Variable Measurement Scale:-\n",
    "# What is the Scale?\r",
    "# A scale is a device or an object used to measure or quantify any event or another object.\n",
    "\n",
    "# Levels of Measurements:-# 1.  Nominal# 2.  Ordinal# 3.  Interval# 4.  Ratio."
   ]
  },
  {
   "cell_type": "code",
   "execution_count": 12,
   "id": "1592c311-28ae-4930-94a5-dccab0b32c12",
   "metadata": {},
   "outputs": [],
   "source": [
    "# Frequency Distribution"
   ]
  }
 ],
 "metadata": {
  "kernelspec": {
   "display_name": "Python 3 (ipykernel)",
   "language": "python",
   "name": "python3"
  },
  "language_info": {
   "codemirror_mode": {
    "name": "ipython",
    "version": 3
   },
   "file_extension": ".py",
   "mimetype": "text/x-python",
   "name": "python",
   "nbconvert_exporter": "python",
   "pygments_lexer": "ipython3",
   "version": "3.11.7"
  }
 },
 "nbformat": 4,
 "nbformat_minor": 5
}
