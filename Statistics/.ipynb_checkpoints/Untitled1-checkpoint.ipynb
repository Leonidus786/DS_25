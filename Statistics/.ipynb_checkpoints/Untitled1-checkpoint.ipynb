{
 "cells": [
  {
   "cell_type": "code",
   "execution_count": 1,
   "id": "df75cd02-036a-49a4-a081-e53b75901af9",
   "metadata": {},
   "outputs": [],
   "source": [
    "import scipy.stats as stats\n",
    "import math"
   ]
  },
  {
   "cell_type": "code",
   "execution_count": 2,
   "id": "523d5c6e-3f61-492b-b0ff-3fe5b62c99d1",
   "metadata": {},
   "outputs": [
    {
     "name": "stdout",
     "output_type": "stream",
     "text": [
      "0.7905694150420945\n"
     ]
    }
   ],
   "source": [
    "\n",
    "# Specify the number of occurences (x), the sample size (n), and the proportion claimed in the null-hypothesis (p)\n",
    "x = 10\n",
    "n = 40\n",
    "p = 0.2\n",
    "\n",
    "# Calculate the sample proportion\n",
    "p_hat = x/n\n",
    "\n",
    "# Calculate and print the test statistic\n",
    "print((p_hat-p)/(math.sqrt((p*(1-p))/(n))))"
   ]
  },
  {
   "cell_type": "code",
   "execution_count": null,
   "id": "3e0f59fa-7eab-4354-8d24-fa28ee9c04b1",
   "metadata": {},
   "outputs": [],
   "source": []
  }
 ],
 "metadata": {
  "kernelspec": {
   "display_name": "Python 3 (ipykernel)",
   "language": "python",
   "name": "python3"
  },
  "language_info": {
   "codemirror_mode": {
    "name": "ipython",
    "version": 3
   },
   "file_extension": ".py",
   "mimetype": "text/x-python",
   "name": "python",
   "nbconvert_exporter": "python",
   "pygments_lexer": "ipython3",
   "version": "3.11.7"
  }
 },
 "nbformat": 4,
 "nbformat_minor": 5
}
