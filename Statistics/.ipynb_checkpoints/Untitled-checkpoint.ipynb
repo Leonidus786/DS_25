{
 "cells": [
  {
   "cell_type": "code",
   "execution_count": 1,
   "id": "67e87b2e-e25f-4de0-80f4-4ae2da31b376",
   "metadata": {},
   "outputs": [],
   "source": [
    "import numpy as np"
   ]
  },
  {
   "cell_type": "code",
   "execution_count": 6,
   "id": "5891a155-e9f5-4d28-b967-c4e789198c62",
   "metadata": {},
   "outputs": [],
   "source": [
    "x = [1, 1, 2, 2, 3, 3, 4, 5, 5, 6]"
   ]
  },
  {
   "cell_type": "code",
   "execution_count": 7,
   "id": "cd582e89-69a6-4b1b-8372-6e9de932e27f",
   "metadata": {},
   "outputs": [
    {
     "data": {
      "text/plain": [
       "3.2"
      ]
     },
     "execution_count": 7,
     "metadata": {},
     "output_type": "execute_result"
    }
   ],
   "source": [
    "y = np.mean(x)\n",
    "y"
   ]
  },
  {
   "cell_type": "code",
   "execution_count": 8,
   "id": "1ee2cdd2-dc5c-4bc9-90aa-b70ac23e3e06",
   "metadata": {},
   "outputs": [
    {
     "data": {
      "text/plain": [
       "2.8333333333333335"
      ]
     },
     "execution_count": 8,
     "metadata": {},
     "output_type": "execute_result"
    }
   ],
   "source": [
    "z = [1, 2, 2, 3, 4, 5]\n",
    "\n",
    "c = np.mean(z)\n",
    "c"
   ]
  },
  {
   "cell_type": "code",
   "execution_count": 1,
   "id": "b24fdb74-4711-4933-932c-4d4fb103d055",
   "metadata": {},
   "outputs": [
    {
     "name": "stdout",
     "output_type": "stream",
     "text": [
      "[1 2 2 3 4 5]\n",
      "\n",
      "Mean is 2.83\n",
      "\n",
      "X-u is -1.83\n",
      "X-u SQUARE is 3.35\n",
      "X-u is -0.83\n",
      "X-u SQUARE is 0.69\n",
      "X-u is -0.83\n",
      "X-u SQUARE is 0.69\n",
      "X-u is 0.17\n",
      "X-u SQUARE is 0.03\n",
      "X-u is 1.17\n",
      "X-u SQUARE is 1.37\n",
      "X-u is 2.17\n",
      "X-u SQUARE is 4.71\n",
      "\n",
      "POPULATION VARIANCE IS 1.81\n"
     ]
    }
   ],
   "source": [
    "def popvari():\n",
    "    import numpy as np\n",
    "    x = np.array([1,2,2,3,4,5])\n",
    "    print(x)\n",
    "    mean = np.mean(x)\n",
    "    a = round(mean,2)\n",
    "    print()\n",
    "    print(f\"Mean is {a}\")\n",
    "    print()\n",
    "    adding = 0\n",
    "    for n in x :\n",
    "        u = n - a\n",
    "        U = round(u,2)\n",
    "        print(f\"X-u is {U}\")\n",
    "        x_m2 = U ** 2\n",
    "        xm2 = round(x_m2,2)\n",
    "        print(f\"X-u SQUARE is {xm2}\")\n",
    "        adding += xm2\n",
    "\n",
    "    print()\n",
    "\n",
    "    pop_vari = adding / len(x)\n",
    "    variance = round(pop_vari,2)\n",
    "    print(f\"POPULATION VARIANCE IS {variance}\")\n",
    "\n",
    "\n",
    "\n",
    "popvari()"
   ]
  }
 ],
 "metadata": {
  "kernelspec": {
   "display_name": "Python 3 (ipykernel)",
   "language": "python",
   "name": "python3"
  },
  "language_info": {
   "codemirror_mode": {
    "name": "ipython",
    "version": 3
   },
   "file_extension": ".py",
   "mimetype": "text/x-python",
   "name": "python",
   "nbconvert_exporter": "python",
   "pygments_lexer": "ipython3",
   "version": "3.11.7"
  }
 },
 "nbformat": 4,
 "nbformat_minor": 5
}
