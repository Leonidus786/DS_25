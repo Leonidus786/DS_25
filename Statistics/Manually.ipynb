{
 "cells": [
  {
   "cell_type": "code",
   "execution_count": 1,
   "id": "442b87ec-8cca-4479-8401-793480d9c8f7",
   "metadata": {},
   "outputs": [],
   "source": [
    "## Outliers"
   ]
  },
  {
   "cell_type": "code",
   "execution_count": 22,
   "id": "b1f187be-2942-475a-b7ba-5c337269a5b0",
   "metadata": {},
   "outputs": [],
   "source": [
    "import numpy as np\n",
    "import matplotlib.pyplot as pyplot\n",
    "%matplotlib inline"
   ]
  },
  {
   "cell_type": "code",
   "execution_count": 38,
   "id": "e6c32655-e2d5-4b14-b4d2-3758963ae110",
   "metadata": {},
   "outputs": [],
   "source": [
    "# define my dataset\n",
    "\n",
    "dataset= [11,10,12,14,12,13,15,17,102,14,17,18,19,107,12,10,13,14,15,16,17,18,109,12,13,14,15,16,17,18,19,10,110,19,18,17,16,15,14,13,12,11,10]"
   ]
  },
  {
   "cell_type": "code",
   "execution_count": 39,
   "id": "7ec783ca-048c-4c3b-9faa-b231df977a6d",
   "metadata": {},
   "outputs": [],
   "source": [
    "outliers = []\n",
    "\n",
    "def detect_outliers(data):\n",
    "    threshold=3\n",
    "    mean = np.mean(data)\n",
    "    std = np.std(data)\n",
    "    \n",
    "    for i in data:\n",
    "        z_score = (i-mean)/std\n",
    "        if np.abs(z_score)>threshold:\n",
    "            outliers.append(i)\n",
    "    \n",
    "    return outliers"
   ]
  },
  {
   "cell_type": "code",
   "execution_count": 40,
   "id": "467ed6b6-4991-4ecc-96f8-d68afd667b68",
   "metadata": {},
   "outputs": [
    {
     "data": {
      "text/plain": [
       "[107, 109, 110]"
      ]
     },
     "execution_count": 40,
     "metadata": {},
     "output_type": "execute_result"
    }
   ],
   "source": [
    "detect_outliers(dataset)"
   ]
  },
  {
   "cell_type": "code",
   "execution_count": 41,
   "id": "c2516999-8a16-4a8f-a5e9-74dc51bfbabe",
   "metadata": {},
   "outputs": [
    {
     "data": {
      "text/plain": [
       "23.11627906976744"
      ]
     },
     "execution_count": 41,
     "metadata": {},
     "output_type": "execute_result"
    }
   ],
   "source": [
    "mean = np.mean(dataset)\n",
    "mean"
   ]
  },
  {
   "cell_type": "code",
   "execution_count": 42,
   "id": "394a243a-5361-430a-9a27-a8dccbe33d7a",
   "metadata": {},
   "outputs": [
    {
     "data": {
      "text/plain": [
       "{'whiskers': [<matplotlib.lines.Line2D at 0x19fd5a6ebd0>,\n",
       "  <matplotlib.lines.Line2D at 0x19fd5a6f810>],\n",
       " 'caps': [<matplotlib.lines.Line2D at 0x19fd5a784d0>,\n",
       "  <matplotlib.lines.Line2D at 0x19fd5a78fd0>],\n",
       " 'boxes': [<matplotlib.lines.Line2D at 0x19fd5a6e0d0>],\n",
       " 'medians': [<matplotlib.lines.Line2D at 0x19fd5a79ad0>],\n",
       " 'fliers': [<matplotlib.lines.Line2D at 0x19fd5a7a550>],\n",
       " 'means': []}"
      ]
     },
     "execution_count": 42,
     "metadata": {},
     "output_type": "execute_result"
    },
    {
     "data": {
      "image/png": "[encoded data removed]",
      "text/plain": [
       "<Figure size 640x480 with 1 Axes>"
      ]
     },
     "metadata": {},
     "output_type": "display_data"
    }
   ],
   "source": [
    "pyplot.boxplot(dataset)"
   ]
  },
  {
   "cell_type": "code",
   "execution_count": 44,
   "id": "33c62893-f71b-4a82-bb9d-94f68b972e2f",
   "metadata": {},
   "outputs": [
    {
     "data": {
      "text/plain": [
       "(array([39.,  0.,  0.,  0.,  0.,  0.,  0.,  0.,  0.,  4.]),\n",
       " array([ 10.,  20.,  30.,  40.,  50.,  60.,  70.,  80.,  90., 100., 110.]),\n",
       " <BarContainer object of 10 artists>)"
      ]
     },
     "execution_count": 44,
     "metadata": {},
     "output_type": "execute_result"
    },
    {
     "data": {
      "image/png": "[encoded data removed]",
      "text/plain": [
       "<Figure size 640x480 with 1 Axes>"
      ]
     },
     "metadata": {},
     "output_type": "display_data"
    }
   ],
   "source": [
    "pyplot.hist(dataset)"
   ]
  },
  {
   "cell_type": "code",
   "execution_count": 45,
   "id": "ff77fae3-8915-4418-a077-1c85d9940527",
   "metadata": {},
   "outputs": [],
   "source": [
    "import seaborn as sns"
   ]
  },
  {
   "cell_type": "code",
   "execution_count": 48,
   "id": "bb60f9fe-3c66-4ffe-82ed-1286ee4beab1",
   "metadata": {},
   "outputs": [
    {
     "data": {
      "image/png": "[encoded data removed]",
      "text/plain": [
       "<Figure size 640x480 with 1 Axes>"
      ]
     },
     "metadata": {},
     "output_type": "display_data"
    }
   ],
   "source": [
    "sns.boxplot(x=dataset, orient='h')\n",
    "\n",
    "# Set the x-axis label\n",
    "pyplot.xlabel('Value')\n",
    "\n",
    "# Show the plot\n",
    "pyplot.show()"
   ]
  },
  {
   "cell_type": "code",
   "execution_count": null,
   "id": "8da6dc70-4031-4981-9aac-39a63955c235",
   "metadata": {},
   "outputs": [],
   "source": []
  },
  {
   "cell_type": "markdown",
   "id": "f4d85079-6f65-46d3-bb40-6b916e6f3975",
   "metadata": {},
   "source": [
    "# IQR\n",
    "1. Sort the data\n",
    "2. Calculate Q1 aqnd Q3\n",
    "3. IQR(Q3-Q1)\n",
    "4. Find the Lower fence(q1-1.5(iqr))\n",
    "5. Find the upper fence(q3+1.5(iqr))"
   ]
  },
  {
   "cell_type": "code",
   "execution_count": 50,
   "id": "1d23c17e-99b7-40de-a29c-2e6bee58fe3e",
   "metadata": {},
   "outputs": [
    {
     "data": {
      "text/plain": [
       "[10,\n",
       " 10,\n",
       " 10,\n",
       " 10,\n",
       " 11,\n",
       " 11,\n",
       " 12,\n",
       " 12,\n",
       " 12,\n",
       " 12,\n",
       " 12,\n",
       " 13,\n",
       " 13,\n",
       " 13,\n",
       " 13,\n",
       " 14,\n",
       " 14,\n",
       " 14,\n",
       " 14,\n",
       " 14,\n",
       " 15,\n",
       " 15,\n",
       " 15,\n",
       " 15,\n",
       " 16,\n",
       " 16,\n",
       " 16,\n",
       " 17,\n",
       " 17,\n",
       " 17,\n",
       " 17,\n",
       " 17,\n",
       " 18,\n",
       " 18,\n",
       " 18,\n",
       " 18,\n",
       " 19,\n",
       " 19,\n",
       " 19,\n",
       " 102,\n",
       " 107,\n",
       " 109,\n",
       " 110]"
      ]
     },
     "execution_count": 50,
     "metadata": {},
     "output_type": "execute_result"
    }
   ],
   "source": [
    "dataset = sorted(dataset)\n",
    "dataset"
   ]
  },
  {
   "cell_type": "code",
   "execution_count": 51,
   "id": "ad4846c2-7c7c-4035-a03e-238702fc871d",
   "metadata": {},
   "outputs": [],
   "source": [
    "q1,q3=np.percentile(dataset,[25,75])"
   ]
  },
  {
   "cell_type": "code",
   "execution_count": 52,
   "id": "8dc54fda-283c-4274-b14a-52c4f67d554a",
   "metadata": {},
   "outputs": [
    {
     "name": "stdout",
     "output_type": "stream",
     "text": [
      "12.5 17.5\n"
     ]
    }
   ],
   "source": [
    "print(q1,q3)"
   ]
  },
  {
   "cell_type": "code",
   "execution_count": 54,
   "id": "9a42abd4-ee4f-4c6b-a591-8f367575fb93",
   "metadata": {},
   "outputs": [
    {
     "name": "stdout",
     "output_type": "stream",
     "text": [
      "5.0\n"
     ]
    }
   ],
   "source": [
    "iqr = q3-q1\n",
    "print(iqr)"
   ]
  },
  {
   "cell_type": "code",
   "execution_count": 55,
   "id": "740b46cc-8445-4923-9ea8-1e9d0902175a",
   "metadata": {},
   "outputs": [],
   "source": [
    "## Find the lower fence and higher fence\n",
    "lower_fence=q1-(1.5*iqr)\n",
    "higher_fence=q3+(1.5* iqr)"
   ]
  },
  {
   "cell_type": "code",
   "execution_count": 56,
   "id": "c037d0ac-e611-4708-afe0-43d8c2e5de2f",
   "metadata": {},
   "outputs": [
    {
     "name": "stdout",
     "output_type": "stream",
     "text": [
      "5.0 25.0\n"
     ]
    }
   ],
   "source": [
    "print(lower_fence, higher_fence)"
   ]
  }
 ],
 "metadata": {
  "kernelspec": {
   "display_name": "Python 3 (ipykernel)",
   "language": "python",
   "name": "python3"
  },
  "language_info": {
   "codemirror_mode": {
    "name": "ipython",
    "version": 3
   },
   "file_extension": ".py",
   "mimetype": "text/x-python",
   "name": "python",
   "nbconvert_exporter": "python",
   "pygments_lexer": "ipython3",
   "version": "3.11.7"
  }
 },
 "nbformat": 4,
 "nbformat_minor": 5
}
