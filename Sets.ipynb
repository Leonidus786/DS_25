{
 "cells": [
  {
   "cell_type": "code",
   "execution_count": 5,
   "id": "19cdb00e-67e7-478a-9550-fdb24bf9ff76",
   "metadata": {},
   "outputs": [],
   "source": [
    "my_set = {1000,\"Amit\", 599999, \"Bulbul\", 253521321, \"Eagle\", 87485}"
   ]
  },
  {
   "cell_type": "code",
   "execution_count": 6,
   "id": "c3b8d2f9-7321-41e2-ae9b-0e0cbf211033",
   "metadata": {},
   "outputs": [
    {
     "data": {
      "text/plain": [
       "set"
      ]
     },
     "execution_count": 6,
     "metadata": {},
     "output_type": "execute_result"
    }
   ],
   "source": [
    "type(my_set)"
   ]
  },
  {
   "cell_type": "code",
   "execution_count": 8,
   "id": "a446c3a2-6029-4fcc-b80c-3e7df6d53963",
   "metadata": {},
   "outputs": [
    {
     "data": {
      "text/plain": [
       "{1000, 253521321, 599999, 87485, 'Amit', 'Bulbul', 'Eagle'}"
      ]
     },
     "execution_count": 8,
     "metadata": {},
     "output_type": "execute_result"
    }
   ],
   "source": [
    "my_set"
   ]
  },
  {
   "cell_type": "code",
   "execution_count": 14,
   "id": "d1bfbaba-c203-4b4b-a746-aaf87c90b1a2",
   "metadata": {},
   "outputs": [
    {
     "data": {
      "text/plain": [
       "3"
      ]
     },
     "execution_count": 14,
     "metadata": {},
     "output_type": "execute_result"
    }
   ],
   "source": [
    "m_s = {'Apple',True, False, 0, 1, 'Apple'}\n",
    "len(m_s)"
   ]
  },
  {
   "cell_type": "code",
   "execution_count": 12,
   "id": "d805fc2d-a97f-496f-9fbb-a9027f95ecbc",
   "metadata": {},
   "outputs": [
    {
     "data": {
      "text/plain": [
       "{'Apple', False, True}"
      ]
     },
     "execution_count": 12,
     "metadata": {},
     "output_type": "execute_result"
    }
   ],
   "source": [
    "m_s"
   ]
  },
  {
   "cell_type": "code",
   "execution_count": 13,
   "id": "6568d02e-9676-47f4-8451-3aed3fd01ff4",
   "metadata": {},
   "outputs": [
    {
     "data": {
      "text/plain": [
       "3"
      ]
     },
     "execution_count": 13,
     "metadata": {},
     "output_type": "execute_result"
    }
   ],
   "source": [
    "len(m_s)"
   ]
  },
  {
   "cell_type": "code",
   "execution_count": 15,
   "id": "85cc4b1f-63ca-4baa-988c-253b8e387945",
   "metadata": {},
   "outputs": [
    {
     "name": "stdout",
     "output_type": "stream",
     "text": [
      "Bulbul\n",
      "Eagle\n",
      "Amit\n",
      "1000\n",
      "253521321\n",
      "87485\n",
      "599999\n"
     ]
    }
   ],
   "source": [
    "for d in my_set:\n",
    "    print(d)"
   ]
  },
  {
   "cell_type": "code",
   "execution_count": 16,
   "id": "75244677-b42e-4f27-bf3e-165d00cbc638",
   "metadata": {},
   "outputs": [
    {
     "name": "stdout",
     "output_type": "stream",
     "text": [
      "{'banana', 'apple', 'cherry', 'orange'}\n"
     ]
    }
   ],
   "source": [
    "thisset = {\"apple\", \"banana\", \"cherry\"}\n",
    "\n",
    "thisset.add(\"orange\")\n",
    "\n",
    "print(thisset)"
   ]
  },
  {
   "cell_type": "code",
   "execution_count": 17,
   "id": "8b0f24da-4e83-4d24-9651-2d26aa78f6cf",
   "metadata": {},
   "outputs": [],
   "source": [
    "# update()\n",
    "# union ()\n",
    "# intersection()"
   ]
  },
  {
   "cell_type": "code",
   "execution_count": 18,
   "id": "bff1e698-3907-47b8-9b55-6dbe65ce96f5",
   "metadata": {},
   "outputs": [
    {
     "data": {
      "text/plain": [
       "'banana'"
      ]
     },
     "execution_count": 18,
     "metadata": {},
     "output_type": "execute_result"
    }
   ],
   "source": [
    "thisset.pop()"
   ]
  },
  {
   "cell_type": "code",
   "execution_count": 19,
   "id": "e23a0d87-8fcc-42c8-bf79-c51fb20fe0b0",
   "metadata": {},
   "outputs": [
    {
     "data": {
      "text/plain": [
       "{'apple', 'cherry', 'orange'}"
      ]
     },
     "execution_count": 19,
     "metadata": {},
     "output_type": "execute_result"
    }
   ],
   "source": [
    "thisset"
   ]
  },
  {
   "cell_type": "code",
   "execution_count": 20,
   "id": "849c9151-e508-4d67-86b6-e3976843fd69",
   "metadata": {},
   "outputs": [
    {
     "data": {
      "text/plain": [
       "'apple'"
      ]
     },
     "execution_count": 20,
     "metadata": {},
     "output_type": "execute_result"
    }
   ],
   "source": [
    "thisset.pop()"
   ]
  },
  {
   "cell_type": "code",
   "execution_count": null,
   "id": "ad805df2-77ac-4f91-82b4-a7fb2c46adb7",
   "metadata": {},
   "outputs": [],
   "source": []
  }
 ],
 "metadata": {
  "kernelspec": {
   "display_name": "Python 3 (ipykernel)",
   "language": "python",
   "name": "python3"
  },
  "language_info": {
   "codemirror_mode": {
    "name": "ipython",
    "version": 3
   },
   "file_extension": ".py",
   "mimetype": "text/x-python",
   "name": "python",
   "nbconvert_exporter": "python",
   "pygments_lexer": "ipython3",
   "version": "3.11.7"
  }
 },
 "nbformat": 4,
 "nbformat_minor": 5
}
