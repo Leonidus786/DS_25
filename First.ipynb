{
 "cells": [
  {
   "cell_type": "markdown",
   "id": "5ea7f2a8-bfc1-4fbc-a9a2-f8e87b686fe5",
   "metadata": {},
   "source": [
    "# Intro to python \n",
    "# output function --> print()\n",
    "# Variables -- declaration, naming rules, type()\n",
    "# Basic data types -- > Integer, Float, Complex, String\n",
    "# Typecasting \n",
    "# Commenting \n",
    "# Installation of Anaconda, python.org, Markdown"
   ]
  },
  {
   "cell_type": "code",
   "execution_count": 1,
   "id": "541ac576-9d8e-45af-963c-3382f40b3337",
   "metadata": {},
   "outputs": [
    {
     "name": "stdout",
     "output_type": "stream",
     "text": [
      "Hello World\n"
     ]
    }
   ],
   "source": [
    "# Single line comment\n",
    "\n",
    "# This is a cow\n",
    "\n",
    "print(\"Hello World\")"
   ]
  },
  {
   "cell_type": "code",
   "execution_count": 2,
   "id": "4dacd92e-5d6f-4f6a-bc3b-bd2bf845460e",
   "metadata": {},
   "outputs": [
    {
     "data": {
      "text/plain": [
       "'Python works on different platforms (Windows, Mac, Linux, Raspberry Pi, etc).\\nPython has a simple syntax similar to the English language.\\nPython has syntax that allows developers to write programs with fewer lines than some other programming languages.\\nPython runs on an interpreter system, meaning that code can be executed as soon as it is written. This means that prototyping can be very quick.\\nPython can be treated in a procedural way, an object-oriented way or a functional way.'"
      ]
     },
     "execution_count": 2,
     "metadata": {},
     "output_type": "execute_result"
    }
   ],
   "source": [
    "'''Python works on different platforms (Windows, Mac, Linux, Raspberry Pi, etc).\n",
    "Python has a simple syntax similar to the English language.\n",
    "Python has syntax that allows developers to write programs with fewer lines than some other programming languages.\n",
    "Python runs on an interpreter system, meaning that code can be executed as soon as it is written. This means that prototyping can be very quick.\n",
    "Python can be treated in a procedural way, an object-oriented way or a functional way.'''"
   ]
  },
  {
   "cell_type": "markdown",
   "id": "87255c54-a634-418f-b697-4a744fec2bcb",
   "metadata": {},
   "source": [
    "# Python works on different platforms (Windows, Mac, Linux, Raspberry Pi, etc).\r",
    "- \n",
    "Python has a simple syntax similar to the English language \r",
    "- P\n",
    "Python has syntax that allows developers to write programs with fewer lines than some other programming languages- .\r\n",
    "Python runs on an interpreter system, meaning that code can be executed as soon as it is written. This means that prototyping can be very quic- k.\r\n",
    "Python can be treated in a procedural way, an object-oriented way or a functional way."
   ]
  },
  {
   "cell_type": "code",
   "execution_count": 3,
   "id": "ebf6cf0d-c13f-4ce1-824d-eb104052edfd",
   "metadata": {},
   "outputs": [
    {
     "name": "stdout",
     "output_type": "stream",
     "text": [
      "Hello\n"
     ]
    }
   ],
   "source": [
    "a = 10\n",
    "if a>5:\n",
    "    print(\"Hello\")"
   ]
  },
  {
   "cell_type": "code",
   "execution_count": 4,
   "id": "afd339c4-7c7c-41e8-9fdb-6c651070b1cd",
   "metadata": {},
   "outputs": [],
   "source": [
    "import sys"
   ]
  },
  {
   "cell_type": "code",
   "execution_count": 5,
   "id": "593ecbf2-1fec-4178-bfd4-d90bcb5d1192",
   "metadata": {},
   "outputs": [
    {
     "name": "stdout",
     "output_type": "stream",
     "text": [
      "3.11.7 | packaged by Anaconda, Inc. | (main, Dec 15 2023, 18:05:47) [MSC v.1916 64 bit (AMD64)]\n"
     ]
    }
   ],
   "source": [
    "print(sys.version)"
   ]
  },
  {
   "cell_type": "code",
   "execution_count": 6,
   "id": "c0516493-3e2b-4973-8880-823f338751ad",
   "metadata": {},
   "outputs": [
    {
     "name": "stdout",
     "output_type": "stream",
     "text": [
      "15\n"
     ]
    }
   ],
   "source": [
    "a = 10\n",
    "\n",
    "if a==10:\n",
    "    print(10 + 5 )"
   ]
  },
  {
   "cell_type": "code",
   "execution_count": 7,
   "id": "9f9d0213-3456-44e7-862b-ed2dd7615298",
   "metadata": {},
   "outputs": [
    {
     "name": "stdout",
     "output_type": "stream",
     "text": [
      "15\n"
     ]
    }
   ],
   "source": [
    "print(10 + 5)"
   ]
  },
  {
   "cell_type": "code",
   "execution_count": 8,
   "id": "d14186f3-9f20-4812-8803-e42c32d20b2b",
   "metadata": {},
   "outputs": [
    {
     "name": "stdout",
     "output_type": "stream",
     "text": [
      "<class 'int'>\n"
     ]
    }
   ],
   "source": [
    "#variable -- It is a container which hold some value. Which can be varied from place to place. Below 'a' is a variable.\n",
    "\n",
    "a= 10\n",
    "\n",
    "print(type(a))"
   ]
  },
  {
   "cell_type": "code",
   "execution_count": 9,
   "id": "1b027e67-11d3-48ba-976c-96cef7573971",
   "metadata": {},
   "outputs": [
    {
     "data": {
      "text/plain": [
       "10"
      ]
     },
     "execution_count": 9,
     "metadata": {},
     "output_type": "execute_result"
    }
   ],
   "source": [
    "a"
   ]
  },
  {
   "cell_type": "code",
   "execution_count": 10,
   "id": "4f46d1f2-5787-4ae6-b8c3-6f529404742b",
   "metadata": {},
   "outputs": [],
   "source": [
    "a = \"Abhi\""
   ]
  },
  {
   "cell_type": "code",
   "execution_count": 11,
   "id": "9557caf2-e4b9-45dd-8319-7057de48ae06",
   "metadata": {},
   "outputs": [
    {
     "data": {
      "text/plain": [
       "'Abhi'"
      ]
     },
     "execution_count": 11,
     "metadata": {},
     "output_type": "execute_result"
    }
   ],
   "source": [
    "a"
   ]
  },
  {
   "cell_type": "code",
   "execution_count": 12,
   "id": "7b9acd09-5f70-4b51-9650-e342b2fe4e74",
   "metadata": {},
   "outputs": [
    {
     "name": "stdout",
     "output_type": "stream",
     "text": [
      "<class 'str'>\n"
     ]
    }
   ],
   "source": [
    "print(type(a))"
   ]
  },
  {
   "cell_type": "code",
   "execution_count": 13,
   "id": "3728a41c-30b6-4c24-baf5-3af0fa6dc8fa",
   "metadata": {},
   "outputs": [
    {
     "data": {
      "text/plain": [
       "'Python works on different platforms (Windows, Mac, Linux, Raspberry Pi, etc).\\nPython has a simple syntax similar to the English language.\\nPython has syntax that allows developers to write programs with fewer lines than some other programming languages.\\nPython runs on an interpreter system, meaning that code can be executed as soon as it is written. This means that prototyping can be very quick.\\nPython can be treated in a procedural way, an object-oriented way or a functional way.'"
      ]
     },
     "execution_count": 13,
     "metadata": {},
     "output_type": "execute_result"
    }
   ],
   "source": [
    "\"\"\"Python works on different platforms (Windows, Mac, Linux, Raspberry Pi, etc).\n",
    "Python has a simple syntax similar to the English language.\n",
    "Python has syntax that allows developers to write programs with fewer lines than some other programming languages.\n",
    "Python runs on an interpreter system, meaning that code can be executed as soon as it is written. This means that prototyping can be very quick.\n",
    "Python can be treated in a procedural way, an object-oriented way or a functional way.\"\"\""
   ]
  },
  {
   "cell_type": "code",
   "execution_count": 15,
   "id": "a2cac3b3-09cf-4730-b76f-6179e7f469d6",
   "metadata": {},
   "outputs": [],
   "source": [
    "b = \"Cow\"\n",
    "c = 9\n",
    "d = 3 + 2j\n",
    "e = 1.5"
   ]
  },
  {
   "cell_type": "code",
   "execution_count": 20,
   "id": "576b34e7-1af5-40d9-a648-840cfbae884b",
   "metadata": {},
   "outputs": [
    {
     "data": {
      "text/plain": [
       "str"
      ]
     },
     "execution_count": 20,
     "metadata": {},
     "output_type": "execute_result"
    }
   ],
   "source": [
    "type(b)"
   ]
  },
  {
   "cell_type": "code",
   "execution_count": 21,
   "id": "4ac6c542-ebb9-4f53-9224-a1acb927ebf9",
   "metadata": {},
   "outputs": [
    {
     "data": {
      "text/plain": [
       "int"
      ]
     },
     "execution_count": 21,
     "metadata": {},
     "output_type": "execute_result"
    }
   ],
   "source": [
    "type(c)"
   ]
  },
  {
   "cell_type": "code",
   "execution_count": 22,
   "id": "94c6f860-9aae-4131-8760-d4f71104206d",
   "metadata": {
    "scrolled": true
   },
   "outputs": [
    {
     "data": {
      "text/plain": [
       "complex"
      ]
     },
     "execution_count": 22,
     "metadata": {},
     "output_type": "execute_result"
    }
   ],
   "source": [
    "type(d)"
   ]
  },
  {
   "cell_type": "code",
   "execution_count": 23,
   "id": "424f8de3-7316-4198-a37d-fd904e89e1ac",
   "metadata": {
    "scrolled": true
   },
   "outputs": [
    {
     "data": {
      "text/plain": [
       "float"
      ]
     },
     "execution_count": 23,
     "metadata": {},
     "output_type": "execute_result"
    }
   ],
   "source": [
    "type(e)"
   ]
  },
  {
   "cell_type": "code",
   "execution_count": 24,
   "id": "4aaee0e1-e688-483d-8e21-cfbe53f5d28b",
   "metadata": {},
   "outputs": [],
   "source": [
    "f = 'a'"
   ]
  },
  {
   "cell_type": "code",
   "execution_count": 26,
   "id": "91f1f2af-a4b5-4b34-ab0f-4644f5ce2ec6",
   "metadata": {},
   "outputs": [
    {
     "data": {
      "text/plain": [
       "str"
      ]
     },
     "execution_count": 26,
     "metadata": {},
     "output_type": "execute_result"
    }
   ],
   "source": [
    "type(f)"
   ]
  },
  {
   "cell_type": "code",
   "execution_count": 29,
   "id": "364ce4b5-66d7-45fe-83de-1404974f1289",
   "metadata": {},
   "outputs": [],
   "source": [
    "# typecasting, typeconversion -- converting one data type into another.\n",
    "e = str(e)"
   ]
  },
  {
   "cell_type": "code",
   "execution_count": 28,
   "id": "5ab2db5a-e828-4632-af20-515053701be9",
   "metadata": {},
   "outputs": [
    {
     "data": {
      "text/plain": [
       "str"
      ]
     },
     "execution_count": 28,
     "metadata": {},
     "output_type": "execute_result"
    }
   ],
   "source": [
    "type(e)"
   ]
  },
  {
   "cell_type": "code",
   "execution_count": 30,
   "id": "3d889a43-a08e-4f29-8f51-5f5922ce4134",
   "metadata": {},
   "outputs": [
    {
     "data": {
      "text/plain": [
       "int"
      ]
     },
     "execution_count": 30,
     "metadata": {},
     "output_type": "execute_result"
    }
   ],
   "source": [
    "type(c)"
   ]
  },
  {
   "cell_type": "code",
   "execution_count": 31,
   "id": "0273373e-b345-4b87-b2fb-5db36960b851",
   "metadata": {},
   "outputs": [],
   "source": [
    "c = float(c)"
   ]
  },
  {
   "cell_type": "code",
   "execution_count": 32,
   "id": "2d1dcbd0-60f5-4162-9b9a-f02d961fc775",
   "metadata": {},
   "outputs": [
    {
     "data": {
      "text/plain": [
       "9.0"
      ]
     },
     "execution_count": 32,
     "metadata": {},
     "output_type": "execute_result"
    }
   ],
   "source": [
    "c"
   ]
  },
  {
   "cell_type": "code",
   "execution_count": 33,
   "id": "a00633ae-9739-4abb-870f-dbd345696e35",
   "metadata": {},
   "outputs": [
    {
     "data": {
      "text/plain": [
       "float"
      ]
     },
     "execution_count": 33,
     "metadata": {},
     "output_type": "execute_result"
    }
   ],
   "source": [
    "type(c)"
   ]
  },
  {
   "cell_type": "code",
   "execution_count": 34,
   "id": "1731e5c8-cb4d-40de-b495-4a77699cc2a5",
   "metadata": {},
   "outputs": [
    {
     "name": "stdout",
     "output_type": "stream",
     "text": [
      "<class 'float'>\n"
     ]
    }
   ],
   "source": [
    "print(type(c))"
   ]
  },
  {
   "cell_type": "code",
   "execution_count": 35,
   "id": "22692c56-55d4-4660-935f-dcf1402a4197",
   "metadata": {},
   "outputs": [],
   "source": [
    "a = 4\n",
    "A = \"Sally\"\n",
    "#A will not overwrite a"
   ]
  },
  {
   "cell_type": "code",
   "execution_count": 36,
   "id": "89d957cc-6215-45bb-a7a8-bad5fe10d661",
   "metadata": {},
   "outputs": [
    {
     "data": {
      "text/plain": [
       "4"
      ]
     },
     "execution_count": 36,
     "metadata": {},
     "output_type": "execute_result"
    }
   ],
   "source": [
    "a"
   ]
  },
  {
   "cell_type": "code",
   "execution_count": 37,
   "id": "1b3fe532-288d-46ff-a00a-f98686ec2a30",
   "metadata": {},
   "outputs": [
    {
     "data": {
      "text/plain": [
       "'Sally'"
      ]
     },
     "execution_count": 37,
     "metadata": {},
     "output_type": "execute_result"
    }
   ],
   "source": [
    "A"
   ]
  },
  {
   "cell_type": "code",
   "execution_count": 38,
   "id": "82faed25-1a7b-49e0-9fbc-b6c3c9d0a642",
   "metadata": {},
   "outputs": [],
   "source": [
    "Whole_numbers = [1,2,0,6,7]"
   ]
  },
  {
   "cell_type": "code",
   "execution_count": 39,
   "id": "fe1a557b-def5-420d-8427-d45a2aecaae6",
   "metadata": {},
   "outputs": [
    {
     "data": {
      "text/plain": [
       "list"
      ]
     },
     "execution_count": 39,
     "metadata": {},
     "output_type": "execute_result"
    }
   ],
   "source": [
    "type(Whole_numbers)"
   ]
  },
  {
   "cell_type": "code",
   "execution_count": 47,
   "id": "47d00e5b-fcff-462d-927d-fde907fc8a1b",
   "metadata": {},
   "outputs": [],
   "source": [
    "# Assigning multiple variables\n",
    "#Make sure the number of variables matches the number of values, or else you will get an error."
   ]
  },
  {
   "cell_type": "code",
   "execution_count": 46,
   "id": "4bbc85cc-c854-4965-a7ef-8582a06761e6",
   "metadata": {},
   "outputs": [],
   "source": [
    "f,g,h,i = \"apple\", \"mango\", 4+5j, 3.141"
   ]
  },
  {
   "cell_type": "code",
   "execution_count": 41,
   "id": "3b23589e-d6c8-4f0e-8e48-1a25d8257873",
   "metadata": {},
   "outputs": [
    {
     "data": {
      "text/plain": [
       "'apple'"
      ]
     },
     "execution_count": 41,
     "metadata": {},
     "output_type": "execute_result"
    }
   ],
   "source": [
    "f"
   ]
  },
  {
   "cell_type": "code",
   "execution_count": 42,
   "id": "51369389-2f1b-421e-b4af-c826455a4ec9",
   "metadata": {},
   "outputs": [
    {
     "data": {
      "text/plain": [
       "'mango'"
      ]
     },
     "execution_count": 42,
     "metadata": {},
     "output_type": "execute_result"
    }
   ],
   "source": [
    "g"
   ]
  },
  {
   "cell_type": "code",
   "execution_count": 43,
   "id": "1dfa3a91-ef2f-4208-96e5-8a847f7fdd79",
   "metadata": {},
   "outputs": [
    {
     "data": {
      "text/plain": [
       "(4+5j)"
      ]
     },
     "execution_count": 43,
     "metadata": {},
     "output_type": "execute_result"
    }
   ],
   "source": [
    "h"
   ]
  },
  {
   "cell_type": "code",
   "execution_count": 44,
   "id": "93dff7c8-c8a2-43e5-845f-dee9eb39ab7e",
   "metadata": {},
   "outputs": [
    {
     "data": {
      "text/plain": [
       "3.141"
      ]
     },
     "execution_count": 44,
     "metadata": {},
     "output_type": "execute_result"
    }
   ],
   "source": [
    "i"
   ]
  },
  {
   "cell_type": "code",
   "execution_count": null,
   "id": "1c01fa60-2d7f-4795-b337-7ce579da69db",
   "metadata": {},
   "outputs": [],
   "source": []
  }
 ],
 "metadata": {
  "kernelspec": {
   "display_name": "Python 3 (ipykernel)",
   "language": "python",
   "name": "python3"
  },
  "language_info": {
   "codemirror_mode": {
    "name": "ipython",
    "version": 3
   },
   "file_extension": ".py",
   "mimetype": "text/x-python",
   "name": "python",
   "nbconvert_exporter": "python",
   "pygments_lexer": "ipython3",
   "version": "3.11.7"
  }
 },
 "nbformat": 4,
 "nbformat_minor": 5
}
