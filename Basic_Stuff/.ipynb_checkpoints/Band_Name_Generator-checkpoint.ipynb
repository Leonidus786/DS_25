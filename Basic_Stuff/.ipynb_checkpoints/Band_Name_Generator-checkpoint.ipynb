{
 "cells": [
  {
   "cell_type": "code",
   "execution_count": 1,
   "id": "df1cddc3-352f-4cc1-99ae-d80a6c57ba8c",
   "metadata": {},
   "outputs": [],
   "source": [
    "#Band Name Generator\n",
    "\n",
    "# You need to create a band and you don't know what should we call this?"
   ]
  },
  {
   "cell_type": "code",
   "execution_count": 3,
   "id": "08ce79d3-4fdf-421f-9c12-82d95b7dfb4f",
   "metadata": {},
   "outputs": [
    {
     "name": "stdin",
     "output_type": "stream",
     "text": [
      "In which city you are belonging to? Siwan\n"
     ]
    }
   ],
   "source": [
    "city = input(\"In which city you are belonging to?\")"
   ]
  },
  {
   "cell_type": "code",
   "execution_count": 4,
   "id": "b59f0243-20a0-4bdd-9e67-45d95176f42e",
   "metadata": {},
   "outputs": [
    {
     "name": "stdin",
     "output_type": "stream",
     "text": [
      "what is the name of your pet? jack\n"
     ]
    }
   ],
   "source": [
    "pet = input(\"what is the name of your pet?\")"
   ]
  },
  {
   "cell_type": "code",
   "execution_count": 5,
   "id": "5eb817d9-d71c-4a70-889a-d326362b1869",
   "metadata": {},
   "outputs": [],
   "source": [
    "Band_Name = city +\" \"+pet"
   ]
  },
  {
   "cell_type": "code",
   "execution_count": 8,
   "id": "60f8f348-e1da-4c97-847a-4582fd939d07",
   "metadata": {},
   "outputs": [
    {
     "name": "stdout",
     "output_type": "stream",
     "text": [
      "Siwan jack\n"
     ]
    }
   ],
   "source": [
    "# writing comments and using print() is known as best practice.\n",
    "print(Band_Name)"
   ]
  }
 ],
 "metadata": {
  "kernelspec": {
   "display_name": "Python 3 (ipykernel)",
   "language": "python",
   "name": "python3"
  },
  "language_info": {
   "codemirror_mode": {
    "name": "ipython",
    "version": 3
   },
   "file_extension": ".py",
   "mimetype": "text/x-python",
   "name": "python",
   "nbconvert_exporter": "python",
   "pygments_lexer": "ipython3",
   "version": "3.11.7"
  }
 },
 "nbformat": 4,
 "nbformat_minor": 5
}
