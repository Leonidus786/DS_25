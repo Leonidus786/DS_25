{
 "cells": [
  {
   "cell_type": "code",
   "execution_count": 1,
   "id": "9d829865-d8c2-4fc6-9705-aa055f875508",
   "metadata": {},
   "outputs": [
    {
     "name": "stdin",
     "output_type": "stream",
     "text": [
      " 12\n"
     ]
    }
   ],
   "source": [
    "two_digit_no = input()"
   ]
  },
  {
   "cell_type": "code",
   "execution_count": 7,
   "id": "b0badf7e-df3f-4e41-b2c4-d7fa99e330d6",
   "metadata": {},
   "outputs": [
    {
     "data": {
      "text/plain": [
       "str"
      ]
     },
     "execution_count": 7,
     "metadata": {},
     "output_type": "execute_result"
    }
   ],
   "source": [
    "# Hint\n",
    "type(two_digit_no)"
   ]
  },
  {
   "cell_type": "code",
   "execution_count": 5,
   "id": "34cf0995-6b08-43d2-9282-962be9ce3249",
   "metadata": {},
   "outputs": [],
   "source": [
    "first_digit = int(two_digit_no[0])\n",
    "second_digit = int(two_digit_no[1])"
   ]
  },
  {
   "cell_type": "code",
   "execution_count": 6,
   "id": "52f3f555-1181-4e10-b9d5-93c9e08f99f1",
   "metadata": {},
   "outputs": [
    {
     "data": {
      "text/plain": [
       "3"
      ]
     },
     "execution_count": 6,
     "metadata": {},
     "output_type": "execute_result"
    }
   ],
   "source": [
    "sum = first_digit + second_digit\n",
    "sum"
   ]
  }
 ],
 "metadata": {
  "kernelspec": {
   "display_name": "Python 3 (ipykernel)",
   "language": "python",
   "name": "python3"
  },
  "language_info": {
   "codemirror_mode": {
    "name": "ipython",
    "version": 3
   },
   "file_extension": ".py",
   "mimetype": "text/x-python",
   "name": "python",
   "nbconvert_exporter": "python",
   "pygments_lexer": "ipython3",
   "version": "3.11.7"
  }
 },
 "nbformat": 4,
 "nbformat_minor": 5
}
