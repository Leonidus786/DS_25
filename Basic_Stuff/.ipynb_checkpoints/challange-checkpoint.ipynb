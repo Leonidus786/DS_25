{
 "cells": [
  {
   "cell_type": "code",
   "execution_count": 1,
   "id": "d66e9050-91f4-4073-9e13-abd558c4412e",
   "metadata": {},
   "outputs": [],
   "source": [
    "# write a program by creating two variables and then exchange their value."
   ]
  },
  {
   "cell_type": "code",
   "execution_count": 9,
   "id": "6c989d4f-6e3c-4aff-877e-9c8ae91c38ad",
   "metadata": {},
   "outputs": [
    {
     "name": "stdout",
     "output_type": "stream",
     "text": [
      "99\n",
      "8\n"
     ]
    }
   ],
   "source": [
    "a = 8\n",
    "b = 99\n",
    "\n",
    "c = a\n",
    "a = b\n",
    "b = c\n",
    "print(a)\n",
    "print(b)"
   ]
  },
  {
   "cell_type": "code",
   "execution_count": 2,
   "id": "0fd4b92e-a3f8-4b7a-be68-657b40218732",
   "metadata": {},
   "outputs": [],
   "source": [
    "# write a program by creating two variables and then exchange their value. Don't create a third variable."
   ]
  },
  {
   "cell_type": "code",
   "execution_count": 13,
   "id": "8e066bb0-77c2-4e34-abe5-5a3b78999d04",
   "metadata": {},
   "outputs": [],
   "source": [
    "p = 16\n",
    "q = 20\n",
    "\n",
    "p,q = q,p"
   ]
  },
  {
   "cell_type": "code",
   "execution_count": 14,
   "id": "7e875c36-4687-46d3-9ef5-ac7b2160ad12",
   "metadata": {},
   "outputs": [
    {
     "data": {
      "text/plain": [
       "20"
      ]
     },
     "execution_count": 14,
     "metadata": {},
     "output_type": "execute_result"
    }
   ],
   "source": [
    "p"
   ]
  },
  {
   "cell_type": "code",
   "execution_count": 15,
   "id": "fedeb092-801c-4e4f-a7bb-dd1f93bcf1d7",
   "metadata": {},
   "outputs": [
    {
     "data": {
      "text/plain": [
       "16"
      ]
     },
     "execution_count": 15,
     "metadata": {},
     "output_type": "execute_result"
    }
   ],
   "source": [
    "q"
   ]
  }
 ],
 "metadata": {
  "kernelspec": {
   "display_name": "Python 3 (ipykernel)",
   "language": "python",
   "name": "python3"
  },
  "language_info": {
   "codemirror_mode": {
    "name": "ipython",
    "version": 3
   },
   "file_extension": ".py",
   "mimetype": "text/x-python",
   "name": "python",
   "nbconvert_exporter": "python",
   "pygments_lexer": "ipython3",
   "version": "3.11.7"
  }
 },
 "nbformat": 4,
 "nbformat_minor": 5
}
