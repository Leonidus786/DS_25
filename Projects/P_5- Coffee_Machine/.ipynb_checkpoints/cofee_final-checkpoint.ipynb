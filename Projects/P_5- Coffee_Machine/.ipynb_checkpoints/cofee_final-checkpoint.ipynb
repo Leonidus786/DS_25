{
 "cells": [
  {
   "cell_type": "code",
   "execution_count": 7,
   "id": "a12da2d8-5a21-46af-b157-1e91ecd07a04",
   "metadata": {
    "scrolled": true
   },
   "outputs": [
    {
     "name": "stdin",
     "output_type": "stream",
     "text": [
      "​What would you like? (espresso/latte/cappuccino):  espresso\n"
     ]
    },
    {
     "name": "stdout",
     "output_type": "stream",
     "text": [
      "Please insert coins.\n"
     ]
    },
    {
     "name": "stdin",
     "output_type": "stream",
     "text": [
      "how many quarters?:  10\n",
      "how many dimes?:  8\n",
      "how many nickles?:  20\n",
      "how many pennies?:  78\n"
     ]
    },
    {
     "name": "stdout",
     "output_type": "stream",
     "text": [
      "Here is $3.58 in change.\n",
      "Here is your espresso ☕️. Enjoy!\n"
     ]
    },
    {
     "name": "stdin",
     "output_type": "stream",
     "text": [
      "​What would you like? (espresso/latte/cappuccino):  latte\n"
     ]
    },
    {
     "name": "stdout",
     "output_type": "stream",
     "text": [
      "Please insert coins.\n"
     ]
    },
    {
     "name": "stdin",
     "output_type": "stream",
     "text": [
      "how many quarters?:  30\n",
      "how many dimes?:  45\n",
      "how many nickles?:  76\n",
      "how many pennies?:  89\n"
     ]
    },
    {
     "name": "stdout",
     "output_type": "stream",
     "text": [
      "Here is $14.19 in change.\n",
      "Here is your latte ☕️. Enjoy!\n"
     ]
    },
    {
     "name": "stdin",
     "output_type": "stream",
     "text": [
      "​What would you like? (espresso/latte/cappuccino):  off\n"
     ]
    }
   ],
   "source": [
    "MENU = {\n",
    "    \"espresso\": {\n",
    "        \"ingredients\": {\n",
    "            \"water\": 50,\n",
    "            \"coffee\": 18,\n",
    "        },\n",
    "        \"cost\": 1.5,\n",
    "    },\n",
    "    \"latte\": {\n",
    "        \"ingredients\": {\n",
    "            \"water\": 200,\n",
    "            \"milk\": 150,\n",
    "            \"coffee\": 24,\n",
    "        },\n",
    "        \"cost\": 2.5,\n",
    "    },\n",
    "    \"cappuccino\": {\n",
    "        \"ingredients\": {\n",
    "            \"water\": 250,\n",
    "            \"milk\": 100,\n",
    "            \"coffee\": 24,\n",
    "        },\n",
    "        \"cost\": 3.0,\n",
    "    }\n",
    "}\n",
    "\n",
    "profit = 0\n",
    "resources = {\n",
    "    \"water\": 300,\n",
    "    \"milk\": 200,\n",
    "    \"coffee\": 100,\n",
    "}\n",
    "\n",
    "\n",
    "def is_resource_sufficient(order_ingredients):\n",
    "    \"\"\"Returns True when order can be made, False if ingredients are insufficient.\"\"\"\n",
    "    for item in order_ingredients:\n",
    "        if order_ingredients[item] > resources[item]:\n",
    "            print(f\"​Sorry there is not enough {item}.\")\n",
    "            return False\n",
    "    return True\n",
    "\n",
    "\n",
    "def process_coins():\n",
    "    \"\"\"Returns the total calculated from coins inserted.\"\"\"\n",
    "    print(\"Please insert coins.\")\n",
    "    total = int(input(\"how many quarters?: \")) * 0.25\n",
    "    total += int(input(\"how many dimes?: \")) * 0.1\n",
    "    total += int(input(\"how many nickles?: \")) * 0.05\n",
    "    total += int(input(\"how many pennies?: \")) * 0.01\n",
    "    return total\n",
    "\n",
    "\n",
    "def is_transaction_successful(money_received, drink_cost):\n",
    "    \"\"\"Return True when the payment is accepted, or False if money is insufficient.\"\"\"\n",
    "    if money_received >= drink_cost:\n",
    "        change = round(money_received - drink_cost, 2)\n",
    "        print(f\"Here is ${change} in change.\")\n",
    "        global profit\n",
    "        profit += drink_cost\n",
    "        return True\n",
    "    else:\n",
    "        print(\"Sorry that's not enough money. Money refunded.\")\n",
    "        return False\n",
    "\n",
    "\n",
    "def make_coffee(drink_name, order_ingredients):\n",
    "    \"\"\"Deduct the required ingredients from the resources.\"\"\"\n",
    "    for item in order_ingredients:\n",
    "        resources[item] -= order_ingredients[item]\n",
    "    print(f\"Here is your {drink_name} ☕️. Enjoy!\")\n",
    "\n",
    "\n",
    "is_on = True\n",
    "\n",
    "while is_on:\n",
    "    choice = input(\"​What would you like? (espresso/latte/cappuccino): \")\n",
    "    if choice == \"off\":\n",
    "        is_on = False\n",
    "    elif choice == \"report\":\n",
    "        print(f\"Water: {resources['water']}ml\")\n",
    "        print(f\"Milk: {resources['milk']}ml\")\n",
    "        print(f\"Coffee: {resources['coffee']}g\")\n",
    "        print(f\"Money: ${profit}\")\n",
    "    else:\n",
    "        drink = MENU[choice]\n",
    "        if is_resource_sufficient(drink[\"ingredients\"]):\n",
    "            payment = process_coins()\n",
    "            if is_transaction_successful(payment, drink[\"cost\"]):\n",
    "                make_coffee(choice, drink[\"ingredients\"])"
   ]
  },
  {
   "cell_type": "code",
   "execution_count": 6,
   "id": "1b06ab99-172a-45f3-9cb0-c2f659e2659d",
   "metadata": {},
   "outputs": [
    {
     "ename": "SyntaxError",
     "evalue": "incomplete input (1838273907.py, line 108)",
     "output_type": "error",
     "traceback": [
      "\u001b[1;36m  Cell \u001b[1;32mIn[6], line 108\u001b[1;36m\u001b[0m\n\u001b[1;33m    make_coffee(choice, drink[\"ingredients\"]\u001b[0m\n\u001b[1;37m                                            ^\u001b[0m\n\u001b[1;31mSyntaxError\u001b[0m\u001b[1;31m:\u001b[0m incomplete input\n"
     ]
    }
   ],
   "source": [
    "\n",
    "# Dictionary containing details about available coffee types and their ingredients and cost\n",
    "MENU = {\n",
    "    \"espresso\": {\n",
    "        # Ingredients required for espresso\n",
    "        \"ingredients\": {\n",
    "            \"water\": 50,   # Amount of water required in ml\n",
    "            \"coffee\": 18,  # Amount of coffee required in grams\n",
    "        },\n",
    "        \"cost\": 1.5,      # Cost of espresso in dollars\n",
    "    },\n",
    "    \"latte\": {\n",
    "        # Ingredients required for latte\n",
    "        \"ingredients\": {\n",
    "            \"water\": 200,  # Amount of water required in ml\n",
    "            \"milk\": 150,   # Amount of milk required in ml\n",
    "            \"coffee\": 24,  # Amount of coffee required in grams\n",
    "        },\n",
    "        \"cost\": 2.5,      # Cost of latte in dollars\n",
    "    },\n",
    "    \"cappuccino\": {\n",
    "        # Ingredients required for cappuccino\n",
    "        \"ingredients\": {\n",
    "            \"water\": 250,  # Amount of water required in ml\n",
    "            \"milk\": 100,   # Amount of milk required in ml\n",
    "            \"coffee\": 24,  # Amount of coffee required in grams\n",
    "        },\n",
    "        \"cost\": 3.0,      # Cost of cappuccino in dollars\n",
    "    }\n",
    "}\n",
    "\n",
    "# Variable to keep track of the profit made from sales\n",
    "profit = 0\n",
    "\n",
    "# Dictionary containing initial amounts of resources available\n",
    "resources = {\n",
    "    \"water\": 300,    # Amount of water available in ml\n",
    "    \"milk\": 200,     # Amount of milk available in ml\n",
    "    \"coffee\": 100,   # Amount of coffee available in grams\n",
    "}\n",
    "\n",
    "def is_resource_sufficient(order_ingredients):\n",
    "    \"\"\"Returns True when order can be made, False if ingredients are insufficient.\"\"\"\n",
    "    # Iterate over the required ingredients for the chosen drink\n",
    "    for item in order_ingredients:\n",
    "        # Check if there are enough resources to make the drink\n",
    "        if order_ingredients[item] > resources[item]:\n",
    "            print(f\"​Sorry there is not enough {item}.\")  # Notify user of insufficient resources\n",
    "            return False  # Return False if resources are insufficient\n",
    "    return True  # Return True if resources are sufficient\n",
    "\n",
    "def process_coins():\n",
    "    \"\"\"Returns the total calculated from coins inserted.\"\"\"\n",
    "    print(\"Please insert coins.\")\n",
    "    # Calculate total amount from coins inserted by the user\n",
    "    total = int(input(\"how many quarters?: \")) * 0.25  # Number of quarters inserted\n",
    "    total += int(input(\"how many dimes?: \")) * 0.1     # Number of dimes inserted\n",
    "    total += int(input(\"how many nickles?: \")) * 0.05  # Number of nickels inserted\n",
    "    total += int(input(\"how many pennies?: \")) * 0.01  # Number of pennies inserted\n",
    "    return total  # Return the total amount of money inserted\n",
    "\n",
    "def is_transaction_successful(money_received, drink_cost):\n",
    "    \"\"\"Return True when the payment is accepted, or False if money is insufficient.\"\"\"\n",
    "    # Check if the money received is enough to cover the cost of the drink\n",
    "    if money_received >= drink_cost:\n",
    "        change = round(money_received - drink_cost, 2)  # Calculate change to return\n",
    "        print(f\"Here is ${change} in change.\")  # Notify user of the change returned\n",
    "        global profit  # Access the global profit variable\n",
    "        profit += drink_cost  # Add the cost of the drink to the profit\n",
    "        return True  # Return True if transaction is successful\n",
    "    else:\n",
    "        print(\"Sorry that's not enough money. Money refunded.\")  # Notify user of insufficient money\n",
    "        return False  # Return False if transaction is not successful\n",
    "\n",
    "def make_coffee(drink_name, order_ingredients):\n",
    "    \"\"\"Deduct the required ingredients from the resources.\"\"\"\n",
    "    # Deduct the amount of each ingredient used to make the drink\n",
    "    for item in order_ingredients:\n",
    "        resources[item] -= order_ingredients[item]\n",
    "    print(f\"Here is your {drink_name} ☕️. Enjoy!\")  # Serve the drink and print a message\n",
    "\n",
    "# Variable to control the main loop\n",
    "is_on = True\n",
    "\n",
    "# Main loop to take user orders and process them\n",
    "while is_on:\n",
    "    # Ask the user for their choice of drink\n",
    "    choice = input(\"​What would you like? (espresso/latte/cappuccino): \")\n",
    "    # Check if the user wants to turn off the machine\n",
    "    if choice == \"off\":\n",
    "        is_on = False  # Turn off the machine by ending the loop\n",
    "    # Check if the user wants to see the resource report\n",
    "    elif choice == \"report\":\n",
    "        # Print the current resource levels and profit\n",
    "        print(f\"Water: {resources['water']}ml\")\n",
    "        print(f\"Milk: {resources['milk']}ml\")\n",
    "        print(f\"Coffee: {resources['coffee']}g\")\n",
    "        print(f\"Money: ${profit}\")\n",
    "    else:\n",
    "        # Get the details of the chosen drink from the menu\n",
    "        drink = MENU[choice]\n",
    "        # Check if there are enough resources to make the drink\n",
    "        if is_resource_sufficient(drink[\"ingredients\"]):\n",
    "            # Process coins inserted by the user\n",
    "            payment = process_coins()\n",
    "            # Check if the transaction is successful\n",
    "            if is_transaction_successful(payment, drink[\"cost\"]):\n",
    "                # Make the coffee if the transaction is successful\n",
    "                make_coffee(choice, drink[\"ingredients\"]"
   ]
  },
  {
   "cell_type": "code",
   "execution_count": null,
   "id": "5c407c61-e36a-4b5e-8cf3-bcbee0e6e382",
   "metadata": {},
   "outputs": [],
   "source": []
  }
 ],
 "metadata": {
  "kernelspec": {
   "display_name": "Python 3 (ipykernel)",
   "language": "python",
   "name": "python3"
  },
  "language_info": {
   "codemirror_mode": {
    "name": "ipython",
    "version": 3
   },
   "file_extension": ".py",
   "mimetype": "text/x-python",
   "name": "python",
   "nbconvert_exporter": "python",
   "pygments_lexer": "ipython3",
   "version": "3.11.7"
  }
 },
 "nbformat": 4,
 "nbformat_minor": 5
}
