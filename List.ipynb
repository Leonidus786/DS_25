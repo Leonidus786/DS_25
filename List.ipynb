{
 "cells": [
  {
   "cell_type": "markdown",
   "id": "c446d639-3bc4-4d78-abd6-9f9693d525fa",
   "metadata": {},
   "source": [
    "# Lists : : A mutable (changeable) sequence enclosed in square brackets []."
   ]
  },
  {
   "cell_type": "code",
   "execution_count": 9,
   "id": "ac101958-bf88-49f5-bea9-b7fc2a80a5d2",
   "metadata": {},
   "outputs": [],
   "source": [
    "random_var = [\"Dog\", 'Hen', 'Cow', 1, 2, 3+2j, \"Egg\"]"
   ]
  },
  {
   "cell_type": "code",
   "execution_count": 10,
   "id": "4b6c1835-5a35-490f-b33f-9fb5aef06b90",
   "metadata": {},
   "outputs": [
    {
     "data": {
      "text/plain": [
       "['Dog', 'Hen', 'Cow', 1, 2, (3+2j), 'Egg']"
      ]
     },
     "execution_count": 10,
     "metadata": {},
     "output_type": "execute_result"
    }
   ],
   "source": [
    "random_var"
   ]
  },
  {
   "cell_type": "code",
   "execution_count": 11,
   "id": "120ba9aa-45ec-47b1-858c-c39abd4ee4cf",
   "metadata": {},
   "outputs": [
    {
     "data": {
      "text/plain": [
       "list"
      ]
     },
     "execution_count": 11,
     "metadata": {},
     "output_type": "execute_result"
    }
   ],
   "source": [
    "type(random_var)"
   ]
  },
  {
   "cell_type": "code",
   "execution_count": 12,
   "id": "5139bb77-3c30-4ed7-875b-2b3bb9db9884",
   "metadata": {},
   "outputs": [
    {
     "name": "stdout",
     "output_type": "stream",
     "text": [
      "['Dog', 'Hen', 'Cow']\n"
     ]
    }
   ],
   "source": [
    "print(random_var[:3])"
   ]
  },
  {
   "cell_type": "code",
   "execution_count": 13,
   "id": "2fa7961f-5120-48a3-b5cf-fcc695afa643",
   "metadata": {},
   "outputs": [
    {
     "name": "stdout",
     "output_type": "stream",
     "text": [
      "Hen\n"
     ]
    }
   ],
   "source": [
    "print(random_var[1])"
   ]
  },
  {
   "cell_type": "code",
   "execution_count": 14,
   "id": "9d2b0ff2-b7b1-4c11-8d36-75c9e24d680e",
   "metadata": {},
   "outputs": [
    {
     "name": "stdout",
     "output_type": "stream",
     "text": [
      "[1, 2, (3+2j), 'Egg']\n"
     ]
    }
   ],
   "source": [
    "print(random_var[3:])"
   ]
  },
  {
   "cell_type": "code",
   "execution_count": 15,
   "id": "4c051185-abbe-433f-bbbf-c85c4bd788ac",
   "metadata": {},
   "outputs": [
    {
     "name": "stdout",
     "output_type": "stream",
     "text": [
      "Egg is availaible\n"
     ]
    }
   ],
   "source": [
    "if \"Egg\" in random_var:\n",
    "    print(\"Egg is availaible\")\n",
    "else:\n",
    "    print(\"Kuch vi\")"
   ]
  },
  {
   "cell_type": "code",
   "execution_count": 16,
   "id": "e9d82b99-0364-4fa8-9aa1-4f5f512af064",
   "metadata": {},
   "outputs": [
    {
     "data": {
      "text/plain": [
       "7"
      ]
     },
     "execution_count": 16,
     "metadata": {},
     "output_type": "execute_result"
    }
   ],
   "source": [
    "len(random_var)"
   ]
  },
  {
   "cell_type": "code",
   "execution_count": 17,
   "id": "e01868b8-60ee-4031-bd3c-a86fb104068e",
   "metadata": {},
   "outputs": [],
   "source": [
    "# List data types\n",
    "\n",
    "b = [1,2.1,3+0J, \"A\", 'Siwan', True, False, None]"
   ]
  },
  {
   "cell_type": "code",
   "execution_count": 18,
   "id": "1a1eca87-e1bf-4c1c-af20-d33a13180075",
   "metadata": {},
   "outputs": [
    {
     "data": {
      "text/plain": [
       "[1, 2.1, (3+0j), 'A', 'Siwan', True, False, None]"
      ]
     },
     "execution_count": 18,
     "metadata": {},
     "output_type": "execute_result"
    }
   ],
   "source": [
    "b"
   ]
  },
  {
   "cell_type": "code",
   "execution_count": 21,
   "id": "ed6e8edb-688e-4a3c-b178-d824e04e7919",
   "metadata": {},
   "outputs": [],
   "source": [
    "# changing the value without removing anything\n",
    "b[3] = \"Barley\""
   ]
  },
  {
   "cell_type": "code",
   "execution_count": 22,
   "id": "57d913d6-9267-4842-b5e5-82fe27d32899",
   "metadata": {},
   "outputs": [
    {
     "data": {
      "text/plain": [
       "[1, 2.1, (3+0j), 'Barley', 'Siwan', True, False, None]"
      ]
     },
     "execution_count": 22,
     "metadata": {},
     "output_type": "execute_result"
    }
   ],
   "source": [
    "b"
   ]
  },
  {
   "cell_type": "code",
   "execution_count": 23,
   "id": "92be2743-f1f7-409e-8dad-3fc7283f0fdf",
   "metadata": {},
   "outputs": [],
   "source": [
    "b[1:3] = [\"blackcurrant\", \"watermelon\"]"
   ]
  },
  {
   "cell_type": "code",
   "execution_count": 24,
   "id": "7b518278-345d-4fd0-9dff-7057f4895587",
   "metadata": {},
   "outputs": [
    {
     "data": {
      "text/plain": [
       "[1, 'blackcurrant', 'watermelon', 'Barley', 'Siwan', True, False, None]"
      ]
     },
     "execution_count": 24,
     "metadata": {},
     "output_type": "execute_result"
    }
   ],
   "source": [
    "b"
   ]
  },
  {
   "cell_type": "code",
   "execution_count": 25,
   "id": "dc3960c0-f758-4e47-b202-f1d023804121",
   "metadata": {},
   "outputs": [],
   "source": [
    "b[1:2] = [\"blackcurrant\", \"watermelon\"]"
   ]
  },
  {
   "cell_type": "code",
   "execution_count": 26,
   "id": "e0c12621-0764-4d4e-8f41-46f825231b74",
   "metadata": {},
   "outputs": [
    {
     "data": {
      "text/plain": [
       "[1,\n",
       " 'blackcurrant',\n",
       " 'watermelon',\n",
       " 'watermelon',\n",
       " 'Barley',\n",
       " 'Siwan',\n",
       " True,\n",
       " False,\n",
       " None]"
      ]
     },
     "execution_count": 26,
     "metadata": {},
     "output_type": "execute_result"
    }
   ],
   "source": [
    "b"
   ]
  },
  {
   "cell_type": "code",
   "execution_count": 27,
   "id": "af43287e-e46d-4bf7-9e3a-4e15b3e109d0",
   "metadata": {},
   "outputs": [],
   "source": [
    "b.append(2)"
   ]
  },
  {
   "cell_type": "code",
   "execution_count": 28,
   "id": "affc492e-f4cd-4d24-a6a4-5ed4aa4fd414",
   "metadata": {},
   "outputs": [
    {
     "data": {
      "text/plain": [
       "[1,\n",
       " 'blackcurrant',\n",
       " 'watermelon',\n",
       " 'watermelon',\n",
       " 'Barley',\n",
       " 'Siwan',\n",
       " True,\n",
       " False,\n",
       " None,\n",
       " 2]"
      ]
     },
     "execution_count": 28,
     "metadata": {},
     "output_type": "execute_result"
    }
   ],
   "source": [
    "b"
   ]
  },
  {
   "cell_type": "code",
   "execution_count": 29,
   "id": "14269312-70ea-404f-af9c-ab21bcfb8780",
   "metadata": {},
   "outputs": [],
   "source": [
    "b.insert(3,'Muskmelon')"
   ]
  },
  {
   "cell_type": "code",
   "execution_count": 30,
   "id": "d47afdf3-610a-4605-8722-0a2223cfddd7",
   "metadata": {},
   "outputs": [
    {
     "data": {
      "text/plain": [
       "[1,\n",
       " 'blackcurrant',\n",
       " 'watermelon',\n",
       " 'Muskmelon',\n",
       " 'watermelon',\n",
       " 'Barley',\n",
       " 'Siwan',\n",
       " True,\n",
       " False,\n",
       " None,\n",
       " 2]"
      ]
     },
     "execution_count": 30,
     "metadata": {},
     "output_type": "execute_result"
    }
   ],
   "source": [
    "b"
   ]
  },
  {
   "cell_type": "code",
   "execution_count": 31,
   "id": "d3712c2a-dab8-4d52-b52c-54a770bf6dcc",
   "metadata": {},
   "outputs": [],
   "source": [
    "c = [34,576,45,'A']"
   ]
  },
  {
   "cell_type": "code",
   "execution_count": 32,
   "id": "ef4e7e6a-e5ab-4b61-8046-f4ae1140f470",
   "metadata": {},
   "outputs": [],
   "source": [
    "b.extend(c)"
   ]
  },
  {
   "cell_type": "code",
   "execution_count": 33,
   "id": "04edbdcc-5d36-4d23-aeb8-b924598e03ec",
   "metadata": {},
   "outputs": [
    {
     "data": {
      "text/plain": [
       "[1,\n",
       " 'blackcurrant',\n",
       " 'watermelon',\n",
       " 'Muskmelon',\n",
       " 'watermelon',\n",
       " 'Barley',\n",
       " 'Siwan',\n",
       " True,\n",
       " False,\n",
       " None,\n",
       " 2,\n",
       " 34,\n",
       " 576,\n",
       " 45,\n",
       " 'A']"
      ]
     },
     "execution_count": 33,
     "metadata": {},
     "output_type": "execute_result"
    }
   ],
   "source": [
    "b"
   ]
  },
  {
   "cell_type": "code",
   "execution_count": 34,
   "id": "5167d145-148d-45a5-b452-ccca3f2bb8dc",
   "metadata": {},
   "outputs": [
    {
     "data": {
      "text/plain": [
       "15"
      ]
     },
     "execution_count": 34,
     "metadata": {},
     "output_type": "execute_result"
    }
   ],
   "source": [
    "len(b)"
   ]
  },
  {
   "cell_type": "code",
   "execution_count": 37,
   "id": "3d506441-335d-4162-a852-01b36fd8334a",
   "metadata": {},
   "outputs": [],
   "source": [
    "b.remove('watermelon')"
   ]
  },
  {
   "cell_type": "code",
   "execution_count": 38,
   "id": "c41e4ae9-45f9-4bad-887f-b16f1dc2a7fd",
   "metadata": {},
   "outputs": [
    {
     "data": {
      "text/plain": [
       "[1,\n",
       " 'blackcurrant',\n",
       " 'Muskmelon',\n",
       " 'watermelon',\n",
       " 'Barley',\n",
       " 'Siwan',\n",
       " True,\n",
       " False,\n",
       " None,\n",
       " 2,\n",
       " 34,\n",
       " 576,\n",
       " 45,\n",
       " 'A']"
      ]
     },
     "execution_count": 38,
     "metadata": {},
     "output_type": "execute_result"
    }
   ],
   "source": [
    "b"
   ]
  },
  {
   "cell_type": "code",
   "execution_count": 39,
   "id": "f598ea29-3780-4a03-bb5d-d403e7bf4f52",
   "metadata": {},
   "outputs": [
    {
     "data": {
      "text/plain": [
       "'A'"
      ]
     },
     "execution_count": 39,
     "metadata": {},
     "output_type": "execute_result"
    }
   ],
   "source": [
    "b.pop()"
   ]
  },
  {
   "cell_type": "code",
   "execution_count": 40,
   "id": "63bdad29-66e0-4cad-a79b-3b0f8b05d0ed",
   "metadata": {},
   "outputs": [
    {
     "data": {
      "text/plain": [
       "[1,\n",
       " 'blackcurrant',\n",
       " 'Muskmelon',\n",
       " 'watermelon',\n",
       " 'Barley',\n",
       " 'Siwan',\n",
       " True,\n",
       " False,\n",
       " None,\n",
       " 2,\n",
       " 34,\n",
       " 576,\n",
       " 45]"
      ]
     },
     "execution_count": 40,
     "metadata": {},
     "output_type": "execute_result"
    }
   ],
   "source": [
    "b"
   ]
  },
  {
   "cell_type": "code",
   "execution_count": null,
   "id": "c0bb879b-5994-409e-8724-1f4596adaa40",
   "metadata": {},
   "outputs": [],
   "source": []
  }
 ],
 "metadata": {
  "kernelspec": {
   "display_name": "Python 3 (ipykernel)",
   "language": "python",
   "name": "python3"
  },
  "language_info": {
   "codemirror_mode": {
    "name": "ipython",
    "version": 3
   },
   "file_extension": ".py",
   "mimetype": "text/x-python",
   "name": "python",
   "nbconvert_exporter": "python",
   "pygments_lexer": "ipython3",
   "version": "3.11.7"
  }
 },
 "nbformat": 4,
 "nbformat_minor": 5
}
