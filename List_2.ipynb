{
 "cells": [
  {
   "cell_type": "code",
   "execution_count": 22,
   "id": "264417bb-5830-4250-929a-478ba598f293",
   "metadata": {},
   "outputs": [],
   "source": [
    "# Append/insert items inside a list -- will add items at last position.\n",
    "\n",
    "my_list = [1, 2, 4.8, \"Abhi\", True, False]"
   ]
  },
  {
   "cell_type": "code",
   "execution_count": 2,
   "id": "5e4b306d-1a83-445c-97c0-91c1cb147321",
   "metadata": {},
   "outputs": [],
   "source": [
    "my_list.append(\"Papaya\")"
   ]
  },
  {
   "cell_type": "code",
   "execution_count": 3,
   "id": "5f62ba57-89ed-4975-ba8f-022766e62cc8",
   "metadata": {},
   "outputs": [
    {
     "data": {
      "text/plain": [
       "[1, 2, 4.8, 'Abhi', True, False, 'Papaya']"
      ]
     },
     "execution_count": 3,
     "metadata": {},
     "output_type": "execute_result"
    }
   ],
   "source": [
    "my_list"
   ]
  },
  {
   "cell_type": "code",
   "execution_count": 4,
   "id": "d1947b83-5fcf-4889-a200-22d4efa04522",
   "metadata": {},
   "outputs": [],
   "source": [
    "# insert items inside a list using insert() method --> will add items at a specific position\n",
    "my_list.insert(5, \"banana\")"
   ]
  },
  {
   "cell_type": "code",
   "execution_count": 5,
   "id": "967de548-dc48-40a1-b790-3f9bc0464a18",
   "metadata": {},
   "outputs": [
    {
     "data": {
      "text/plain": [
       "[1, 2, 4.8, 'Abhi', True, 'banana', False, 'Papaya']"
      ]
     },
     "execution_count": 5,
     "metadata": {},
     "output_type": "execute_result"
    }
   ],
   "source": [
    "my_list"
   ]
  },
  {
   "cell_type": "code",
   "execution_count": 6,
   "id": "3302a84f-afd6-41a7-b6ca-723fc836e0a4",
   "metadata": {},
   "outputs": [],
   "source": [
    "list_1 = [\"Apple\", \"cashews\", \"Pistachios\"]"
   ]
  },
  {
   "cell_type": "code",
   "execution_count": 7,
   "id": "aeb64b14-dcb2-4926-a51b-5db26c5ad442",
   "metadata": {},
   "outputs": [],
   "source": [
    "my_list.extend(list_1)"
   ]
  },
  {
   "cell_type": "code",
   "execution_count": 9,
   "id": "577bdc5a-4fb4-43dd-a426-c5ae7d533998",
   "metadata": {},
   "outputs": [
    {
     "data": {
      "text/plain": [
       "[1,\n",
       " 2,\n",
       " 4.8,\n",
       " 'Abhi',\n",
       " True,\n",
       " 'banana',\n",
       " False,\n",
       " 'Papaya',\n",
       " 'Apple',\n",
       " 'cashews',\n",
       " 'Pistachios']"
      ]
     },
     "execution_count": 9,
     "metadata": {},
     "output_type": "execute_result"
    }
   ],
   "source": [
    "my_list"
   ]
  },
  {
   "cell_type": "code",
   "execution_count": 12,
   "id": "58c081f6-d61d-45bf-8c5e-bddc913c76c5",
   "metadata": {
    "scrolled": true
   },
   "outputs": [
    {
     "data": {
      "text/plain": [
       "('Papaya', 'Apple', 'cashews', 'Pistachios')"
      ]
     },
     "execution_count": 12,
     "metadata": {},
     "output_type": "execute_result"
    }
   ],
   "source": [
    "# Add any iterable\n",
    "my_tuple = ('Papaya', 'Apple', 'cashews', 'Pistachios')\n",
    "my_tuple"
   ]
  },
  {
   "cell_type": "code",
   "execution_count": 15,
   "id": "8e4c400f-9134-414d-a0cf-9bd005a7a3ca",
   "metadata": {},
   "outputs": [
    {
     "name": "stdout",
     "output_type": "stream",
     "text": [
      "[1, 2, 3.5, ('Papaya', 'Apple', 'cashews', 'Pistachios'), [1, 2, 4.8, 'Abhi', True, False]]\n"
     ]
    }
   ],
   "source": [
    "my_list = [1,2,3.5, ('Papaya', 'Apple', 'cashews', 'Pistachios'), [1, 2, 4.8, \"Abhi\", True, False]]\n",
    "\n",
    "print(my_list)"
   ]
  },
  {
   "cell_type": "code",
   "execution_count": 13,
   "id": "c1663a2a-6170-4123-9901-7fdc0c70bc23",
   "metadata": {},
   "outputs": [
    {
     "data": {
      "text/plain": [
       "[1,\n",
       " 2,\n",
       " 4.8,\n",
       " True,\n",
       " 'banana',\n",
       " False,\n",
       " 'Papaya',\n",
       " 'Apple',\n",
       " 'cashews',\n",
       " 'Pistachios',\n",
       " 'Papaya',\n",
       " 'Apple',\n",
       " 'cashews',\n",
       " 'Pistachios']"
      ]
     },
     "execution_count": 13,
     "metadata": {},
     "output_type": "execute_result"
    }
   ],
   "source": [
    "my_list.extend(my_tuple)\n",
    "my_list"
   ]
  },
  {
   "cell_type": "code",
   "execution_count": 10,
   "id": "25597e11-5b23-4787-a900-d14167c9cde4",
   "metadata": {},
   "outputs": [],
   "source": [
    "#Remove Specified Item with remove() method\n",
    "\n",
    "my_list.remove(\"Abhi\")"
   ]
  },
  {
   "cell_type": "code",
   "execution_count": 16,
   "id": "0a017697-72c1-4ebc-836b-a3a4b12649ab",
   "metadata": {},
   "outputs": [
    {
     "data": {
      "text/plain": [
       "[1,\n",
       " 2,\n",
       " 3.5,\n",
       " ('Papaya', 'Apple', 'cashews', 'Pistachios'),\n",
       " [1, 2, 4.8, 'Abhi', True, False]]"
      ]
     },
     "execution_count": 16,
     "metadata": {},
     "output_type": "execute_result"
    }
   ],
   "source": [
    "my_list"
   ]
  },
  {
   "cell_type": "code",
   "execution_count": 17,
   "id": "3d90f120-aa8a-4a70-9d3f-9ec63ff40e77",
   "metadata": {},
   "outputs": [
    {
     "data": {
      "text/plain": [
       "('Papaya', 'Apple', 'cashews', 'Pistachios')"
      ]
     },
     "execution_count": 17,
     "metadata": {},
     "output_type": "execute_result"
    }
   ],
   "source": [
    "#\n",
    "my_list.pop(3)"
   ]
  },
  {
   "cell_type": "code",
   "execution_count": 18,
   "id": "474e7abf-ddf8-4d0f-88d0-9eaa9c25a133",
   "metadata": {},
   "outputs": [
    {
     "data": {
      "text/plain": [
       "[1, 2, 3.5, [1, 2, 4.8, 'Abhi', True, False]]"
      ]
     },
     "execution_count": 18,
     "metadata": {},
     "output_type": "execute_result"
    }
   ],
   "source": [
    "my_list"
   ]
  },
  {
   "cell_type": "code",
   "execution_count": 19,
   "id": "1b701586-3856-44de-97c7-3813abc42d60",
   "metadata": {},
   "outputs": [
    {
     "data": {
      "text/plain": [
       "[1, 2, 3.5, [1, 2, 4.8, 'Abhi', True, False]]"
      ]
     },
     "execution_count": 19,
     "metadata": {},
     "output_type": "execute_result"
    }
   ],
   "source": [
    "my_list"
   ]
  },
  {
   "cell_type": "code",
   "execution_count": 20,
   "id": "833adc9a-8002-4794-bae6-780bbee05719",
   "metadata": {},
   "outputs": [],
   "source": [
    "del my_list"
   ]
  },
  {
   "cell_type": "code",
   "execution_count": 21,
   "id": "0243d67e-a49c-49d8-864d-22a5f421161a",
   "metadata": {},
   "outputs": [
    {
     "ename": "NameError",
     "evalue": "name 'my_list' is not defined",
     "output_type": "error",
     "traceback": [
      "\u001b[1;31m---------------------------------------------------------------------------\u001b[0m",
      "\u001b[1;31mNameError\u001b[0m                                 Traceback (most recent call last)",
      "Cell \u001b[1;32mIn[21], line 1\u001b[0m\n\u001b[1;32m----> 1\u001b[0m my_list\n",
      "\u001b[1;31mNameError\u001b[0m: name 'my_list' is not defined"
     ]
    }
   ],
   "source": [
    "my_list"
   ]
  },
  {
   "cell_type": "code",
   "execution_count": 23,
   "id": "d7499abd-74b9-40b6-b111-cd057883006a",
   "metadata": {},
   "outputs": [
    {
     "data": {
      "text/plain": [
       "[1, 2, 4.8, 'Abhi', True, False]"
      ]
     },
     "execution_count": 23,
     "metadata": {},
     "output_type": "execute_result"
    }
   ],
   "source": [
    "my_list"
   ]
  },
  {
   "cell_type": "code",
   "execution_count": 24,
   "id": "38fc5bfb-95ff-41ed-9055-10607404c7e8",
   "metadata": {},
   "outputs": [],
   "source": [
    "my_list.clear()"
   ]
  },
  {
   "cell_type": "code",
   "execution_count": 25,
   "id": "980b089b-e725-4487-9f10-02d8a75bfeb9",
   "metadata": {},
   "outputs": [
    {
     "data": {
      "text/plain": [
       "[]"
      ]
     },
     "execution_count": 25,
     "metadata": {},
     "output_type": "execute_result"
    }
   ],
   "source": [
    "my_list"
   ]
  },
  {
   "cell_type": "code",
   "execution_count": 28,
   "id": "1eec5f0a-8e3f-4ff8-8cd9-1f44c7d4932f",
   "metadata": {},
   "outputs": [
    {
     "name": "stdout",
     "output_type": "stream",
     "text": [
      "1\n",
      "2\n",
      "4.8\n",
      "Abhi\n",
      "True\n",
      "False\n"
     ]
    }
   ],
   "source": [
    "# Loop - Something is happening continuously until a cetain condition is specified --> Iterartion -- Looping\n",
    "my_list = [1, 2, 4.8, \"Abhi\", True, False]\n",
    "\n",
    "for b in my_list:\n",
    "    print(b)"
   ]
  },
  {
   "cell_type": "code",
   "execution_count": 29,
   "id": "48b0287f-17f2-4083-9eda-0559af217b0d",
   "metadata": {},
   "outputs": [
    {
     "name": "stdout",
     "output_type": "stream",
     "text": [
      "1\n",
      "2\n",
      "4.8\n",
      "Abhi\n",
      "True\n",
      "False\n"
     ]
    }
   ],
   "source": [
    "# looping through index number\n",
    "for c in range(len(my_list)):\n",
    "    print(my_list[c])"
   ]
  },
  {
   "cell_type": "code",
   "execution_count": 30,
   "id": "a5b837da-e5d6-463e-9587-67e103a9a3c1",
   "metadata": {},
   "outputs": [
    {
     "name": "stdout",
     "output_type": "stream",
     "text": [
      "['apple', 'banana', 'mango']\n"
     ]
    }
   ],
   "source": [
    "fruits = [\"apple\", \"banana\", \"cherry\", \"kiwi\", \"mango\"] # Creating a list\n",
    "newlist = []  ## Creating an empty list\n",
    "\n",
    "#looping through each word and checks if \"a\" is there then add it to empty list\n",
    "for x in fruits:\n",
    "  if \"a\" in x:\n",
    "    newlist.append(x)\n",
    "\n",
    "print(newlist)"
   ]
  },
  {
   "cell_type": "code",
   "execution_count": 31,
   "id": "44e3da09-3e76-49b9-941d-a14410a9cc12",
   "metadata": {},
   "outputs": [
    {
     "data": {
      "text/plain": [
       "['apple', 'banana', 'mango']"
      ]
     },
     "execution_count": 31,
     "metadata": {},
     "output_type": "execute_result"
    }
   ],
   "source": [
    "newlist = [x for x in fruits if \"a\" in x]\n",
    "\n",
    "newlist"
   ]
  },
  {
   "cell_type": "code",
   "execution_count": 35,
   "id": "f1db3a73-118b-4408-b5bd-2933b7c4f1d1",
   "metadata": {},
   "outputs": [
    {
     "data": {
      "text/plain": [
       "['Abhi', 'Hen', 'Turtles', 'fish']"
      ]
     },
     "execution_count": 35,
     "metadata": {},
     "output_type": "execute_result"
    }
   ],
   "source": [
    "my_list = [\"fish\", 'Hen', \"Turtles\", \"Abhi\"]\n",
    "\n",
    "my_list.sort()\n",
    "my_list"
   ]
  },
  {
   "cell_type": "code",
   "execution_count": null,
   "id": "95f5855a-8ef8-4776-bd89-c44b7ae685f9",
   "metadata": {},
   "outputs": [],
   "source": []
  }
 ],
 "metadata": {
  "kernelspec": {
   "display_name": "Python 3 (ipykernel)",
   "language": "python",
   "name": "python3"
  },
  "language_info": {
   "codemirror_mode": {
    "name": "ipython",
    "version": 3
   },
   "file_extension": ".py",
   "mimetype": "text/x-python",
   "name": "python",
   "nbconvert_exporter": "python",
   "pygments_lexer": "ipython3",
   "version": "3.11.7"
  }
 },
 "nbformat": 4,
 "nbformat_minor": 5
}
