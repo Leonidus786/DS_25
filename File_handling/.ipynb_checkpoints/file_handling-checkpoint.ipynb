{
 "cells": [
  {
   "cell_type": "code",
   "execution_count": 3,
   "id": "2fa74a23-ecc0-424d-80e6-2d8a8181115e",
   "metadata": {},
   "outputs": [
    {
     "name": "stdout",
     "output_type": "stream",
     "text": [
      "Hello! Welcome to demo.txt\n",
      "This file is for testing purposes.\n",
      "Good Luck!\n"
     ]
    }
   ],
   "source": [
    "f = open(\"demo.txt\", \"r\")\n",
    "print(f.read())"
   ]
  },
  {
   "cell_type": "code",
   "execution_count": 26,
   "id": "f2ddac5e-0f77-4560-86f8-5ebb737d0671",
   "metadata": {},
   "outputs": [
    {
     "name": "stdout",
     "output_type": "stream",
     "text": [
      "Bhaukal hai bhai ka\n",
      "python seekh rhe ho\n",
      "seekh loge n\n",
      "\n"
     ]
    }
   ],
   "source": [
    "# opening a file from other location\n",
    "f = open(\"C:\\\\Users\\SkillCircle\\Documents\\my.txt\", \"r\")\n",
    "\n",
    "print(f.read())"
   ]
  },
  {
   "cell_type": "code",
   "execution_count": 18,
   "id": "080ae13a-9539-40e9-a598-fee547f30c47",
   "metadata": {},
   "outputs": [],
   "source": [
    "f = open(\"demo.txt\", \"r\")"
   ]
  },
  {
   "cell_type": "code",
   "execution_count": 19,
   "id": "24978ef1-c9c2-4d0b-8ec9-d410d99e0a87",
   "metadata": {},
   "outputs": [
    {
     "name": "stdout",
     "output_type": "stream",
     "text": [
      "Hello! Welcome to demo.txt\n",
      "\n"
     ]
    }
   ],
   "source": [
    "print(f.readline())"
   ]
  },
  {
   "cell_type": "code",
   "execution_count": 21,
   "id": "0a8c6c95-ddfd-49d0-8376-06a0dfd570ba",
   "metadata": {},
   "outputs": [
    {
     "name": "stdout",
     "output_type": "stream",
     "text": [
      "The Zen of Python, by Tim Peters\n",
      "\n",
      "\n",
      "\n",
      "Beautiful is better than ugly.\n",
      "\n",
      "Explicit is better than implicit.\n",
      "\n",
      "Simple is better than complex.\n",
      "\n",
      "Complex is better than complicated.\n",
      "\n",
      "Flat is better than nested.\n",
      "\n",
      "Sparse is better than dense.\n",
      "\n",
      "Readability counts.\n",
      "\n",
      "Special cases aren't special enough to break the rules.\n",
      "\n",
      "Although practicality beats purity.\n",
      "\n",
      "Errors should never pass silently.\n",
      "\n",
      "Unless explicitly silenced.\n",
      "\n",
      "In the face of ambiguity, refuse the temptation to guess.\n",
      "\n",
      "There should be one-- and preferably only one --obvious way to do it.\n",
      "\n",
      "Although that way may not be obvious at first unless you're Dutch.\n",
      "\n",
      "Now is better than never.\n",
      "\n",
      "Although never is often better than *right* now.\n",
      "\n",
      "If the implementation is hard to explain, it's a bad idea.\n",
      "\n",
      "If the implementation is easy to explain, it may be a good idea.\n",
      "\n",
      "Namespaces are one honking great idea -- let's do more of those!\n"
     ]
    }
   ],
   "source": [
    "f = open(\"m.txt\", \"r\")\n",
    "for x in f:\n",
    "  print(x)"
   ]
  },
  {
   "cell_type": "code",
   "execution_count": 22,
   "id": "33b8e5ff-7f76-40ad-8046-180984f6c17c",
   "metadata": {},
   "outputs": [
    {
     "name": "stdout",
     "output_type": "stream",
     "text": [
      "The Zen of Python, by Tim Peters\n",
      "\n"
     ]
    }
   ],
   "source": [
    "f = open(\"m.txt\", \"r\")\n",
    "print(f.readline())\n",
    "f.close()"
   ]
  },
  {
   "cell_type": "code",
   "execution_count": 23,
   "id": "555c6103-9e7f-4dfb-8af3-33523bf882d3",
   "metadata": {},
   "outputs": [],
   "source": [
    "f = open(\"demofile2.txt\", \"a\")\n",
    "f.write(\"Now the file has more content!\")\n",
    "f.close()"
   ]
  },
  {
   "cell_type": "code",
   "execution_count": 24,
   "id": "ead3ba18-4868-4777-abc2-c67d35ef6c4d",
   "metadata": {},
   "outputs": [
    {
     "name": "stdout",
     "output_type": "stream",
     "text": [
      "Now the file has more content!\n"
     ]
    }
   ],
   "source": [
    "f = open(\"demofile2.txt\", \"r\")\n",
    "print(f.read())"
   ]
  },
  {
   "cell_type": "code",
   "execution_count": 25,
   "id": "7c8fc710-0a57-470e-a1f0-82f677cd7d61",
   "metadata": {},
   "outputs": [
    {
     "name": "stdout",
     "output_type": "stream",
     "text": [
      "Woops! I have deleted the content!\n"
     ]
    }
   ],
   "source": [
    "f = open(\"demofile3.txt\", \"w\")\n",
    "f.write(\"Woops! I have deleted the content!\")\n",
    "f.close()\n",
    "\n",
    "#open and read the file after the overwriting:\n",
    "f = open(\"demofile3.txt\", \"r\")\n",
    "print(f.read())"
   ]
  },
  {
   "cell_type": "code",
   "execution_count": 27,
   "id": "ac202fc7-581a-4b7c-90d8-5fdc272ddf00",
   "metadata": {},
   "outputs": [],
   "source": [
    "f = open(\"C:\\\\Users\\SkillCircle\\Documents\\demo2.txt\", \"a\")\n",
    "f.write(\"Now the file has more content!\")\n",
    "f.close()"
   ]
  },
  {
   "cell_type": "code",
   "execution_count": 28,
   "id": "50972abf-a457-4410-9726-2627b427ba4c",
   "metadata": {},
   "outputs": [],
   "source": [
    "import os\n",
    "os.remove(\"C:\\\\Users\\SkillCircle\\Documents\\demo2.txt\")"
   ]
  },
  {
   "cell_type": "code",
   "execution_count": 29,
   "id": "ef9635a4-9be0-4991-b1ee-b4b5d4db9cc5",
   "metadata": {},
   "outputs": [],
   "source": [
    "os.remove(\"C:\\\\Users\\SkillCircle\\Documents\\my.txt\")"
   ]
  },
  {
   "cell_type": "code",
   "execution_count": 30,
   "id": "130c0025-0482-47f6-a445-146673031091",
   "metadata": {},
   "outputs": [
    {
     "name": "stdout",
     "output_type": "stream",
     "text": [
      "['DirEntry', 'EX_OK', 'F_OK', 'GenericAlias', 'Mapping', 'MutableMapping', 'O_APPEND', 'O_BINARY', 'O_CREAT', 'O_EXCL', 'O_NOINHERIT', 'O_RANDOM', 'O_RDONLY', 'O_RDWR', 'O_SEQUENTIAL', 'O_SHORT_LIVED', 'O_TEMPORARY', 'O_TEXT', 'O_TRUNC', 'O_WRONLY', 'P_DETACH', 'P_NOWAIT', 'P_NOWAITO', 'P_OVERLAY', 'P_WAIT', 'PathLike', 'R_OK', 'SEEK_CUR', 'SEEK_END', 'SEEK_SET', 'TMP_MAX', 'W_OK', 'X_OK', '_AddedDllDirectory', '_Environ', '__all__', '__builtins__', '__doc__', '__file__', '__loader__', '__name__', '__package__', '__spec__', '_check_methods', '_execvpe', '_exists', '_exit', '_fspath', '_get_exports_list', '_walk', '_wrap_close', 'abc', 'abort', 'access', 'add_dll_directory', 'altsep', 'chdir', 'chmod', 'close', 'closerange', 'cpu_count', 'curdir', 'defpath', 'device_encoding', 'devnull', 'dup', 'dup2', 'environ', 'error', 'execl', 'execle', 'execlp', 'execlpe', 'execv', 'execve', 'execvp', 'execvpe', 'extsep', 'fdopen', 'fsdecode', 'fsencode', 'fspath', 'fstat', 'fsync', 'ftruncate', 'get_exec_path', 'get_handle_inheritable', 'get_inheritable', 'get_terminal_size', 'getcwd', 'getcwdb', 'getenv', 'getlogin', 'getpid', 'getppid', 'isatty', 'kill', 'linesep', 'link', 'listdir', 'lseek', 'lstat', 'makedirs', 'mkdir', 'name', 'open', 'pardir', 'path', 'pathsep', 'pipe', 'popen', 'putenv', 'read', 'readlink', 'remove', 'removedirs', 'rename', 'renames', 'replace', 'rmdir', 'scandir', 'sep', 'set_handle_inheritable', 'set_inheritable', 'spawnl', 'spawnle', 'spawnv', 'spawnve', 'st', 'startfile', 'stat', 'stat_result', 'statvfs_result', 'strerror', 'supports_bytes_environ', 'supports_dir_fd', 'supports_effective_ids', 'supports_fd', 'supports_follow_symlinks', 'symlink', 'sys', 'system', 'terminal_size', 'times', 'times_result', 'truncate', 'umask', 'uname_result', 'unlink', 'unsetenv', 'urandom', 'utime', 'waitpid', 'waitstatus_to_exitcode', 'walk', 'write']\n"
     ]
    }
   ],
   "source": [
    "a = dir(os)\n",
    "print(a)"
   ]
  },
  {
   "cell_type": "code",
   "execution_count": 31,
   "id": "a8eb96f4-af0d-4afa-b49b-eaaa5b954e01",
   "metadata": {},
   "outputs": [],
   "source": [
    "os.rmdir(\"my\")"
   ]
  }
 ],
 "metadata": {
  "kernelspec": {
   "display_name": "Python 3 (ipykernel)",
   "language": "python",
   "name": "python3"
  },
  "language_info": {
   "codemirror_mode": {
    "name": "ipython",
    "version": 3
   },
   "file_extension": ".py",
   "mimetype": "text/x-python",
   "name": "python",
   "nbconvert_exporter": "python",
   "pygments_lexer": "ipython3",
   "version": "3.11.7"
  }
 },
 "nbformat": 4,
 "nbformat_minor": 5
}
