{
 "cells": [
  {
   "cell_type": "code",
   "execution_count": 5,
   "id": "410885ba-6aee-48a4-996e-bfe6e0288f69",
   "metadata": {},
   "outputs": [
    {
     "name": "stdin",
     "output_type": "stream",
     "text": [
      "Please enter your age:  65\n"
     ]
    },
    {
     "name": "stdout",
     "output_type": "stream",
     "text": [
      "You have 9125 days, 1300 weeks, and 300 months left.\n"
     ]
    }
   ],
   "source": [
    "age = input(\"Please enter your age: \")\n",
    "\n",
    "years = 90 - int(age)\n",
    "months = round(years * 12)\n",
    "weeks = round(years * 52)\n",
    "days = round(years * 365)\n",
    "\n",
    "print(f\"You have {days} days, {weeks} weeks, and {months} months left.\")"
   ]
  }
 ],
 "metadata": {
  "kernelspec": {
   "display_name": "Python 3 (ipykernel)",
   "language": "python",
   "name": "python3"
  },
  "language_info": {
   "codemirror_mode": {
    "name": "ipython",
    "version": 3
   },
   "file_extension": ".py",
   "mimetype": "text/x-python",
   "name": "python",
   "nbconvert_exporter": "python",
   "pygments_lexer": "ipython3",
   "version": "3.11.7"
  }
 },
 "nbformat": 4,
 "nbformat_minor": 5
}
