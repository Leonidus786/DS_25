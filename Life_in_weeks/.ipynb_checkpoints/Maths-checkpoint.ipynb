{
 "cells": [
  {
   "cell_type": "code",
   "execution_count": 6,
   "id": "8149e293-398e-41a4-938b-74b777f912a1",
   "metadata": {},
   "outputs": [
    {
     "name": "stdout",
     "output_type": "stream",
     "text": [
      "Amit you got 40 marks.\n"
     ]
    }
   ],
   "source": [
    "amit = 40\n",
    "\n",
    "print(f\"Amit you got {amit} marks.\")"
   ]
  },
  {
   "cell_type": "code",
   "execution_count": 7,
   "id": "2ee9b2b5-341a-4819-b5cf-54df9d501818",
   "metadata": {},
   "outputs": [],
   "source": [
    "x = [55005, 2343246, 5984876843, 123213, 983748]"
   ]
  },
  {
   "cell_type": "code",
   "execution_count": 8,
   "id": "567d56a3-1697-4f1e-814e-2981aa157218",
   "metadata": {},
   "outputs": [
    {
     "data": {
      "text/plain": [
       "5984876843"
      ]
     },
     "execution_count": 8,
     "metadata": {},
     "output_type": "execute_result"
    }
   ],
   "source": [
    "max(x)"
   ]
  },
  {
   "cell_type": "code",
   "execution_count": 9,
   "id": "3f2d93e0-4c4b-4946-b327-24c263417e86",
   "metadata": {},
   "outputs": [
    {
     "data": {
      "text/plain": [
       "55005"
      ]
     },
     "execution_count": 9,
     "metadata": {},
     "output_type": "execute_result"
    }
   ],
   "source": [
    "min(x)"
   ]
  },
  {
   "cell_type": "code",
   "execution_count": 10,
   "id": "cbf1b48f-beb0-4d90-99be-c197ec4dbd8d",
   "metadata": {},
   "outputs": [
    {
     "data": {
      "text/plain": [
       "2.6666666666666665"
      ]
     },
     "execution_count": 10,
     "metadata": {},
     "output_type": "execute_result"
    }
   ],
   "source": [
    "8/3"
   ]
  },
  {
   "cell_type": "code",
   "execution_count": 11,
   "id": "c032c465-0df1-46e0-8e3e-934729e9d0bf",
   "metadata": {},
   "outputs": [
    {
     "data": {
      "text/plain": [
       "11"
      ]
     },
     "execution_count": 11,
     "metadata": {},
     "output_type": "execute_result"
    }
   ],
   "source": [
    "8 + 3"
   ]
  },
  {
   "cell_type": "code",
   "execution_count": 12,
   "id": "e7654644-832c-414e-ba19-533beb008ca1",
   "metadata": {},
   "outputs": [
    {
     "data": {
      "text/plain": [
       "16"
      ]
     },
     "execution_count": 12,
     "metadata": {},
     "output_type": "execute_result"
    }
   ],
   "source": [
    "8 * 2"
   ]
  },
  {
   "cell_type": "code",
   "execution_count": 13,
   "id": "6890b354-e667-4e43-943f-57e052c49aae",
   "metadata": {},
   "outputs": [
    {
     "data": {
      "text/plain": [
       "5"
      ]
     },
     "execution_count": 13,
     "metadata": {},
     "output_type": "execute_result"
    }
   ],
   "source": [
    "8 -3 "
   ]
  },
  {
   "cell_type": "code",
   "execution_count": 14,
   "id": "642ce004-a2da-4ff0-88e8-c7614e4de4a5",
   "metadata": {},
   "outputs": [
    {
     "data": {
      "text/plain": [
       "2"
      ]
     },
     "execution_count": 14,
     "metadata": {},
     "output_type": "execute_result"
    }
   ],
   "source": [
    "8 % 3"
   ]
  },
  {
   "cell_type": "code",
   "execution_count": 15,
   "id": "281e4a90-a56b-46b2-8a44-3c5f5ffaabb8",
   "metadata": {},
   "outputs": [
    {
     "data": {
      "text/plain": [
       "2"
      ]
     },
     "execution_count": 15,
     "metadata": {},
     "output_type": "execute_result"
    }
   ],
   "source": [
    "8 // 3"
   ]
  },
  {
   "cell_type": "code",
   "execution_count": 16,
   "id": "78538019-98b4-42fe-ab9d-ff75967fb720",
   "metadata": {},
   "outputs": [
    {
     "data": {
      "text/plain": [
       "1.5"
      ]
     },
     "execution_count": 16,
     "metadata": {},
     "output_type": "execute_result"
    }
   ],
   "source": [
    "3/2"
   ]
  },
  {
   "cell_type": "code",
   "execution_count": 17,
   "id": "58d97f14-4a62-44a3-8dd0-770cec076930",
   "metadata": {},
   "outputs": [
    {
     "data": {
      "text/plain": [
       "0.7142857142857143"
      ]
     },
     "execution_count": 17,
     "metadata": {},
     "output_type": "execute_result"
    }
   ],
   "source": [
    "5/7"
   ]
  },
  {
   "cell_type": "code",
   "execution_count": 18,
   "id": "c9c9327b-6345-4e81-88f9-35e43de587cf",
   "metadata": {},
   "outputs": [
    {
     "data": {
      "text/plain": [
       "2.0"
      ]
     },
     "execution_count": 18,
     "metadata": {},
     "output_type": "execute_result"
    }
   ],
   "source": [
    "18/9"
   ]
  },
  {
   "cell_type": "code",
   "execution_count": 19,
   "id": "6ad10c39-fb90-462b-93cf-e016f5b59321",
   "metadata": {},
   "outputs": [
    {
     "data": {
      "text/plain": [
       "0.7142857142857143"
      ]
     },
     "execution_count": 19,
     "metadata": {},
     "output_type": "execute_result"
    }
   ],
   "source": [
    "5/7"
   ]
  },
  {
   "cell_type": "code",
   "execution_count": 20,
   "id": "99709d17-0de2-4a4a-806b-6e42f83eaee6",
   "metadata": {},
   "outputs": [
    {
     "name": "stdout",
     "output_type": "stream",
     "text": [
      "0.71\n"
     ]
    }
   ],
   "source": [
    "print(round(5/7,2))"
   ]
  },
  {
   "cell_type": "code",
   "execution_count": 21,
   "id": "29460d19-7266-46ab-8d3e-84320db98984",
   "metadata": {},
   "outputs": [],
   "source": [
    "pi = 3.141"
   ]
  },
  {
   "cell_type": "code",
   "execution_count": 22,
   "id": "08168061-605b-4323-b3d2-d6a6356792ae",
   "metadata": {},
   "outputs": [
    {
     "data": {
      "text/plain": [
       "3.141"
      ]
     },
     "execution_count": 22,
     "metadata": {},
     "output_type": "execute_result"
    }
   ],
   "source": [
    "pi"
   ]
  },
  {
   "cell_type": "code",
   "execution_count": 23,
   "id": "703cd068-6501-4d8d-9fb8-a9d0bb8ef75d",
   "metadata": {},
   "outputs": [
    {
     "data": {
      "text/plain": [
       "3.1"
      ]
     },
     "execution_count": 23,
     "metadata": {},
     "output_type": "execute_result"
    }
   ],
   "source": [
    "round(pi,1)"
   ]
  },
  {
   "cell_type": "code",
   "execution_count": 24,
   "id": "80aa846d-d477-46f7-a69e-c1fb7c6730e9",
   "metadata": {},
   "outputs": [
    {
     "data": {
      "text/plain": [
       "1"
      ]
     },
     "execution_count": 24,
     "metadata": {},
     "output_type": "execute_result"
    }
   ],
   "source": [
    "round(0.7142857142857143)"
   ]
  },
  {
   "cell_type": "code",
   "execution_count": 28,
   "id": "1c5d790f-76f7-462d-ac6f-f6150f6270b6",
   "metadata": {},
   "outputs": [
    {
     "data": {
      "text/plain": [
       "1"
      ]
     },
     "execution_count": 28,
     "metadata": {},
     "output_type": "execute_result"
    }
   ],
   "source": [
    "round(1.4)"
   ]
  },
  {
   "cell_type": "code",
   "execution_count": 29,
   "id": "b5ec8350-9680-4e12-b046-07201901a823",
   "metadata": {},
   "outputs": [
    {
     "data": {
      "text/plain": [
       "2"
      ]
     },
     "execution_count": 29,
     "metadata": {},
     "output_type": "execute_result"
    }
   ],
   "source": [
    "round(1.5)"
   ]
  },
  {
   "cell_type": "code",
   "execution_count": 32,
   "id": "6371f9e2-0058-4d0d-9538-ac79eedd84c3",
   "metadata": {},
   "outputs": [
    {
     "data": {
      "text/plain": [
       "2"
      ]
     },
     "execution_count": 32,
     "metadata": {},
     "output_type": "execute_result"
    }
   ],
   "source": [
    "round(2.3)"
   ]
  }
 ],
 "metadata": {
  "kernelspec": {
   "display_name": "Python 3 (ipykernel)",
   "language": "python",
   "name": "python3"
  },
  "language_info": {
   "codemirror_mode": {
    "name": "ipython",
    "version": 3
   },
   "file_extension": ".py",
   "mimetype": "text/x-python",
   "name": "python",
   "nbconvert_exporter": "python",
   "pygments_lexer": "ipython3",
   "version": "3.11.7"
  }
 },
 "nbformat": 4,
 "nbformat_minor": 5
}
