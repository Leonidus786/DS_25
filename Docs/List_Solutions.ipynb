{
 "cells": [
  {
   "cell_type": "code",
   "execution_count": 1,
   "id": "a8258552-dd9a-4dcf-8d3e-97e19f212682",
   "metadata": {},
   "outputs": [],
   "source": [
    "# 076 Ask the user to enter the names of three people they want to\n",
    "# invite to a party and store them in a list. After they have entered\n",
    "# all three names, ask them if they want to add another. If they do,\n",
    "# allow them to add more names until they answer “no”. When they\n",
    "# answer “no”, display how many people they have invited to the\n",
    "# party."
   ]
  },
  {
   "cell_type": "code",
   "execution_count": 2,
   "id": "b41f92cf-6347-4b52-9355-574de64fa9c5",
   "metadata": {},
   "outputs": [
    {
     "name": "stdin",
     "output_type": "stream",
     "text": [
      "Enter a name of somebody you want to invite to your party:  Abhishek\n",
      "Enter another name:  Mayank\n",
      "Enter a third name:  Subham\n",
      "Do you want to invite another (y/n):  y\n",
      "Enter another name:  Abhishek\n",
      "Do you want to invite another (y/n):  y\n",
      "Enter another name:  Rajat\n",
      "Do you want to invite another (y/n):  n\n"
     ]
    },
    {
     "name": "stdout",
     "output_type": "stream",
     "text": [
      "You have 5 people coming to your party\n"
     ]
    }
   ],
   "source": [
    "name_1 = input(\"Enter a name of somebody you want to invite to your party: \")\n",
    "name_2 = input(\"Enter another name: \")\n",
    "name_3 = input(\"Enter a third name: \")\n",
    "party = [name_1,name_2,name_3]\n",
    "another = input(\"Do you want to invite another (y/n): \")\n",
    "\n",
    "while another == \"y\":\n",
    "    new_name = party.append(input(\"Enter another name: \"))\n",
    "    another = input(\"Do you want to invite another (y/n): \")\n",
    "print(\"You have\", len(party), \"people coming to your party\")"
   ]
  },
  {
   "cell_type": "code",
   "execution_count": 3,
   "id": "43569921-ce0f-4db2-8576-519327181bc6",
   "metadata": {},
   "outputs": [],
   "source": [
    "# 078 Create a list containing the titles of four TV programmes and\n",
    "# display them on separate lines. Ask the user to enter another\n",
    "# show and a position they want it inserted into the list. Display the\n",
    "# list again, showing all five TV programmes in their new positions."
   ]
  },
  {
   "cell_type": "code",
   "execution_count": 4,
   "id": "31e131a1-5964-4798-a331-24d40fe2bd02",
   "metadata": {},
   "outputs": [
    {
     "name": "stdout",
     "output_type": "stream",
     "text": [
      "Task Master\n",
      "Top Gear\n",
      "The Big Bang Theory\n",
      "How I Met Your Mother\n",
      "\n"
     ]
    },
    {
     "name": "stdin",
     "output_type": "stream",
     "text": [
      "Enter another TV show:  IPL\n",
      "Enter a number between 0 and 3:  0\n"
     ]
    },
    {
     "name": "stdout",
     "output_type": "stream",
     "text": [
      "IPL\n",
      "Task Master\n",
      "Top Gear\n",
      "The Big Bang Theory\n",
      "How I Met Your Mother\n"
     ]
    }
   ],
   "source": [
    "tv = [\"Task Master\",\"Top Gear\",\"The Big Bang Theory\",\"How I Met Your Mother\"]\n",
    "for i in tv:\n",
    "    print(i)\n",
    "print()\n",
    "new_tv = input(\"Enter another TV show: \")\n",
    "position = int(input(\"Enter a number between 0 and 3: \"))\n",
    "tv.insert(position,new_tv)\n",
    "for i in tv:\n",
    "    print(i)"
   ]
  }
 ],
 "metadata": {
  "kernelspec": {
   "display_name": "Python 3 (ipykernel)",
   "language": "python",
   "name": "python3"
  },
  "language_info": {
   "codemirror_mode": {
    "name": "ipython",
    "version": 3
   },
   "file_extension": ".py",
   "mimetype": "text/x-python",
   "name": "python",
   "nbconvert_exporter": "python",
   "pygments_lexer": "ipython3",
   "version": "3.11.7"
  }
 },
 "nbformat": 4,
 "nbformat_minor": 5
}
