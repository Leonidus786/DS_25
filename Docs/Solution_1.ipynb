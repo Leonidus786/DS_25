{
 "cells": [
  {
   "cell_type": "code",
   "execution_count": 1,
   "id": "6a1e1cad-6d7d-414c-9d1d-546070f028f3",
   "metadata": {},
   "outputs": [
    {
     "name": "stdin",
     "output_type": "stream",
     "text": [
      "Please enter your name:  Amit\n"
     ]
    },
    {
     "name": "stdout",
     "output_type": "stream",
     "text": [
      "Hello Amit\n"
     ]
    }
   ],
   "source": [
    "#001 Ask for the user’s first name and display the output message Hello [First Name].\n",
    "\n",
    "firstname = input(\"Please enter your name: \")\n",
    "\n",
    "print(\"Hello\", firstname)"
   ]
  },
  {
   "cell_type": "code",
   "execution_count": 3,
   "id": "95765a72-c0ea-453c-a329-52bf6e3a0f59",
   "metadata": {},
   "outputs": [
    {
     "name": "stdin",
     "output_type": "stream",
     "text": [
      "Please enter your name:  Amit\n",
      "Please enter your surname:  Upadhayay\n"
     ]
    },
    {
     "name": "stdout",
     "output_type": "stream",
     "text": [
      "Hello Amit Upadhayay\n"
     ]
    }
   ],
   "source": [
    "#002 Ask for the user’s first name and then ask for their surname and display the output message \n",
    "\n",
    "firstname = input(\"Please enter your name: \")\n",
    "surname = input(\"Please enter your surname: \")\n",
    "print(\"Hello\", firstname, surname)"
   ]
  },
  {
   "cell_type": "code",
   "execution_count": 4,
   "id": "9e5a70cc-8f32-44bc-b98b-5876a62e3c2c",
   "metadata": {},
   "outputs": [
    {
     "name": "stdout",
     "output_type": "stream",
     "text": [
      "What do you call a bear with no teeth?\n",
      "A gummy bear!\n"
     ]
    }
   ],
   "source": [
    "#003 Write code that will display the joke “What do you call a bear with no teeth?” \n",
    "#and on the next line display the answer “A gummy bear!” \n",
    "\n",
    "print(\"What do you call a bear with no teeth?\\nA gummy bear!\")"
   ]
  },
  {
   "cell_type": "code",
   "execution_count": 5,
   "id": "f3e5abf4-1e37-432c-9b29-ab05d70f60ce",
   "metadata": {},
   "outputs": [
    {
     "name": "stdin",
     "output_type": "stream",
     "text": [
      "Enter a number over 100:  110\n",
      "Enter a number under 10:  3\n"
     ]
    },
    {
     "name": "stdout",
     "output_type": "stream",
     "text": [
      "3 goes into 110 36 times.\n"
     ]
    }
   ],
   "source": [
    "#011 Task the user to enter a number over 100 and then enter a number under 10 \n",
    "#and tell them how many times the smaller number goes into the larger number in \n",
    "#a user-friendly format\n",
    "\n",
    "larger = int(input(\"Enter a number over 100: \"))\n",
    "smaller = int(input(\"Enter a number under 10: \"))\n",
    "\n",
    "answer = larger // smaller\n",
    "print(smaller,\"goes into\",larger, answer,\"times.\")\n"
   ]
  },
  {
   "cell_type": "code",
   "execution_count": null,
   "id": "4815c319-fb7b-45da-9e4d-ed2edecd9205",
   "metadata": {},
   "outputs": [],
   "source": []
  }
 ],
 "metadata": {
  "kernelspec": {
   "display_name": "Python 3 (ipykernel)",
   "language": "python",
   "name": "python3"
  },
  "language_info": {
   "codemirror_mode": {
    "name": "ipython",
    "version": 3
   },
   "file_extension": ".py",
   "mimetype": "text/x-python",
   "name": "python",
   "nbconvert_exporter": "python",
   "pygments_lexer": "ipython3",
   "version": "3.11.7"
  }
 },
 "nbformat": 4,
 "nbformat_minor": 5
}
