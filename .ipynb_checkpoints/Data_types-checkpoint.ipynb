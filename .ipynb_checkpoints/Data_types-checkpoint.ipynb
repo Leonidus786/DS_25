{
 "cells": [
  {
   "cell_type": "code",
   "execution_count": 2,
   "id": "ae0ab507-4125-4519-8098-7eee0a270a19",
   "metadata": {},
   "outputs": [
    {
     "name": "stdout",
     "output_type": "stream",
     "text": [
      "Hello World!\n"
     ]
    }
   ],
   "source": [
    "print(\"Hello World!\")"
   ]
  },
  {
   "cell_type": "code",
   "execution_count": 3,
   "id": "33e8f366-3e18-4ce7-b9ae-dcba1a070d63",
   "metadata": {},
   "outputs": [
    {
     "name": "stdin",
     "output_type": "stream",
     "text": [
      "What is your name? Abhishek\n"
     ]
    },
    {
     "data": {
      "text/plain": [
       "'Abhishek'"
      ]
     },
     "execution_count": 3,
     "metadata": {},
     "output_type": "execute_result"
    }
   ],
   "source": [
    "input(\"What is your name?\")"
   ]
  },
  {
   "cell_type": "code",
   "execution_count": 5,
   "id": "bf167104-069c-4f26-bc19-95d74e69c976",
   "metadata": {},
   "outputs": [],
   "source": [
    "A = \"Abhishek\""
   ]
  },
  {
   "cell_type": "code",
   "execution_count": 6,
   "id": "5889177d-0bfd-4046-b8cb-91ae6d6cc13c",
   "metadata": {},
   "outputs": [],
   "source": [
    "B = \"Upadhayay\""
   ]
  },
  {
   "cell_type": "code",
   "execution_count": 10,
   "id": "e88b2a94-0d02-4854-8ee1-d71f2adc796c",
   "metadata": {},
   "outputs": [
    {
     "name": "stdout",
     "output_type": "stream",
     "text": [
      "Abhishek Upadhayay\n"
     ]
    }
   ],
   "source": [
    "#Concatenation - Addition of more than one string is called concatenation\n",
    "c = A +\" \"+ B\n",
    "print(c)"
   ]
  },
  {
   "cell_type": "code",
   "execution_count": 11,
   "id": "d59c41f5-42b2-47f1-ab18-c85516b6110b",
   "metadata": {},
   "outputs": [],
   "source": [
    "# Multiple Variables\n",
    "a,b,c,d,e = 1,2.5,4+5j,\"Amit\",'r'"
   ]
  },
  {
   "cell_type": "code",
   "execution_count": 12,
   "id": "e4e84bd9-15f3-442e-81aa-c9eea8065b8d",
   "metadata": {},
   "outputs": [
    {
     "data": {
      "text/plain": [
       "1"
      ]
     },
     "execution_count": 12,
     "metadata": {},
     "output_type": "execute_result"
    }
   ],
   "source": [
    "a"
   ]
  },
  {
   "cell_type": "code",
   "execution_count": 13,
   "id": "d8ae8335-76a7-453b-8595-bb044c7833f8",
   "metadata": {},
   "outputs": [
    {
     "data": {
      "text/plain": [
       "2.5"
      ]
     },
     "execution_count": 13,
     "metadata": {},
     "output_type": "execute_result"
    }
   ],
   "source": [
    "b"
   ]
  },
  {
   "cell_type": "code",
   "execution_count": 14,
   "id": "5ea135af-2360-48b5-8abc-37c54f330af6",
   "metadata": {},
   "outputs": [
    {
     "data": {
      "text/plain": [
       "(4+5j)"
      ]
     },
     "execution_count": 14,
     "metadata": {},
     "output_type": "execute_result"
    }
   ],
   "source": [
    "c"
   ]
  },
  {
   "cell_type": "code",
   "execution_count": 15,
   "id": "c4b775b0-198c-4ed3-a5e7-e1e417dd35b4",
   "metadata": {},
   "outputs": [
    {
     "data": {
      "text/plain": [
       "'Amit'"
      ]
     },
     "execution_count": 15,
     "metadata": {},
     "output_type": "execute_result"
    }
   ],
   "source": [
    "d"
   ]
  },
  {
   "cell_type": "code",
   "execution_count": 16,
   "id": "e931f737-edce-42f3-89b2-6c92bbbfe6a1",
   "metadata": {},
   "outputs": [
    {
     "data": {
      "text/plain": [
       "'r'"
      ]
     },
     "execution_count": 16,
     "metadata": {},
     "output_type": "execute_result"
    }
   ],
   "source": [
    "e"
   ]
  },
  {
   "cell_type": "code",
   "execution_count": 18,
   "id": "aa3def0f-c787-467f-94ad-5697b64d9c2e",
   "metadata": {},
   "outputs": [
    {
     "name": "stdout",
     "output_type": "stream",
     "text": [
      "<class 'int'>\n",
      "<class 'float'>\n",
      "<class 'complex'>\n",
      "<class 'str'>\n",
      "<class 'str'>\n"
     ]
    }
   ],
   "source": [
    "#types\n",
    "print(type(a))\n",
    "print(type(b))\n",
    "print(type(c))\n",
    "print(type(d))\n",
    "print(type(e))"
   ]
  },
  {
   "cell_type": "code",
   "execution_count": 21,
   "id": "69816b60-1132-4cce-a38d-a581f41c3c7c",
   "metadata": {},
   "outputs": [
    {
     "name": "stdin",
     "output_type": "stream",
     "text": [
      " 3.5\n"
     ]
    },
    {
     "data": {
      "text/plain": [
       "'3.5'"
      ]
     },
     "execution_count": 21,
     "metadata": {},
     "output_type": "execute_result"
    }
   ],
   "source": [
    "# To take input from user we need to use input function\n",
    "input()"
   ]
  },
  {
   "cell_type": "code",
   "execution_count": 23,
   "id": "602313d3-fe8d-421d-8fcb-c53f64773306",
   "metadata": {},
   "outputs": [
    {
     "name": "stdin",
     "output_type": "stream",
     "text": [
      "Enter a number 23\n"
     ]
    }
   ],
   "source": [
    "#Integer\n",
    "f = int(input(\"Enter a number\"))"
   ]
  },
  {
   "cell_type": "code",
   "execution_count": 24,
   "id": "d6fe0d43-92dd-4c23-9432-7d53e05be26e",
   "metadata": {},
   "outputs": [
    {
     "name": "stdin",
     "output_type": "stream",
     "text": [
      "Enter a number -36\n"
     ]
    }
   ],
   "source": [
    "g = int(input(\"Enter a number\"))"
   ]
  },
  {
   "cell_type": "code",
   "execution_count": 26,
   "id": "d9526ad7-4f40-4ed3-99bb-428deec58943",
   "metadata": {},
   "outputs": [
    {
     "name": "stdin",
     "output_type": "stream",
     "text": [
      "enter a decimal number 45\n"
     ]
    }
   ],
   "source": [
    "# floats\n",
    "h = float(input(\"enter a decimal number\"))"
   ]
  },
  {
   "cell_type": "code",
   "execution_count": 27,
   "id": "97d833b0-a413-49bf-beec-dc9176b06339",
   "metadata": {},
   "outputs": [
    {
     "data": {
      "text/plain": [
       "float"
      ]
     },
     "execution_count": 27,
     "metadata": {},
     "output_type": "execute_result"
    }
   ],
   "source": [
    "type(h)"
   ]
  },
  {
   "cell_type": "code",
   "execution_count": 31,
   "id": "5f359903-4145-4397-90f6-5cc13d715a9d",
   "metadata": {},
   "outputs": [
    {
     "name": "stdin",
     "output_type": "stream",
     "text": [
      "What is your name? Amit\n"
     ]
    }
   ],
   "source": [
    "#String\n",
    "i = str(input(\"What is your name?\"))"
   ]
  },
  {
   "cell_type": "code",
   "execution_count": 30,
   "id": "bf9219c1-c969-438e-80b5-e842aea84d29",
   "metadata": {},
   "outputs": [
    {
     "data": {
      "text/plain": [
       "str"
      ]
     },
     "execution_count": 30,
     "metadata": {},
     "output_type": "execute_result"
    }
   ],
   "source": [
    "type(i)"
   ]
  },
  {
   "cell_type": "code",
   "execution_count": 33,
   "id": "76daefe8-223e-4f01-96d6-761df896993e",
   "metadata": {},
   "outputs": [
    {
     "name": "stdout",
     "output_type": "stream",
     "text": [
      "<class 'list'>\n",
      "[1, 2, 4.8, 'aditya', 'mayank', (3+2j)]\n"
     ]
    }
   ],
   "source": [
    "# Built in data types\n",
    "#list -- basically items will always stay inside square[] brackets.\n",
    "\n",
    "list_1 = [1,2,4.8,\"aditya\",\"mayank\",3+2j]\n",
    "print(type(list_1))\n",
    "print(list_1)"
   ]
  },
  {
   "cell_type": "code",
   "execution_count": 34,
   "id": "350191dd-0131-4743-826c-b3c6f9a65e42",
   "metadata": {},
   "outputs": [
    {
     "name": "stdout",
     "output_type": "stream",
     "text": [
      "<class 'tuple'>\n",
      "(3, 6.7, 'ak', 96, ['a', 'b'])\n"
     ]
    }
   ],
   "source": [
    "#tuple -- items stays inside the round/smaller () brackets.\n",
    "\n",
    "tuple_1 = (3,6.7,\"ak\",96,['a','b'])\n",
    "\n",
    "print(type(tuple_1))\n",
    "print(tuple_1)"
   ]
  },
  {
   "cell_type": "code",
   "execution_count": 35,
   "id": "bc3c38ad-f1b7-4503-a0ab-cee0acd8b52a",
   "metadata": {},
   "outputs": [
    {
     "name": "stdout",
     "output_type": "stream",
     "text": [
      "<class 'dict'>\n",
      "{'key': 'value', '1': 2, 'sand': 'Rajsthan'}\n"
     ]
    }
   ],
   "source": [
    "#dictionary -- items will be in 'key':'value' pair and stays inside curly {} braces.\n",
    "\n",
    "dict_1 = {'key':\"value\", '1':2, 'sand':\"Rajsthan\"}\n",
    "\n",
    "print(type(dict_1))\n",
    "print(dict_1)"
   ]
  },
  {
   "cell_type": "code",
   "execution_count": 36,
   "id": "7c30ee19-a600-447c-a40d-b9e1ef77de05",
   "metadata": {},
   "outputs": [
    {
     "name": "stdout",
     "output_type": "stream",
     "text": [
      "<class 'set'>\n",
      "{1, 2, 3, 4, 5, 7}\n"
     ]
    }
   ],
   "source": [
    "#set \n",
    "\n",
    "set_1 = {1,2,2,3,4,5,5,7}\n",
    "print(type(set_1))\n",
    "print(set_1)"
   ]
  },
  {
   "cell_type": "code",
   "execution_count": 37,
   "id": "06ab7ed8-3ead-49ad-8b06-32662a651566",
   "metadata": {},
   "outputs": [
    {
     "name": "stdout",
     "output_type": "stream",
     "text": [
      "<class 'bool'>\n",
      "<class 'bool'>\n",
      "True\n",
      "False\n"
     ]
    }
   ],
   "source": [
    "#booleans\n",
    "\n",
    "a = True\n",
    "b = False \n",
    "print(type(a))\n",
    "print(type(b))\n",
    "print(a)\n",
    "print(b)"
   ]
  },
  {
   "cell_type": "code",
   "execution_count": 47,
   "id": "84c68937-f42a-49e7-a076-0c4a5c930a01",
   "metadata": {},
   "outputs": [],
   "source": [
    "k = range(20,100)"
   ]
  },
  {
   "cell_type": "code",
   "execution_count": 48,
   "id": "af864a04-787d-4f43-a8b1-24dd21ba8f81",
   "metadata": {},
   "outputs": [
    {
     "name": "stdout",
     "output_type": "stream",
     "text": [
      "range(20, 100)\n"
     ]
    }
   ],
   "source": [
    "print(k)"
   ]
  },
  {
   "cell_type": "code",
   "execution_count": 40,
   "id": "f4762808-daa5-4c78-82af-d736d64bc97b",
   "metadata": {},
   "outputs": [],
   "source": [
    "import random"
   ]
  },
  {
   "cell_type": "code",
   "execution_count": 44,
   "id": "f1c6d57e-9871-4cc8-88b0-3cb10c03c0d9",
   "metadata": {},
   "outputs": [
    {
     "name": "stdout",
     "output_type": "stream",
     "text": [
      "3\n"
     ]
    }
   ],
   "source": [
    "print(random.randrange(1, 10))"
   ]
  },
  {
   "cell_type": "code",
   "execution_count": 49,
   "id": "73d841a2-08a3-41e4-831c-19e48dc1450f",
   "metadata": {},
   "outputs": [],
   "source": [
    "l = range(-9)"
   ]
  },
  {
   "cell_type": "code",
   "execution_count": 50,
   "id": "7a7204f3-a914-4006-9b5b-a36ee86c355b",
   "metadata": {},
   "outputs": [
    {
     "data": {
      "text/plain": [
       "range(0, -9)"
      ]
     },
     "execution_count": 50,
     "metadata": {},
     "output_type": "execute_result"
    }
   ],
   "source": [
    "l"
   ]
  },
  {
   "cell_type": "code",
   "execution_count": 1,
   "id": "277a4ad9-1759-4b0c-947d-9acf8239b0a6",
   "metadata": {},
   "outputs": [],
   "source": [
    "# Bitwise Operators\n",
    "\n",
    "x = 7\n",
    "y = 9"
   ]
  },
  {
   "cell_type": "code",
   "execution_count": 2,
   "id": "041c3a9e-2973-4649-bcf8-53dbe26e5e17",
   "metadata": {},
   "outputs": [
    {
     "name": "stdout",
     "output_type": "stream",
     "text": [
      "1\n"
     ]
    }
   ],
   "source": [
    "# Bitwise AND\n",
    "\n",
    "print(x & y)"
   ]
  },
  {
   "cell_type": "code",
   "execution_count": 3,
   "id": "64deed4c-dd7b-45da-a38f-46d07db8738f",
   "metadata": {},
   "outputs": [
    {
     "name": "stdout",
     "output_type": "stream",
     "text": [
      "15\n"
     ]
    }
   ],
   "source": [
    "# Bitwise OR\n",
    "\n",
    "print(x | y)"
   ]
  },
  {
   "cell_type": "code",
   "execution_count": 4,
   "id": "3b6bd0be-6e4f-4d4e-955d-447f167d33f5",
   "metadata": {},
   "outputs": [
    {
     "name": "stdout",
     "output_type": "stream",
     "text": [
      "14\n"
     ]
    }
   ],
   "source": [
    "# Bitwise XOR\n",
    "\n",
    "print(x ^ y)"
   ]
  },
  {
   "cell_type": "code",
   "execution_count": 7,
   "id": "44e45cde-1b06-4dc2-8fbb-a6f16dc23edf",
   "metadata": {},
   "outputs": [
    {
     "name": "stdout",
     "output_type": "stream",
     "text": [
      "-8\n"
     ]
    }
   ],
   "source": [
    "# Bitwise ~ == -(x+1)\n",
    "print(~x)"
   ]
  },
  {
   "cell_type": "code",
   "execution_count": 6,
   "id": "e40ad7dd-0362-4c84-a37f-d047b5412e2b",
   "metadata": {},
   "outputs": [
    {
     "name": "stdout",
     "output_type": "stream",
     "text": [
      "14\n"
     ]
    }
   ],
   "source": [
    "# bitwise << left shift\n",
    "\n",
    "print(x << 1)"
   ]
  },
  {
   "cell_type": "code",
   "execution_count": 8,
   "id": "d51017c8-e5b5-4f6b-8622-b70cc5ae2595",
   "metadata": {},
   "outputs": [
    {
     "name": "stdout",
     "output_type": "stream",
     "text": [
      "1\n"
     ]
    }
   ],
   "source": [
    "# bitwise >> right shift\n",
    "print(x >> 2)"
   ]
  },
  {
   "cell_type": "code",
   "execution_count": 9,
   "id": "dc75d0b6-8b87-4bfe-b2ba-c2b55a0e67be",
   "metadata": {},
   "outputs": [
    {
     "name": "stdout",
     "output_type": "stream",
     "text": [
      "2\n"
     ]
    }
   ],
   "source": [
    "print(y >> 2)"
   ]
  }
 ],
 "metadata": {
  "kernelspec": {
   "display_name": "Python 3 (ipykernel)",
   "language": "python",
   "name": "python3"
  },
  "language_info": {
   "codemirror_mode": {
    "name": "ipython",
    "version": 3
   },
   "file_extension": ".py",
   "mimetype": "text/x-python",
   "name": "python",
   "nbconvert_exporter": "python",
   "pygments_lexer": "ipython3",
   "version": "3.11.7"
  }
 },
 "nbformat": 4,
 "nbformat_minor": 5
}
