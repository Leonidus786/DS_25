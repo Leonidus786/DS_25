{
 "cells": [
  {
   "cell_type": "code",
   "execution_count": 1,
   "id": "6e6fdc03-d08f-43bd-99c9-88b8133b9dd0",
   "metadata": {},
   "outputs": [],
   "source": [
    "def myfunc():\n",
    "  x = 300\n",
    "  print(x)"
   ]
  },
  {
   "cell_type": "code",
   "execution_count": 3,
   "id": "ce2dd16c-5468-409d-bbba-1ccf9a70bf94",
   "metadata": {},
   "outputs": [
    {
     "name": "stdout",
     "output_type": "stream",
     "text": [
      "300\n"
     ]
    }
   ],
   "source": [
    "myfunc()"
   ]
  },
  {
   "cell_type": "code",
   "execution_count": 4,
   "id": "5bce9e14-fda6-4a23-b9ef-fb23e45d29be",
   "metadata": {},
   "outputs": [],
   "source": [
    "y = \"Kuch Bhi\""
   ]
  },
  {
   "cell_type": "code",
   "execution_count": null,
   "id": "7f0bfc75-4fb3-4679-8eff-adb0e1fc3557",
   "metadata": {},
   "outputs": [],
   "source": []
  },
  {
   "cell_type": "code",
   "execution_count": null,
   "id": "3391c5db-1ca4-414b-9ac5-c7024b0b5bb7",
   "metadata": {},
   "outputs": [],
   "source": []
  },
  {
   "cell_type": "code",
   "execution_count": null,
   "id": "27b99388-8aae-42ee-bbec-3245a2ff9fa3",
   "metadata": {},
   "outputs": [],
   "source": []
  },
  {
   "cell_type": "code",
   "execution_count": null,
   "id": "86e9ee56-c031-47ef-99f8-42bd92d57581",
   "metadata": {},
   "outputs": [],
   "source": []
  },
  {
   "cell_type": "code",
   "execution_count": null,
   "id": "ff0d7e19-1985-4ac6-8d68-08f481a313c9",
   "metadata": {},
   "outputs": [],
   "source": []
  },
  {
   "cell_type": "code",
   "execution_count": null,
   "id": "2d32d257-8ffa-4f48-86d1-bc062d23d092",
   "metadata": {},
   "outputs": [],
   "source": []
  },
  {
   "cell_type": "code",
   "execution_count": null,
   "id": "9b259eeb-9bc8-485d-94d0-c3b7547cee86",
   "metadata": {},
   "outputs": [],
   "source": []
  },
  {
   "cell_type": "code",
   "execution_count": null,
   "id": "2641f377-e631-42ee-8cc7-22e3c4b9072d",
   "metadata": {},
   "outputs": [],
   "source": []
  },
  {
   "cell_type": "code",
   "execution_count": null,
   "id": "3a97a821-6811-4fdc-9345-2235d62215a6",
   "metadata": {},
   "outputs": [],
   "source": []
  },
  {
   "cell_type": "code",
   "execution_count": null,
   "id": "623f673c-0f10-4572-a9a5-f5a65defb55e",
   "metadata": {},
   "outputs": [],
   "source": []
  },
  {
   "cell_type": "code",
   "execution_count": 5,
   "id": "2951d50a-7570-4976-b335-4e814d4bc26a",
   "metadata": {},
   "outputs": [
    {
     "name": "stdout",
     "output_type": "stream",
     "text": [
      "K\n",
      "u\n",
      "c\n",
      "h\n",
      " \n",
      "B\n",
      "h\n",
      "i\n"
     ]
    }
   ],
   "source": [
    "for x in y:\n",
    "    print(x)"
   ]
  },
  {
   "cell_type": "code",
   "execution_count": null,
   "id": "1875ce05-c3f0-43a3-8eda-117e10824ee4",
   "metadata": {},
   "outputs": [],
   "source": []
  }
 ],
 "metadata": {
  "kernelspec": {
   "display_name": "Python 3 (ipykernel)",
   "language": "python",
   "name": "python3"
  },
  "language_info": {
   "codemirror_mode": {
    "name": "ipython",
    "version": 3
   },
   "file_extension": ".py",
   "mimetype": "text/x-python",
   "name": "python",
   "nbconvert_exporter": "python",
   "pygments_lexer": "ipython3",
   "version": "3.11.7"
  }
 },
 "nbformat": 4,
 "nbformat_minor": 5
}
