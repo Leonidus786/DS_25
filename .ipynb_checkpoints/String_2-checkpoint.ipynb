{
 "cells": [
  {
   "cell_type": "markdown",
   "id": "2bf4bf23-178a-4d1d-bcea-df124af9ad5d",
   "metadata": {},
   "source": [
    "# Strings Properties\n",
    "\n",
    "- **Note:** The first character has index 0."
   ]
  },
  {
   "cell_type": "markdown",
   "id": "3f4f5ed2-7948-462d-9718-1d59c53a5247",
   "metadata": {},
   "source": [
    "# 1. Slicing"
   ]
  },
  {
   "cell_type": "code",
   "execution_count": 2,
   "id": "93bd1771-257c-4892-8ea3-7ade090b4e5a",
   "metadata": {},
   "outputs": [
    {
     "data": {
      "text/plain": [
       "8"
      ]
     },
     "execution_count": 2,
     "metadata": {},
     "output_type": "execute_result"
    }
   ],
   "source": [
    "# 1. Slicing -> To give a range of characters from string.\n",
    "\n",
    "Name = \"Abhishek\"\n",
    "len(Name)"
   ]
  },
  {
   "cell_type": "code",
   "execution_count": 12,
   "id": "c85ba299-760b-42c4-bdf5-d17750203b76",
   "metadata": {},
   "outputs": [
    {
     "name": "stdout",
     "output_type": "stream",
     "text": [
      "Abhi\n"
     ]
    }
   ],
   "source": [
    "# slice [Start:End] --> start - should be a part of string but End is not counted.\n",
    "# Counted from left to right\n",
    "\n",
    "print(Name[0:4])"
   ]
  },
  {
   "cell_type": "code",
   "execution_count": 11,
   "id": "c9eee57b-014a-4ba9-88e0-d02014ac54a0",
   "metadata": {},
   "outputs": [
    {
     "name": "stdout",
     "output_type": "stream",
     "text": [
      "Abhi\n"
     ]
    }
   ],
   "source": [
    "print(Name[:4])"
   ]
  },
  {
   "cell_type": "code",
   "execution_count": 6,
   "id": "ce77234d-ac0b-4fe1-b4f6-66fb6bb5ece7",
   "metadata": {},
   "outputs": [
    {
     "name": "stdout",
     "output_type": "stream",
     "text": [
      "shek\n"
     ]
    }
   ],
   "source": [
    "\n",
    "print(Name[4:])"
   ]
  },
  {
   "cell_type": "code",
   "execution_count": 14,
   "id": "62f2988e-708b-45b4-8eaa-d102fb2fe080",
   "metadata": {},
   "outputs": [
    {
     "name": "stdout",
     "output_type": "stream",
     "text": [
      "Abhi\n"
     ]
    }
   ],
   "source": [
    "#Counted from right to left\n",
    "\n",
    "print(Name[:-4])"
   ]
  },
  {
   "cell_type": "code",
   "execution_count": 15,
   "id": "8ec0d9ae-0842-4efc-907c-3739955b9d7b",
   "metadata": {},
   "outputs": [
    {
     "name": "stdout",
     "output_type": "stream",
     "text": [
      "Abhi\n"
     ]
    }
   ],
   "source": [
    "print(Name[-8:-4])"
   ]
  },
  {
   "cell_type": "code",
   "execution_count": 16,
   "id": "54fa9adb-68f3-4cdf-a7b8-8e02dbe94d7b",
   "metadata": {},
   "outputs": [
    {
     "name": "stdout",
     "output_type": "stream",
     "text": [
      "shek\n"
     ]
    }
   ],
   "source": [
    "print(Name[-4:])"
   ]
  },
  {
   "cell_type": "code",
   "execution_count": 17,
   "id": "66be64dc-092c-4133-8d20-c018639af1d1",
   "metadata": {},
   "outputs": [
    {
     "name": "stdout",
     "output_type": "stream",
     "text": [
      "s\n"
     ]
    }
   ],
   "source": [
    "print(Name[4])"
   ]
  },
  {
   "cell_type": "code",
   "execution_count": 7,
   "id": "e06dd71e-004e-41d9-a208-3778c8553917",
   "metadata": {},
   "outputs": [],
   "source": [
    "str_1 = \"Position of the last element when counted From left to right is\""
   ]
  },
  {
   "cell_type": "code",
   "execution_count": 8,
   "id": "163e8545-c7d3-4da1-927b-ef922285bde8",
   "metadata": {},
   "outputs": [
    {
     "data": {
      "text/plain": [
       "63"
      ]
     },
     "execution_count": 8,
     "metadata": {},
     "output_type": "execute_result"
    }
   ],
   "source": [
    "len(str_1)"
   ]
  },
  {
   "cell_type": "code",
   "execution_count": 9,
   "id": "04dd71c5-e4b5-4024-9b9c-1000c298965a",
   "metadata": {},
   "outputs": [
    {
     "name": "stdout",
     "output_type": "stream",
     "text": [
      "s\n"
     ]
    }
   ],
   "source": [
    "print(str_1[62])"
   ]
  },
  {
   "cell_type": "code",
   "execution_count": 10,
   "id": "ed9ee274-b97c-4505-86c7-28c820dec8d2",
   "metadata": {},
   "outputs": [
    {
     "name": "stdout",
     "output_type": "stream",
     "text": [
      "P\n"
     ]
    }
   ],
   "source": [
    "print(str_1[-63])"
   ]
  },
  {
   "cell_type": "code",
   "execution_count": 18,
   "id": "2ead0147-2e18-4243-871c-484902471821",
   "metadata": {},
   "outputs": [
    {
     "data": {
      "text/plain": [
       "9"
      ]
     },
     "execution_count": 18,
     "metadata": {},
     "output_type": "execute_result"
    }
   ],
   "source": [
    "# [Start:End:Step]\n",
    "\n",
    "Natural_nos = \"123456789\"\n",
    "\n",
    "len(Natural_nos)"
   ]
  },
  {
   "cell_type": "code",
   "execution_count": 19,
   "id": "bf64f5fc-2d2a-44e3-8bda-150f9ad4fff2",
   "metadata": {},
   "outputs": [
    {
     "name": "stdout",
     "output_type": "stream",
     "text": [
      "13579\n"
     ]
    }
   ],
   "source": [
    "odd_nos = print(Natural_nos[::2])"
   ]
  },
  {
   "cell_type": "code",
   "execution_count": 22,
   "id": "2494c79c-c893-4337-a3d7-490650d7594f",
   "metadata": {},
   "outputs": [
    {
     "name": "stdout",
     "output_type": "stream",
     "text": [
      "2468\n"
     ]
    }
   ],
   "source": [
    "even_nos = print(Natural_nos[1::2])"
   ]
  },
  {
   "cell_type": "code",
   "execution_count": 23,
   "id": "45b0e466-e617-40b2-9489-4753584819e1",
   "metadata": {},
   "outputs": [
    {
     "name": "stdout",
     "output_type": "stream",
     "text": [
      "1\n"
     ]
    }
   ],
   "source": [
    "print(Natural_nos[0])"
   ]
  },
  {
   "cell_type": "code",
   "execution_count": 24,
   "id": "34e589a4-9942-455d-a4d9-518381ba659c",
   "metadata": {},
   "outputs": [],
   "source": [
    "# Do try with negatives on your own with family names "
   ]
  },
  {
   "cell_type": "markdown",
   "id": "b84ffa2d-699e-4e1f-8114-5366ebeca395",
   "metadata": {},
   "source": [
    "# 2. Modifying Strings"
   ]
  },
  {
   "cell_type": "code",
   "execution_count": 25,
   "id": "912ce780-c04b-43d3-a650-7c721d03d60c",
   "metadata": {},
   "outputs": [],
   "source": [
    "User_name = \"Leonidus_786\""
   ]
  },
  {
   "cell_type": "code",
   "execution_count": 26,
   "id": "15ca9b79-8a2b-496a-8dcb-d9dc9b7c4fa5",
   "metadata": {},
   "outputs": [
    {
     "name": "stdout",
     "output_type": "stream",
     "text": [
      "LEONIDUS_786\n"
     ]
    }
   ],
   "source": [
    "# upper()\n",
    "\n",
    "print(User_name.upper())"
   ]
  },
  {
   "cell_type": "code",
   "execution_count": 27,
   "id": "d5c6963c-152c-494e-a839-d3590683743b",
   "metadata": {},
   "outputs": [
    {
     "name": "stdout",
     "output_type": "stream",
     "text": [
      "leonidus_786\n"
     ]
    }
   ],
   "source": [
    "# lower()\n",
    "\n",
    "print(User_name.lower())"
   ]
  },
  {
   "cell_type": "code",
   "execution_count": 28,
   "id": "f07b100b-5bda-46c2-8bb3-a130435e9f81",
   "metadata": {},
   "outputs": [],
   "source": [
    "Name = \"      Full Name        \""
   ]
  },
  {
   "cell_type": "code",
   "execution_count": 29,
   "id": "2de05893-2cd9-4e17-83a9-c3c6d805c762",
   "metadata": {},
   "outputs": [
    {
     "name": "stdout",
     "output_type": "stream",
     "text": [
      "Full Name\n"
     ]
    }
   ],
   "source": [
    "# strip()\n",
    "\n",
    "print(Name.strip())"
   ]
  },
  {
   "cell_type": "code",
   "execution_count": null,
   "id": "1efe4212-35f1-4a2e-b4c7-4ca5b10c6713",
   "metadata": {},
   "outputs": [],
   "source": []
  }
 ],
 "metadata": {
  "kernelspec": {
   "display_name": "Python 3 (ipykernel)",
   "language": "python",
   "name": "python3"
  },
  "language_info": {
   "codemirror_mode": {
    "name": "ipython",
    "version": 3
   },
   "file_extension": ".py",
   "mimetype": "text/x-python",
   "name": "python",
   "nbconvert_exporter": "python",
   "pygments_lexer": "ipython3",
   "version": "3.11.7"
  }
 },
 "nbformat": 4,
 "nbformat_minor": 5
}
