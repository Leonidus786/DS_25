{
 "cells": [
  {
   "cell_type": "code",
   "execution_count": 1,
   "id": "399f9693-fe5f-4a6e-9d69-401b4d52ace8",
   "metadata": {},
   "outputs": [
    {
     "data": {
      "text/plain": [
       "2j"
      ]
     },
     "execution_count": 1,
     "metadata": {},
     "output_type": "execute_result"
    }
   ],
   "source": [
    "# Complex --> x + yj --> x - Real number and yj - Imaginary number\n",
    "\n",
    "a = 2j\n",
    "a"
   ]
  },
  {
   "cell_type": "code",
   "execution_count": 2,
   "id": "79f3b594-f5a7-41f6-aad7-aa7f8f37e4e9",
   "metadata": {},
   "outputs": [
    {
     "data": {
      "text/plain": [
       "complex"
      ]
     },
     "execution_count": 2,
     "metadata": {},
     "output_type": "execute_result"
    }
   ],
   "source": [
    "type(a)"
   ]
  },
  {
   "cell_type": "markdown",
   "id": "fe885d08-419d-42e4-bdc6-1e9a8ecec45e",
   "metadata": {},
   "source": [
    "# Operators in Python\n",
    "\n",
    "1. Arithmetic operators\r",
    "2. \n",
    "Assignment operators3. \r\n",
    "Comparison operator4. s\r\n",
    "Logical operato5. rs\r\n",
    "Identity operat6. ors\r\n",
    "Membership opera7. tors\r\n",
    "Bitwise operators"
   ]
  },
  {
   "cell_type": "code",
   "execution_count": 3,
   "id": "5f44f3ea-1ec1-4553-aa70-b6fb1c9b20c6",
   "metadata": {},
   "outputs": [],
   "source": [
    "# Arithmetic operators\n",
    "# +,-,*,/,//,%,**"
   ]
  },
  {
   "cell_type": "code",
   "execution_count": 5,
   "id": "09b3ad7a-cd73-48b7-98d4-258756958702",
   "metadata": {},
   "outputs": [
    {
     "name": "stdout",
     "output_type": "stream",
     "text": [
      "-1\n"
     ]
    }
   ],
   "source": [
    "# Addition -- +\n",
    "\n",
    "b = 2\n",
    "c = -3\n",
    "print(b+c)"
   ]
  },
  {
   "cell_type": "code",
   "execution_count": 19,
   "id": "b6b1a08b-469d-4221-bf58-92d0c451f1fe",
   "metadata": {},
   "outputs": [
    {
     "data": {
      "text/plain": [
       "140727324033864"
      ]
     },
     "execution_count": 19,
     "metadata": {},
     "output_type": "execute_result"
    }
   ],
   "source": [
    "# if you want to check the location of variable inside the computers memory -- id()\n",
    "id(b)"
   ]
  },
  {
   "cell_type": "code",
   "execution_count": 7,
   "id": "a381f8d4-dd44-4d3b-a9d2-0eb27361b2f4",
   "metadata": {},
   "outputs": [
    {
     "name": "stdout",
     "output_type": "stream",
     "text": [
      "140727324033704\n"
     ]
    }
   ],
   "source": [
    "print(id(c))"
   ]
  },
  {
   "cell_type": "code",
   "execution_count": 8,
   "id": "2c2c73b1-2daa-420b-83a9-803fd4b74642",
   "metadata": {},
   "outputs": [
    {
     "name": "stdout",
     "output_type": "stream",
     "text": [
      "30.879999999999995\n"
     ]
    }
   ],
   "source": [
    "c = -19.67\n",
    "d = 50.55\n",
    "\n",
    "e = c+d\n",
    "print(e)"
   ]
  },
  {
   "cell_type": "code",
   "execution_count": 9,
   "id": "a0227439-da24-4cfa-b6ae-155e5e95208c",
   "metadata": {},
   "outputs": [
    {
     "name": "stdout",
     "output_type": "stream",
     "text": [
      "1\n"
     ]
    }
   ],
   "source": [
    "# Subtraction --> -\n",
    "f = 5\n",
    "g = 4\n",
    "h = f-g\n",
    "print(h)"
   ]
  },
  {
   "cell_type": "code",
   "execution_count": 10,
   "id": "a13cf43a-fd8e-426a-ac20-504e1572a8bd",
   "metadata": {},
   "outputs": [],
   "source": [
    "# Try above things for different data types"
   ]
  },
  {
   "cell_type": "code",
   "execution_count": 20,
   "id": "46fd22de-8319-4e59-b082-0a378add1d97",
   "metadata": {},
   "outputs": [
    {
     "name": "stdout",
     "output_type": "stream",
     "text": [
      "-135\n"
     ]
    }
   ],
   "source": [
    "#Multiplication - *\n",
    "i = -3\n",
    "j = 45\n",
    "k = i * j\n",
    "print(k)"
   ]
  },
  {
   "cell_type": "code",
   "execution_count": 21,
   "id": "a376c49a-b994-425c-80cf-04ec0472a153",
   "metadata": {},
   "outputs": [
    {
     "data": {
      "text/plain": [
       "15.666666666666666"
      ]
     },
     "execution_count": 21,
     "metadata": {},
     "output_type": "execute_result"
    }
   ],
   "source": [
    "# Divison - /\n",
    "l = 47\n",
    "m = 3\n",
    "n = l/m\n",
    "n"
   ]
  },
  {
   "cell_type": "code",
   "execution_count": 22,
   "id": "195e9a4a-aad9-464e-bfab-5f436e3d4229",
   "metadata": {},
   "outputs": [
    {
     "data": {
      "text/plain": [
       "15"
      ]
     },
     "execution_count": 22,
     "metadata": {},
     "output_type": "execute_result"
    }
   ],
   "source": [
    "# Floor divison - //\n",
    "l = 47\n",
    "m = 3\n",
    "n = l//m\n",
    "n"
   ]
  },
  {
   "cell_type": "code",
   "execution_count": 23,
   "id": "6d314233-cc4d-46be-99c9-fd2a5aed105b",
   "metadata": {},
   "outputs": [
    {
     "data": {
      "text/plain": [
       "2"
      ]
     },
     "execution_count": 23,
     "metadata": {},
     "output_type": "execute_result"
    }
   ],
   "source": [
    "# Remainder -- % -- Modulo operator\n",
    "\n",
    "l = 47\n",
    "m = 3\n",
    "n = l%m\n",
    "n"
   ]
  },
  {
   "cell_type": "code",
   "execution_count": 25,
   "id": "f71f9faa-7d49-491c-95f6-79ecf681e1d7",
   "metadata": {},
   "outputs": [
    {
     "data": {
      "text/plain": [
       "8"
      ]
     },
     "execution_count": 25,
     "metadata": {},
     "output_type": "execute_result"
    }
   ],
   "source": [
    "# Exponentiation -- Power of something\n",
    "\n",
    "o = 2\n",
    "p = 3\n",
    "\n",
    "q = o ** p # o to the power of p\n",
    "q\n"
   ]
  },
  {
   "cell_type": "code",
   "execution_count": 32,
   "id": "2a7c729a-b822-4c1f-9f3f-c3aa094d25e6",
   "metadata": {},
   "outputs": [
    {
     "data": {
      "text/plain": [
       "7"
      ]
     },
     "execution_count": 32,
     "metadata": {},
     "output_type": "execute_result"
    }
   ],
   "source": [
    "# Assignment Operators\n",
    "# =\n",
    "r = 7\n",
    "r"
   ]
  },
  {
   "cell_type": "code",
   "execution_count": 33,
   "id": "5bac8d45-7cb3-4298-b237-39235632024b",
   "metadata": {},
   "outputs": [
    {
     "data": {
      "text/plain": [
       "12"
      ]
     },
     "execution_count": 33,
     "metadata": {},
     "output_type": "execute_result"
    }
   ],
   "source": [
    "# +=\n",
    "r += 5\n",
    "r"
   ]
  },
  {
   "cell_type": "code",
   "execution_count": 34,
   "id": "dfccb552-8bfa-4d8f-b82b-1a21936d5afb",
   "metadata": {},
   "outputs": [
    {
     "data": {
      "text/plain": [
       "8"
      ]
     },
     "execution_count": 34,
     "metadata": {},
     "output_type": "execute_result"
    }
   ],
   "source": [
    "# -=\n",
    "\n",
    "r -= 4\n",
    "r"
   ]
  },
  {
   "cell_type": "code",
   "execution_count": 35,
   "id": "ef02b9c6-742b-489c-a12a-c54fc40f4fb5",
   "metadata": {},
   "outputs": [
    {
     "data": {
      "text/plain": [
       "12"
      ]
     },
     "execution_count": 35,
     "metadata": {},
     "output_type": "execute_result"
    }
   ],
   "source": [
    "r -= -4\n",
    "r"
   ]
  },
  {
   "cell_type": "code",
   "execution_count": 36,
   "id": "3dfb5abd-412e-4403-bcc5-c8eafeb7f304",
   "metadata": {},
   "outputs": [
    {
     "data": {
      "text/plain": [
       "60"
      ]
     },
     "execution_count": 36,
     "metadata": {},
     "output_type": "execute_result"
    }
   ],
   "source": [
    "# *=\n",
    "\n",
    "r *= 5\n",
    "r"
   ]
  },
  {
   "cell_type": "code",
   "execution_count": 38,
   "id": "e25f5ef4-4816-4030-b259-b8148c84dd83",
   "metadata": {},
   "outputs": [
    {
     "data": {
      "text/plain": [
       "False"
      ]
     },
     "execution_count": 38,
     "metadata": {},
     "output_type": "execute_result"
    }
   ],
   "source": [
    "# Comparison Operators\n",
    "# == - Equal to\n",
    "s = 5\n",
    "t = 6\n",
    "s == t"
   ]
  },
  {
   "cell_type": "code",
   "execution_count": 41,
   "id": "09959052-4bac-430b-902a-40ed1376137f",
   "metadata": {},
   "outputs": [
    {
     "name": "stdout",
     "output_type": "stream",
     "text": [
      "False\n",
      "True\n"
     ]
    }
   ],
   "source": [
    "# Greater Than -- >\n",
    "print(s > t)\n",
    "print(t > s)"
   ]
  },
  {
   "cell_type": "code",
   "execution_count": 42,
   "id": "2d182a5b-e89d-426f-b9c7-7d403dfbbd0b",
   "metadata": {},
   "outputs": [
    {
     "name": "stdout",
     "output_type": "stream",
     "text": [
      "True\n",
      "False\n"
     ]
    }
   ],
   "source": [
    "# Less Than -- <\n",
    "print(s < t)\n",
    "print(t < s)"
   ]
  },
  {
   "cell_type": "code",
   "execution_count": 45,
   "id": "131765d3-a990-41cc-936d-3fe29f7aeb06",
   "metadata": {},
   "outputs": [
    {
     "name": "stdout",
     "output_type": "stream",
     "text": [
      "False\n",
      "True\n"
     ]
    }
   ],
   "source": [
    "# => -- greater than equal to\n",
    "\n",
    "print(s >= t)\n",
    "print(t >= s)"
   ]
  },
  {
   "cell_type": "code",
   "execution_count": 46,
   "id": "5f932405-9fc5-4075-9d4c-0bf8dca99c09",
   "metadata": {},
   "outputs": [
    {
     "name": "stdout",
     "output_type": "stream",
     "text": [
      "True\n",
      "False\n"
     ]
    }
   ],
   "source": [
    "# <= -- less than equal to\n",
    "print(s <= t)\n",
    "print(t <= s)"
   ]
  },
  {
   "cell_type": "code",
   "execution_count": 47,
   "id": "84e34eb6-630e-4437-8235-44aafb69ff99",
   "metadata": {},
   "outputs": [
    {
     "name": "stdout",
     "output_type": "stream",
     "text": [
      "True\n"
     ]
    }
   ],
   "source": [
    "# Not equal to --> !=\n",
    "\n",
    "print(s != t)"
   ]
  },
  {
   "cell_type": "code",
   "execution_count": 48,
   "id": "9f3f982d-ddd1-46dd-8cf4-6b9af3b8a200",
   "metadata": {},
   "outputs": [
    {
     "data": {
      "text/plain": [
       "False"
      ]
     },
     "execution_count": 48,
     "metadata": {},
     "output_type": "execute_result"
    }
   ],
   "source": [
    "s is t"
   ]
  },
  {
   "cell_type": "code",
   "execution_count": 49,
   "id": "63fa816c-f48c-4d2f-83b0-f9115610c7e5",
   "metadata": {},
   "outputs": [
    {
     "data": {
      "text/plain": [
       "5"
      ]
     },
     "execution_count": 49,
     "metadata": {},
     "output_type": "execute_result"
    }
   ],
   "source": [
    "s"
   ]
  },
  {
   "cell_type": "code",
   "execution_count": 51,
   "id": "5bb5e3d3-b38f-48f2-a337-b38ed64497cc",
   "metadata": {},
   "outputs": [],
   "source": [
    "t =5"
   ]
  },
  {
   "cell_type": "code",
   "execution_count": 53,
   "id": "713956b6-afb6-4ce2-b928-e351cf807957",
   "metadata": {},
   "outputs": [
    {
     "data": {
      "text/plain": [
       "True"
      ]
     },
     "execution_count": 53,
     "metadata": {},
     "output_type": "execute_result"
    }
   ],
   "source": [
    "s is t"
   ]
  },
  {
   "cell_type": "code",
   "execution_count": 54,
   "id": "80a65203-345e-477c-9a49-f677fe5d5a8c",
   "metadata": {},
   "outputs": [],
   "source": [
    "s = 10"
   ]
  },
  {
   "cell_type": "code",
   "execution_count": 55,
   "id": "97596bb4-130b-4793-9b2c-70b9780bece3",
   "metadata": {},
   "outputs": [
    {
     "data": {
      "text/plain": [
       "True"
      ]
     },
     "execution_count": 55,
     "metadata": {},
     "output_type": "execute_result"
    }
   ],
   "source": [
    "s is not t"
   ]
  },
  {
   "cell_type": "code",
   "execution_count": 57,
   "id": "7a2870eb-893a-4430-9b0e-6e8417e6a073",
   "metadata": {},
   "outputs": [
    {
     "name": "stdout",
     "output_type": "stream",
     "text": [
      "True\n",
      "True\n",
      "False\n"
     ]
    }
   ],
   "source": [
    "u = \"Abhishek is too lazy.\"\n",
    "\n",
    "print(\"amit\" not in u)\n",
    "print(\"too\" in u)\n",
    "print(\"lazy\" not in u)"
   ]
  },
  {
   "cell_type": "code",
   "execution_count": 58,
   "id": "72437b60-0468-4f57-9837-129903e651d0",
   "metadata": {},
   "outputs": [
    {
     "name": "stdout",
     "output_type": "stream",
     "text": [
      "0\n"
     ]
    }
   ],
   "source": [
    "print (8 & 5)"
   ]
  },
  {
   "cell_type": "code",
   "execution_count": 2,
   "id": "19a7c0c2-cb89-49e9-a16e-6db3b916ce8f",
   "metadata": {},
   "outputs": [],
   "source": [
    "import keyword"
   ]
  },
  {
   "cell_type": "code",
   "execution_count": 3,
   "id": "5b8b8968-e9c6-49c0-80c9-115ee102b65c",
   "metadata": {},
   "outputs": [
    {
     "name": "stdout",
     "output_type": "stream",
     "text": [
      "['False', 'None', 'True', 'and', 'as', 'assert', 'async', 'await', 'break', 'class', 'continue', 'def', 'del', 'elif', 'else', 'except', 'finally', 'for', 'from', 'global', 'if', 'import', 'in', 'is', 'lambda', 'nonlocal', 'not', 'or', 'pass', 'raise', 'return', 'try', 'while', 'with', 'yield']\n"
     ]
    }
   ],
   "source": [
    "print(keyword.kwlist)"
   ]
  },
  {
   "cell_type": "markdown",
   "id": "2d76ada9-cc12-4255-b409-45754f37765e",
   "metadata": {},
   "source": [
    "# ['False', 'None', 'True', 'and', 'as', 'assert', 'async', 'await', 'break', 'class', 'continue', 'def', 'del', 'elif', 'else', 'except', 'finally', 'for', 'from', 'global', 'if', 'import', 'in', 'is', 'lambda', 'nonlocal', 'not', 'or', 'pass', 'raise', 'return', 'try', 'while', 'with', 'yield']"
   ]
  },
  {
   "cell_type": "code",
   "execution_count": null,
   "id": "87455b9a-bc3c-4508-b3ce-f584f03f35f8",
   "metadata": {},
   "outputs": [],
   "source": []
  }
 ],
 "metadata": {
  "kernelspec": {
   "display_name": "Python 3 (ipykernel)",
   "language": "python",
   "name": "python3"
  },
  "language_info": {
   "codemirror_mode": {
    "name": "ipython",
    "version": 3
   },
   "file_extension": ".py",
   "mimetype": "text/x-python",
   "name": "python",
   "nbconvert_exporter": "python",
   "pygments_lexer": "ipython3",
   "version": "3.11.7"
  }
 },
 "nbformat": 4,
 "nbformat_minor": 5
}
