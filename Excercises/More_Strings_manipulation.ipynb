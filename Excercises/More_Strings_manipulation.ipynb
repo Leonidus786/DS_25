{
 "cells": [
  {
   "cell_type": "code",
   "execution_count": 1,
   "id": "1d572382-916d-4570-8d61-8a8423b6197c",
   "metadata": {},
   "outputs": [],
   "source": [
    "# 083 Ask the user to type in a word in upper case. If\n",
    "# they type it in lower case, ask them to try again.\n",
    "# Keep repeating this until they type in a message all\n",
    "# in uppercase."
   ]
  },
  {
   "cell_type": "code",
   "execution_count": 2,
   "id": "852fc093-97c6-4c55-80e1-c99ea0ec416a",
   "metadata": {},
   "outputs": [
    {
     "name": "stdin",
     "output_type": "stream",
     "text": [
      "Enter a message in uppercase:  Abhishek is a bad boy.\n"
     ]
    },
    {
     "name": "stdout",
     "output_type": "stream",
     "text": [
      "Try again\n"
     ]
    },
    {
     "name": "stdin",
     "output_type": "stream",
     "text": [
      "Enter a message in uppercase:  ABHISHEK is a bad guy.\n"
     ]
    },
    {
     "name": "stdout",
     "output_type": "stream",
     "text": [
      "Try again\n"
     ]
    },
    {
     "name": "stdin",
     "output_type": "stream",
     "text": [
      "Enter a message in uppercase:  ABHISHEK IS A BAD GUY.\n"
     ]
    },
    {
     "name": "stdout",
     "output_type": "stream",
     "text": [
      "Thank You.\n"
     ]
    }
   ],
   "source": [
    "msg = input(\"Enter a message in uppercase: \")\n",
    "try_again = False\n",
    "\n",
    "while try_again == False:\n",
    "    if msg.isupper():\n",
    "        print(\"Thank You.\")\n",
    "        try_again = True\n",
    "    else:\n",
    "        print(\"Try again\")\n",
    "        msg = input(\"Enter a message in uppercase: \")"
   ]
  },
  {
   "cell_type": "code",
   "execution_count": 3,
   "id": "647f3c27-4539-4f96-8e4f-fab59641d4c5",
   "metadata": {},
   "outputs": [],
   "source": [
    "# 087 Ask the user to type in a word and then display\n",
    "# it backwards on separate lines. For instance, if they\n",
    "# type in “Hello” it should display as shown below:\n",
    "\n",
    "# Enter a word: \"Hello\"\n",
    "\n",
    "# o\n",
    "# l\n",
    "# l\n",
    "# e\n",
    "# H"
   ]
  },
  {
   "cell_type": "code",
   "execution_count": 4,
   "id": "0b10bd90-278d-4a16-8179-6c1de2fccaf3",
   "metadata": {},
   "outputs": [
    {
     "name": "stdin",
     "output_type": "stream",
     "text": [
      "Enter a Word:  Hello\n"
     ]
    },
    {
     "name": "stdout",
     "output_type": "stream",
     "text": [
      "o\n",
      "l\n",
      "l\n",
      "e\n",
      "H\n"
     ]
    }
   ],
   "source": [
    "word = input(\"Enter a Word: \")\n",
    "length = len(word)\n",
    "num = 1\n",
    "for x in word:\n",
    "    position = length - num\n",
    "    letter = word[position]\n",
    "    print(letter)\n",
    "    num = num + 1"
   ]
  }
 ],
 "metadata": {
  "kernelspec": {
   "display_name": "Python 3 (ipykernel)",
   "language": "python",
   "name": "python3"
  },
  "language_info": {
   "codemirror_mode": {
    "name": "ipython",
    "version": 3
   },
   "file_extension": ".py",
   "mimetype": "text/x-python",
   "name": "python",
   "nbconvert_exporter": "python",
   "pygments_lexer": "ipython3",
   "version": "3.11.7"
  }
 },
 "nbformat": 4,
 "nbformat_minor": 5
}
