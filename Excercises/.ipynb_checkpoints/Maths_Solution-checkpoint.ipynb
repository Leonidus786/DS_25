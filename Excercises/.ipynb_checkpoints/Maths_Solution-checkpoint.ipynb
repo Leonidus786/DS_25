{
 "cells": [
  {
   "cell_type": "code",
   "execution_count": 5,
   "id": "3cf6bab0-545b-4bdd-a7bf-45a4f23253f8",
   "metadata": {},
   "outputs": [],
   "source": [
    "import math"
   ]
  },
  {
   "cell_type": "code",
   "execution_count": 1,
   "id": "48a4bcb7-e535-4cb8-81db-a097e407edd2",
   "metadata": {},
   "outputs": [],
   "source": [
    "# 027 Ask the user to enter a number with lots of\n",
    "# decimal places. Multiply this number by two and\n",
    "# display the answer."
   ]
  },
  {
   "cell_type": "code",
   "execution_count": 2,
   "id": "5a8ce747-035e-44b6-bee8-a4067eb94a23",
   "metadata": {},
   "outputs": [
    {
     "name": "stdin",
     "output_type": "stream",
     "text": [
      "Enter a number with lots of decimal places:  56.32747325326532782973209432984329847328\n"
     ]
    },
    {
     "name": "stdout",
     "output_type": "stream",
     "text": [
      "112.65494650653065\n"
     ]
    }
   ],
   "source": [
    "num = float(input(\"Enter a number with lots of decimal places: \"))\n",
    "print(num*2)"
   ]
  },
  {
   "cell_type": "code",
   "execution_count": 3,
   "id": "d0db5b18-163b-46d8-9355-5ce43fbf7348",
   "metadata": {},
   "outputs": [],
   "source": [
    "# 028 Update program 027 so that it will display the\n",
    "# answer to two decimal places."
   ]
  },
  {
   "cell_type": "code",
   "execution_count": 4,
   "id": "b1a3c43a-da53-48ac-814a-cd4a7d2b1f11",
   "metadata": {},
   "outputs": [
    {
     "name": "stdin",
     "output_type": "stream",
     "text": [
      "Enter a number with lots of decimal places:  32874.32743287648732487\n"
     ]
    },
    {
     "name": "stdout",
     "output_type": "stream",
     "text": [
      "65748.65486575298\n",
      "65748.65\n"
     ]
    }
   ],
   "source": [
    "num = float(input(\"Enter a number with lots of decimal places: \"))\n",
    "answer = num *2\n",
    "print(answer)\n",
    "print(round(answer,2))"
   ]
  },
  {
   "cell_type": "code",
   "execution_count": 6,
   "id": "065a23cb-99c4-4dc5-a802-889749d68c28",
   "metadata": {},
   "outputs": [],
   "source": [
    "# 029 Ask the user to enter an integer that is over 500.\n",
    "# Work out the square root of that number and display it\n",
    "# to two decimal places."
   ]
  },
  {
   "cell_type": "code",
   "execution_count": 7,
   "id": "bda199d2-5f06-4fa9-9cbd-8e26404e90d8",
   "metadata": {},
   "outputs": [
    {
     "name": "stdin",
     "output_type": "stream",
     "text": [
      "Enter a number over 500:  700\n"
     ]
    },
    {
     "name": "stdout",
     "output_type": "stream",
     "text": [
      "26.46\n"
     ]
    }
   ],
   "source": [
    "num = int(input(\"Enter a number over 500: \"))\n",
    "answer = math.sqrt(num)\n",
    "print(round(answer,2))"
   ]
  },
  {
   "cell_type": "code",
   "execution_count": 8,
   "id": "9b6c94d9-6b6d-4d2d-87fc-4eec0e59837b",
   "metadata": {},
   "outputs": [],
   "source": [
    "# 031 Ask the user to enter the radius of a circle\n",
    "# (measurement from the centre point to the edge).\n",
    "# Work out the area of the circle (π*radius2)."
   ]
  },
  {
   "cell_type": "code",
   "execution_count": 11,
   "id": "407f9fc6-b764-44ec-8a95-3853d512fa36",
   "metadata": {},
   "outputs": [
    {
     "name": "stdin",
     "output_type": "stream",
     "text": [
      "Enter the radius of the circle:  56\n"
     ]
    },
    {
     "name": "stdout",
     "output_type": "stream",
     "text": [
      "9852.03456165759\n"
     ]
    }
   ],
   "source": [
    "radius = int(input(\"Enter the radius of the circle: \"))\n",
    "area = math.pi*(radius**2)\n",
    "print(area)"
   ]
  },
  {
   "cell_type": "code",
   "execution_count": 12,
   "id": "2d58273e-fd69-426b-a41f-c34a02c18484",
   "metadata": {},
   "outputs": [],
   "source": [
    "# 032 Ask for the radius and the depth of a cylinder and\n",
    "# work out the total volume (circle area*depth) rounded\n",
    "# to three decimal places."
   ]
  },
  {
   "cell_type": "code",
   "execution_count": null,
   "id": "7a4ff1d6-2eed-4f06-9fe0-5af78525e788",
   "metadata": {},
   "outputs": [],
   "source": []
  }
 ],
 "metadata": {
  "kernelspec": {
   "display_name": "Python 3 (ipykernel)",
   "language": "python",
   "name": "python3"
  },
  "language_info": {
   "codemirror_mode": {
    "name": "ipython",
    "version": 3
   },
   "file_extension": ".py",
   "mimetype": "text/x-python",
   "name": "python",
   "nbconvert_exporter": "python",
   "pygments_lexer": "ipython3",
   "version": "3.11.7"
  }
 },
 "nbformat": 4,
 "nbformat_minor": 5
}
