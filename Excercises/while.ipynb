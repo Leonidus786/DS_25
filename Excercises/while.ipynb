{
 "cells": [
  {
   "cell_type": "code",
   "execution_count": 1,
   "id": "04834600-84c4-430a-8e1a-3cf2d150387d",
   "metadata": {},
   "outputs": [],
   "source": [
    "# 045 Set the total to 0 to start with. While the total is 50 or\n",
    "# less, ask the user to input a number. Add that number to the\n",
    "# total and print the message “The total is… [total]”. Stop the\n",
    "# loop when the total is over 50."
   ]
  },
  {
   "cell_type": "code",
   "execution_count": 2,
   "id": "1099f068-9fff-4378-ab49-7d3ca0fb0b3b",
   "metadata": {},
   "outputs": [
    {
     "name": "stdin",
     "output_type": "stream",
     "text": [
      "Enter a number:  45\n"
     ]
    },
    {
     "name": "stdout",
     "output_type": "stream",
     "text": [
      "The total is... 45\n"
     ]
    },
    {
     "name": "stdin",
     "output_type": "stream",
     "text": [
      "Enter a number:  45\n"
     ]
    },
    {
     "name": "stdout",
     "output_type": "stream",
     "text": [
      "The total is... 90\n"
     ]
    }
   ],
   "source": [
    "total = 0\n",
    "while total <= 50:\n",
    "    num = int(input(\"Enter a number: \"))\n",
    "    total = total + num\n",
    "    print(\"The total is...\",total)"
   ]
  },
  {
   "cell_type": "code",
   "execution_count": 3,
   "id": "c1df2c77-9fed-4fac-87fd-68523c692d51",
   "metadata": {},
   "outputs": [],
   "source": [
    "# 046 Ask the user to enter a number. Keep asking until they\n",
    "# enter a value over 5 and then display the message “The last\n",
    "# number you entered was a [number]” and stop the program."
   ]
  },
  {
   "cell_type": "code",
   "execution_count": 5,
   "id": "6d6311de-2612-4f90-97d5-381555d77764",
   "metadata": {},
   "outputs": [
    {
     "name": "stdin",
     "output_type": "stream",
     "text": [
      "Enter a no.:  2\n"
     ]
    },
    {
     "name": "stdout",
     "output_type": "stream",
     "text": [
      "The last number you entered was a 2\n"
     ]
    },
    {
     "name": "stdin",
     "output_type": "stream",
     "text": [
      "Enter a no.:  1\n"
     ]
    },
    {
     "name": "stdout",
     "output_type": "stream",
     "text": [
      "The last number you entered was a 1\n"
     ]
    },
    {
     "name": "stdin",
     "output_type": "stream",
     "text": [
      "Enter a no.:  -5\n"
     ]
    },
    {
     "name": "stdout",
     "output_type": "stream",
     "text": [
      "The last number you entered was a -5\n"
     ]
    },
    {
     "name": "stdin",
     "output_type": "stream",
     "text": [
      "Enter a no.:  5\n"
     ]
    },
    {
     "name": "stdout",
     "output_type": "stream",
     "text": [
      "The last number you entered was a 5\n"
     ]
    }
   ],
   "source": [
    "num = 0\n",
    "while num <5:\n",
    "    num = int(input(\"Enter a no.: \"))\n",
    "    print(\"The last number you entered was a\", num)"
   ]
  },
  {
   "cell_type": "code",
   "execution_count": 6,
   "id": "6fbe23d4-5215-4a3f-8fa2-8cad4a983b55",
   "metadata": {},
   "outputs": [],
   "source": [
    "# 049 Create a variable called compnum and set the value to\n",
    "# 50. Ask the user to enter a number. While their guess is not\n",
    "# the same as the compnum value, tell them if their guess is\n",
    "# too low or too high and ask them to have another guess. If\n",
    "# they enter the same value as compnum, display the message\n",
    "# “Well done, you took [count] attempts”."
   ]
  },
  {
   "cell_type": "code",
   "execution_count": 8,
   "id": "668721e1-f993-4a53-a604-30c45cf39699",
   "metadata": {},
   "outputs": [
    {
     "name": "stdin",
     "output_type": "stream",
     "text": [
      "can you guess the number I am thinking of?  50\n"
     ]
    }
   ],
   "source": [
    "compnum = 50\n",
    "guess = int(input(\"can you guess the number I am thinking of? \"))\n",
    "count = 1\n",
    "\n",
    "while guess != compnum:\n",
    "    if guess < compnum:\n",
    "        print(\"Two low\")\n",
    "    else:\n",
    "        print(\"Too high\")\n",
    "    count = count + 1\n",
    "    guess = int(input(\"have another guess: \"))\n",
    "    print(\"Well done, you took\", count, \"attempts\")"
   ]
  },
  {
   "cell_type": "code",
   "execution_count": null,
   "id": "c38e0618-f286-4879-be33-9de515f5b10c",
   "metadata": {},
   "outputs": [],
   "source": []
  }
 ],
 "metadata": {
  "kernelspec": {
   "display_name": "Python 3 (ipykernel)",
   "language": "python",
   "name": "python3"
  },
  "language_info": {
   "codemirror_mode": {
    "name": "ipython",
    "version": 3
   },
   "file_extension": ".py",
   "mimetype": "text/x-python",
   "name": "python",
   "nbconvert_exporter": "python",
   "pygments_lexer": "ipython3",
   "version": "3.11.7"
  }
 },
 "nbformat": 4,
 "nbformat_minor": 5
}
