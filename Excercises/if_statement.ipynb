{
 "cells": [
  {
   "cell_type": "code",
   "execution_count": 1,
   "id": "612c301a-f13b-4e4f-8da3-df4bf32ff881",
   "metadata": {},
   "outputs": [],
   "source": [
    "#012 Ask for two numbers. If the first one is larger than the\n",
    "# second, display the second number first and then the first\n",
    "# number, otherwise show the first number first and then the\n",
    "# second."
   ]
  },
  {
   "cell_type": "code",
   "execution_count": 2,
   "id": "136ba828-d6a3-49b1-be9d-f931b669b3a1",
   "metadata": {},
   "outputs": [
    {
     "name": "stdin",
     "output_type": "stream",
     "text": [
      "Enter the first number:  12\n",
      "Enter the second number:  13\n"
     ]
    },
    {
     "name": "stdout",
     "output_type": "stream",
     "text": [
      "12 13\n"
     ]
    }
   ],
   "source": [
    "num_1 = int(input(\"Enter the first number: \"))\n",
    "num_2 = int(input(\"Enter the second number: \"))\n",
    "if num_1 > num_2:\n",
    "    print(num_2,num_1)\n",
    "else:\n",
    "    print(num_1,num_2)"
   ]
  },
  {
   "cell_type": "code",
   "execution_count": 3,
   "id": "2b244a46-22a0-4c1e-a796-8749f455710a",
   "metadata": {},
   "outputs": [],
   "source": [
    "# 013 Ask the user to enter a number that is under 20. If they\n",
    "# enter a number that is 20 or more, display the message “Too\n",
    "# high”, otherwise display “Thank you”."
   ]
  },
  {
   "cell_type": "code",
   "execution_count": 4,
   "id": "361825c4-ff35-4261-8d6e-ff3bc370ca3a",
   "metadata": {},
   "outputs": [
    {
     "name": "stdin",
     "output_type": "stream",
     "text": [
      "Enter a value less than 20:  34\n"
     ]
    },
    {
     "name": "stdout",
     "output_type": "stream",
     "text": [
      "Too high\n"
     ]
    }
   ],
   "source": [
    "num = int(input(\"Enter a value less than 20: \"))\n",
    "if num >= 20:\n",
    "    print(\"Too high\")\n",
    "else:\n",
    "    print(\"Thank you\")"
   ]
  },
  {
   "cell_type": "code",
   "execution_count": 5,
   "id": "22d9690b-1134-4d3b-bf9f-647b2f74e338",
   "metadata": {},
   "outputs": [],
   "source": [
    "# 014 Ask the user to enter a number between 10 and 20\n",
    "# (inclusive). If they enter a number within this range, display the\n",
    "# message “Thank you”, otherwise display the message\n",
    "# “Incorrect answer”."
   ]
  },
  {
   "cell_type": "code",
   "execution_count": 6,
   "id": "a5eb16d3-ae07-4522-b1eb-ae33ecff3ed0",
   "metadata": {},
   "outputs": [
    {
     "name": "stdin",
     "output_type": "stream",
     "text": [
      "Enter a value between 10 and 20:  14\n"
     ]
    },
    {
     "name": "stdout",
     "output_type": "stream",
     "text": [
      "Thank you\n"
     ]
    }
   ],
   "source": [
    "num = int(input(\"Enter a value between 10 and 20: \"))\n",
    "if num >= 10 and num <= 20:\n",
    "    print(\"Thank you\")\n",
    "else:\n",
    "    print(\"Incorrect answer\")"
   ]
  },
  {
   "cell_type": "code",
   "execution_count": 7,
   "id": "855e0cfe-0e1d-4979-bbad-4faee95172cf",
   "metadata": {},
   "outputs": [],
   "source": [
    "# 015 Ask the user to enter their favourite colour. If they enter\n",
    "# “red”, “RED” or “Red” display the message “I like red too”,\n",
    "# otherwise display the message “I don’t like [colour], I prefer\n",
    "# red”."
   ]
  },
  {
   "cell_type": "code",
   "execution_count": 8,
   "id": "81f0ad3d-c71a-46c5-971b-16cd5f8dedda",
   "metadata": {},
   "outputs": [
    {
     "name": "stdin",
     "output_type": "stream",
     "text": [
      "Type in your favourite colour:  blue\n"
     ]
    },
    {
     "name": "stdout",
     "output_type": "stream",
     "text": [
      "I don't like that blue, I prefer red\n"
     ]
    }
   ],
   "source": [
    "colour = input(\"Type in your favourite colour: \")\n",
    "if colour == \"red\" or colour == \"RED\" or colour == \"Red\":\n",
    "    print(\"I like red too\")\n",
    "else:\n",
    "    print(f\"I don't like that {colour}, I prefer red\")"
   ]
  },
  {
   "cell_type": "code",
   "execution_count": 9,
   "id": "b20bbad6-1ce1-4326-bc5d-86782dfa1e41",
   "metadata": {},
   "outputs": [],
   "source": [
    "# 016 Ask the user if it is raining and convert their answer to\n",
    "# lower case so it doesn’t matter what case they type it in. If they\n",
    "# answer “yes”, ask if it is windy. If they answer “yes” to this\n",
    "# second question, display the answer “It is too windy for an\n",
    "# umbrella”, otherwise display the message “Take an umbrella”. If\n",
    "# they did not answer yes to the first question, display the\n",
    "# answer “Enjoy your day”."
   ]
  },
  {
   "cell_type": "code",
   "execution_count": 10,
   "id": "9e7e5366-a447-4142-a682-820d0ed733d1",
   "metadata": {},
   "outputs": [
    {
     "name": "stdin",
     "output_type": "stream",
     "text": [
      "Is it raining?  yes\n",
      "Is it windy?  yes\n"
     ]
    },
    {
     "name": "stdout",
     "output_type": "stream",
     "text": [
      "It is too windy for an umbrella\n"
     ]
    }
   ],
   "source": [
    "raining = input(\"Is it raining? \")\n",
    "raining = str.lower(raining)\n",
    "if raining == \"yes\":\n",
    "    windy = input(\"Is it windy? \")\n",
    "    windy = str.lower(windy)\n",
    "    if windy == \"yes\":\n",
    "        print(\"It is too windy for an umbrella\")\n",
    "    else:\n",
    "        print(\"Take an umbrella\")\n",
    "else:\n",
    "    print(\"Enjoy your day\")"
   ]
  },
  {
   "cell_type": "code",
   "execution_count": null,
   "id": "9b7969d5-74c4-4cd1-b65e-4a950432c794",
   "metadata": {},
   "outputs": [],
   "source": []
  }
 ],
 "metadata": {
  "kernelspec": {
   "display_name": "Python 3 (ipykernel)",
   "language": "python",
   "name": "python3"
  },
  "language_info": {
   "codemirror_mode": {
    "name": "ipython",
    "version": 3
   },
   "file_extension": ".py",
   "mimetype": "text/x-python",
   "name": "python",
   "nbconvert_exporter": "python",
   "pygments_lexer": "ipython3",
   "version": "3.11.7"
  }
 },
 "nbformat": 4,
 "nbformat_minor": 5
}
