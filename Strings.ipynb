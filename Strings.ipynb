{
 "cells": [
  {
   "cell_type": "code",
   "execution_count": 1,
   "id": "fad9f628-4a86-4be1-a69b-2f2e72163821",
   "metadata": {},
   "outputs": [],
   "source": [
    "a = \"abhishek\""
   ]
  },
  {
   "cell_type": "code",
   "execution_count": 2,
   "id": "dfffe62d-3294-4dea-a92f-5e37ec308360",
   "metadata": {},
   "outputs": [
    {
     "name": "stdout",
     "output_type": "stream",
     "text": [
      "8\n"
     ]
    }
   ],
   "source": [
    "# len() --> this function would give the no. of characters in a string\n",
    "print(len(a))"
   ]
  },
  {
   "cell_type": "code",
   "execution_count": 3,
   "id": "b10d2545-6d40-498e-a033-bf9d9115c859",
   "metadata": {},
   "outputs": [],
   "source": [
    "b = 'Abhishek Upadhayay'"
   ]
  },
  {
   "cell_type": "code",
   "execution_count": 4,
   "id": "9d21adfa-beff-4c0e-abb0-06d4339a0874",
   "metadata": {},
   "outputs": [
    {
     "name": "stdout",
     "output_type": "stream",
     "text": [
      "18\n"
     ]
    }
   ],
   "source": [
    "print(len(b))"
   ]
  },
  {
   "cell_type": "code",
   "execution_count": 5,
   "id": "5364c8a8-3ca4-4a13-ae7e-1a725cbcccbb",
   "metadata": {},
   "outputs": [
    {
     "data": {
      "text/plain": [
       "'abhishek'"
      ]
     },
     "execution_count": 5,
     "metadata": {},
     "output_type": "execute_result"
    }
   ],
   "source": [
    "a"
   ]
  },
  {
   "cell_type": "code",
   "execution_count": 6,
   "id": "9212a682-1384-47db-b4b1-ff638a968271",
   "metadata": {},
   "outputs": [
    {
     "name": "stdout",
     "output_type": "stream",
     "text": [
      "a\n"
     ]
    }
   ],
   "source": [
    "# positive indexing or indexing from left\n",
    "print(a[0])"
   ]
  },
  {
   "cell_type": "code",
   "execution_count": 7,
   "id": "d8f09e3a-a90c-4469-9bce-c4b488c7f235",
   "metadata": {},
   "outputs": [
    {
     "name": "stdout",
     "output_type": "stream",
     "text": [
      "s\n"
     ]
    }
   ],
   "source": [
    "print(a[4])"
   ]
  },
  {
   "cell_type": "code",
   "execution_count": 8,
   "id": "ab65628e-fae3-446a-abf2-f2654b99372d",
   "metadata": {},
   "outputs": [
    {
     "name": "stdout",
     "output_type": "stream",
     "text": [
      "k\n"
     ]
    }
   ],
   "source": [
    "# Negative indexing \n",
    "\n",
    "print(a[-1])"
   ]
  },
  {
   "cell_type": "code",
   "execution_count": 9,
   "id": "45acad3d-1363-4f03-9668-7eba18e5515d",
   "metadata": {},
   "outputs": [
    {
     "name": "stdout",
     "output_type": "stream",
     "text": [
      "a\n"
     ]
    }
   ],
   "source": [
    "# we used length function and alrdy know the no. of characters--- that total no. is the last index when counting from right\n",
    "print(a[-8])"
   ]
  },
  {
   "cell_type": "code",
   "execution_count": 10,
   "id": "9ffc1b3e-ba4b-4bea-9595-d969e3c999f1",
   "metadata": {},
   "outputs": [
    {
     "data": {
      "text/plain": [
       "'abhishek'"
      ]
     },
     "execution_count": 10,
     "metadata": {},
     "output_type": "execute_result"
    }
   ],
   "source": [
    "a"
   ]
  },
  {
   "cell_type": "code",
   "execution_count": 11,
   "id": "796cfbf8-68d3-460f-9ab6-2c31b9776eb0",
   "metadata": {},
   "outputs": [
    {
     "name": "stdout",
     "output_type": "stream",
     "text": [
      "abhi\n"
     ]
    }
   ],
   "source": [
    "#Slicing a string--> using [Start:End] slice operator.\n",
    "# Slicing will start from Start position but leave the end position\n",
    "\n",
    "print(a[0:4])"
   ]
  },
  {
   "cell_type": "code",
   "execution_count": 12,
   "id": "c6ac9ec7-7f2b-4548-ae16-6250a9737864",
   "metadata": {},
   "outputs": [
    {
     "data": {
      "text/plain": [
       "'abhishek'"
      ]
     },
     "execution_count": 12,
     "metadata": {},
     "output_type": "execute_result"
    }
   ],
   "source": [
    "a"
   ]
  },
  {
   "cell_type": "code",
   "execution_count": 13,
   "id": "3a345185-e8be-4bc2-8156-60cf05272e40",
   "metadata": {},
   "outputs": [
    {
     "name": "stdout",
     "output_type": "stream",
     "text": [
      "ahse\n"
     ]
    }
   ],
   "source": [
    "#[Start:End:Step]---> this is the end of slicing\n",
    "\n",
    "print(a[0::2])"
   ]
  },
  {
   "cell_type": "code",
   "execution_count": 14,
   "id": "177c015c-67e8-4931-8f2b-0b6d33c1ee47",
   "metadata": {},
   "outputs": [
    {
     "name": "stdout",
     "output_type": "stream",
     "text": [
      "abhi\n"
     ]
    }
   ],
   "source": [
    "#Negative slicing\n",
    "\n",
    "print(a[:-4])"
   ]
  },
  {
   "cell_type": "code",
   "execution_count": 15,
   "id": "323aa0e8-e61d-4012-9f0e-4c7a88c77e0f",
   "metadata": {},
   "outputs": [],
   "source": [
    "# Loop -- Iteration -- to do the repetitive task"
   ]
  },
  {
   "cell_type": "code",
   "execution_count": 16,
   "id": "0baf8f24-ce42-42c0-b5b6-e15c6e6783fb",
   "metadata": {},
   "outputs": [
    {
     "name": "stdout",
     "output_type": "stream",
     "text": [
      "a\n",
      "b\n",
      "h\n",
      "i\n",
      "s\n",
      "h\n",
      "e\n",
      "k\n"
     ]
    }
   ],
   "source": [
    "# looping through a string\n",
    "for i in a:\n",
    "    print(i)"
   ]
  },
  {
   "cell_type": "code",
   "execution_count": 17,
   "id": "f7eb3697-a0e7-42e3-b411-583a2d64b4fd",
   "metadata": {},
   "outputs": [
    {
     "name": "stdout",
     "output_type": "stream",
     "text": [
      "a\n",
      "b\n",
      "h\n",
      "i\n",
      "s\n",
      "h\n",
      "e\n",
      "k\n"
     ]
    }
   ],
   "source": [
    "for m in a:\n",
    "    print(m)"
   ]
  },
  {
   "cell_type": "code",
   "execution_count": 18,
   "id": "a1282ad6-086f-4fc1-9fc4-c0216c239c68",
   "metadata": {},
   "outputs": [
    {
     "name": "stdout",
     "output_type": "stream",
     "text": [
      "a\n",
      "b\n",
      "h\n",
      "i\n",
      "s\n",
      "h\n",
      "e\n",
      "k\n"
     ]
    }
   ],
   "source": [
    "for A in a:\n",
    "    print(A)"
   ]
  },
  {
   "cell_type": "code",
   "execution_count": 19,
   "id": "039dcf39-f2e4-4546-9d3c-99b32d0c57c0",
   "metadata": {},
   "outputs": [
    {
     "name": "stdout",
     "output_type": "stream",
     "text": [
      "S\n",
      "u\n",
      "b\n",
      "h\n",
      "a\n",
      "m\n"
     ]
    }
   ],
   "source": [
    "for c in \"Subham\":\n",
    "    print(c)"
   ]
  },
  {
   "cell_type": "code",
   "execution_count": 20,
   "id": "24e25b5a-74d0-4943-85f9-cdc01f4c7f2b",
   "metadata": {},
   "outputs": [
    {
     "name": "stdout",
     "output_type": "stream",
     "text": [
      "True\n"
     ]
    }
   ],
   "source": [
    "txt = \"The best things in life are never free!\"\n",
    "print(\"free\" in txt)"
   ]
  },
  {
   "cell_type": "code",
   "execution_count": 21,
   "id": "0df3cb3d-71f7-450f-985e-0bde4f036f89",
   "metadata": {},
   "outputs": [
    {
     "data": {
      "text/plain": [
       "'abhishek'"
      ]
     },
     "execution_count": 21,
     "metadata": {},
     "output_type": "execute_result"
    }
   ],
   "source": [
    "a"
   ]
  },
  {
   "cell_type": "code",
   "execution_count": 22,
   "id": "9b615932-86dc-4b0c-aa89-700ebb44fe29",
   "metadata": {},
   "outputs": [
    {
     "name": "stdout",
     "output_type": "stream",
     "text": [
      "ABHISHEK\n"
     ]
    }
   ],
   "source": [
    "print(a.upper())"
   ]
  },
  {
   "cell_type": "code",
   "execution_count": 23,
   "id": "ecc9875f-2232-4060-b185-34aa50cc4ff3",
   "metadata": {},
   "outputs": [],
   "source": [
    "s = \"MAYANK\""
   ]
  },
  {
   "cell_type": "code",
   "execution_count": 24,
   "id": "6d9e23d3-4bff-497f-be35-5265b9becf33",
   "metadata": {},
   "outputs": [
    {
     "data": {
      "text/plain": [
       "'MAYANK'"
      ]
     },
     "execution_count": 24,
     "metadata": {},
     "output_type": "execute_result"
    }
   ],
   "source": [
    "s"
   ]
  },
  {
   "cell_type": "code",
   "execution_count": 25,
   "id": "7b9d17c2-2621-4a6b-8d8d-5489a1653f18",
   "metadata": {},
   "outputs": [
    {
     "name": "stdout",
     "output_type": "stream",
     "text": [
      "mayank\n"
     ]
    }
   ],
   "source": [
    "print(s.lower())"
   ]
  },
  {
   "cell_type": "code",
   "execution_count": 26,
   "id": "e8c79a28-9ebe-40f5-ab4d-506fba31a4ec",
   "metadata": {},
   "outputs": [],
   "source": [
    "q = \"  The quick brown fox jumps over the lazy dog.       \""
   ]
  },
  {
   "cell_type": "code",
   "execution_count": 27,
   "id": "5a17d8c2-a2b0-4eed-bffe-f4a76fb66e5c",
   "metadata": {},
   "outputs": [
    {
     "data": {
      "text/plain": [
       "'  The quick brown fox jumps over the lazy dog.       '"
      ]
     },
     "execution_count": 27,
     "metadata": {},
     "output_type": "execute_result"
    }
   ],
   "source": [
    "q"
   ]
  },
  {
   "cell_type": "code",
   "execution_count": 28,
   "id": "01616510-a50c-44d2-9a85-43c699708aca",
   "metadata": {},
   "outputs": [
    {
     "name": "stdout",
     "output_type": "stream",
     "text": [
      "The quick brown fox jumps over the lazy dog.\n"
     ]
    }
   ],
   "source": [
    "print(q.strip())"
   ]
  },
  {
   "cell_type": "code",
   "execution_count": 29,
   "id": "7b4bcd78-dce7-41cc-be35-d5c11b3d7cbd",
   "metadata": {},
   "outputs": [
    {
     "name": "stdout",
     "output_type": "stream",
     "text": [
      "Jello, World!\n"
     ]
    }
   ],
   "source": [
    "d = \"Hello, World!\"\n",
    "print(d.replace(\"H\", \"J\"))"
   ]
  },
  {
   "cell_type": "code",
   "execution_count": 30,
   "id": "eed633dc-0900-4f67-897c-1da317e2e9df",
   "metadata": {},
   "outputs": [
    {
     "name": "stdout",
     "output_type": "stream",
     "text": [
      "['Hello', ' World!']\n"
     ]
    }
   ],
   "source": [
    "d = \"Hello, World!\"\n",
    "print(d.split(\",\"))"
   ]
  },
  {
   "cell_type": "code",
   "execution_count": 31,
   "id": "19f944da-c686-4b80-97f8-e26e89e0c4d7",
   "metadata": {},
   "outputs": [
    {
     "data": {
      "text/plain": [
       "'  The quick brown fox jumps over the lazy dog.       '"
      ]
     },
     "execution_count": 31,
     "metadata": {},
     "output_type": "execute_result"
    }
   ],
   "source": [
    "q"
   ]
  },
  {
   "cell_type": "code",
   "execution_count": 32,
   "id": "51bdcb52-72d0-4965-9f16-0e6444b0c840",
   "metadata": {},
   "outputs": [
    {
     "name": "stdout",
     "output_type": "stream",
     "text": [
      "['', '', 'The', 'quick', 'brown', 'fox', 'jumps', 'over', 'the', 'lazy', 'dog.', '', '', '', '', '', '', '']\n"
     ]
    }
   ],
   "source": [
    "print(q.split(\" \"))"
   ]
  },
  {
   "cell_type": "code",
   "execution_count": 33,
   "id": "90fcf234-fcf3-4221-91c3-ee0bf50bf241",
   "metadata": {},
   "outputs": [
    {
     "name": "stdout",
     "output_type": "stream",
     "text": [
      "catdog\n"
     ]
    }
   ],
   "source": [
    "#ConcatenATION --Combining more than one string.\n",
    "\n",
    "c = 'cat'\n",
    "d = 'dog'\n",
    "print(c+d)"
   ]
  },
  {
   "cell_type": "code",
   "execution_count": 34,
   "id": "e7c3943e-a1e0-4841-810c-f5207f2d41f2",
   "metadata": {},
   "outputs": [
    {
     "name": "stdout",
     "output_type": "stream",
     "text": [
      "cat & dog\n"
     ]
    }
   ],
   "source": [
    "print(c+' & '+d)"
   ]
  },
  {
   "cell_type": "code",
   "execution_count": 35,
   "id": "b20ed219-9a1e-49df-8a8c-9ba1795ab3ca",
   "metadata": {},
   "outputs": [
    {
     "name": "stdout",
     "output_type": "stream",
     "text": [
      "monkeyGrapes\n"
     ]
    }
   ],
   "source": [
    "print('monkey'+\"Grapes\")"
   ]
  },
  {
   "cell_type": "code",
   "execution_count": 36,
   "id": "8d7a1ef1-fdf9-4c43-9844-bd40224d558f",
   "metadata": {},
   "outputs": [
    {
     "name": "stdout",
     "output_type": "stream",
     "text": [
      "monkey Grapes\n"
     ]
    }
   ],
   "source": [
    "print('monkey '+\"Grapes\")"
   ]
  },
  {
   "cell_type": "code",
   "execution_count": 37,
   "id": "81028ae1-f60b-4d0c-9fda-d6a1dee34584",
   "metadata": {},
   "outputs": [
    {
     "name": "stdout",
     "output_type": "stream",
     "text": [
      "monkey Grapes\n"
     ]
    }
   ],
   "source": [
    "print('monkey'+\" Grapes\")"
   ]
  },
  {
   "cell_type": "code",
   "execution_count": 38,
   "id": "f5cc8955-9ffe-41e7-9368-eefcc8d04374",
   "metadata": {},
   "outputs": [
    {
     "name": "stdout",
     "output_type": "stream",
     "text": [
      "monkey Grapes\n"
     ]
    }
   ],
   "source": [
    "print('monkey'+\" \"+\"Grapes\")"
   ]
  },
  {
   "cell_type": "code",
   "execution_count": 39,
   "id": "c2140740-f5c3-4c68-9cdb-6fb01f8d0efc",
   "metadata": {},
   "outputs": [
    {
     "name": "stdout",
     "output_type": "stream",
     "text": [
      "I want 3 pieces of item 567 for 49.95 dollars.\n"
     ]
    }
   ],
   "source": [
    "quantity = 3\n",
    "itemno = 567\n",
    "price = 49.95\n",
    "myorder = \"I want {} pieces of item {} for {} dollars.\"\n",
    "print(myorder.format(quantity, itemno, price)) "
   ]
  },
  {
   "cell_type": "code",
   "execution_count": 40,
   "id": "0d2fee78-a2d7-4ca0-b29a-dbf8356cb00a",
   "metadata": {},
   "outputs": [
    {
     "name": "stdout",
     "output_type": "stream",
     "text": [
      "I want 3 pieces of item 567 for 49.95 dollars.\n"
     ]
    }
   ],
   "source": [
    "quantity = 3\n",
    "itemno = 567\n",
    "price = 49.95\n",
    "myorder = \"I want {2} pieces of item {0} for {1} dollars.\"\n",
    "print(myorder.format(itemno, price, quantity)) "
   ]
  },
  {
   "cell_type": "code",
   "execution_count": 41,
   "id": "13483d13-1bd5-48e7-bbbd-2a54be84084e",
   "metadata": {},
   "outputs": [
    {
     "data": {
      "text/plain": [
       "\"Hello, Jane! You're 25 years old.\""
      ]
     },
     "execution_count": 41,
     "metadata": {},
     "output_type": "execute_result"
    }
   ],
   "source": [
    "# the best way to format a string.\n",
    "name = \"Jane\"\n",
    "age = 25\n",
    "\n",
    "f\"Hello, {name}! You're {age} years old.\""
   ]
  },
  {
   "cell_type": "code",
   "execution_count": 42,
   "id": "3d504c09-88bb-4667-8ee7-2e25a95bdcef",
   "metadata": {},
   "outputs": [],
   "source": [
    "t = \"We are so called 'Vikings' from the north.\""
   ]
  },
  {
   "cell_type": "code",
   "execution_count": 43,
   "id": "828b70cc-9658-465e-9ccf-8164bacc0a05",
   "metadata": {},
   "outputs": [
    {
     "data": {
      "text/plain": [
       "\"We are so called 'Vikings' from the north.\""
      ]
     },
     "execution_count": 43,
     "metadata": {},
     "output_type": "execute_result"
    }
   ],
   "source": [
    "t"
   ]
  },
  {
   "cell_type": "code",
   "execution_count": 44,
   "id": "d77f1a89-7ec1-4ee6-a456-ebe83f962ae2",
   "metadata": {},
   "outputs": [],
   "source": [
    "t = 'We are so called \"Vikings\" from the north.'"
   ]
  },
  {
   "cell_type": "code",
   "execution_count": 45,
   "id": "519afa5f-ed4b-427d-915f-89a7691d0469",
   "metadata": {},
   "outputs": [
    {
     "data": {
      "text/plain": [
       "'We are so called \"Vikings\" from the north.'"
      ]
     },
     "execution_count": 45,
     "metadata": {},
     "output_type": "execute_result"
    }
   ],
   "source": [
    "t"
   ]
  },
  {
   "cell_type": "code",
   "execution_count": 46,
   "id": "87967d62-e9d9-4736-8e45-a395e07f2695",
   "metadata": {},
   "outputs": [],
   "source": [
    "u = \"We are so called \\\"Vikings\\\" from the north.\""
   ]
  },
  {
   "cell_type": "code",
   "execution_count": 47,
   "id": "d16766dc-89fa-4e65-8e24-239f235ccece",
   "metadata": {},
   "outputs": [
    {
     "data": {
      "text/plain": [
       "'We are so called \"Vikings\" from the north.'"
      ]
     },
     "execution_count": 47,
     "metadata": {},
     "output_type": "execute_result"
    }
   ],
   "source": [
    "u"
   ]
  },
  {
   "cell_type": "code",
   "execution_count": 48,
   "id": "57048843-8dc2-4754-8437-5a403eabf713",
   "metadata": {},
   "outputs": [
    {
     "data": {
      "text/plain": [
       "'abhishek'"
      ]
     },
     "execution_count": 48,
     "metadata": {},
     "output_type": "execute_result"
    }
   ],
   "source": [
    "a"
   ]
  },
  {
   "cell_type": "code",
   "execution_count": 49,
   "id": "99497df8-cfee-4bbc-8c60-f669090ded27",
   "metadata": {},
   "outputs": [
    {
     "data": {
      "text/plain": [
       "'Abhishek'"
      ]
     },
     "execution_count": 49,
     "metadata": {},
     "output_type": "execute_result"
    }
   ],
   "source": [
    "a.capitalize()"
   ]
  },
  {
   "cell_type": "code",
   "execution_count": 50,
   "id": "8126f64e-4637-4cf0-9afe-db6ae656f436",
   "metadata": {},
   "outputs": [
    {
     "data": {
      "text/plain": [
       "'ABHISHEK'"
      ]
     },
     "execution_count": 50,
     "metadata": {},
     "output_type": "execute_result"
    }
   ],
   "source": [
    "a.upper()"
   ]
  },
  {
   "cell_type": "code",
   "execution_count": 51,
   "id": "79377714-e0cd-46c3-9423-7b6e78fe0185",
   "metadata": {},
   "outputs": [
    {
     "data": {
      "text/plain": [
       "'abhishek'"
      ]
     },
     "execution_count": 51,
     "metadata": {},
     "output_type": "execute_result"
    }
   ],
   "source": [
    "a.casefold()"
   ]
  },
  {
   "cell_type": "code",
   "execution_count": 52,
   "id": "5f019a44-6051-4994-b20e-ec58611af1b2",
   "metadata": {},
   "outputs": [
    {
     "data": {
      "text/plain": [
       "'                          abhishek                          '"
      ]
     },
     "execution_count": 52,
     "metadata": {},
     "output_type": "execute_result"
    }
   ],
   "source": [
    "a.center(60)"
   ]
  },
  {
   "cell_type": "code",
   "execution_count": 53,
   "id": "93575743-3bda-46ff-a633-f87f29eb5f87",
   "metadata": {},
   "outputs": [
    {
     "data": {
      "text/plain": [
       "2"
      ]
     },
     "execution_count": 53,
     "metadata": {},
     "output_type": "execute_result"
    }
   ],
   "source": [
    "a.count('h')"
   ]
  },
  {
   "cell_type": "code",
   "execution_count": 54,
   "id": "a4536572-274e-4d8a-87f1-0c0721cb93f3",
   "metadata": {},
   "outputs": [],
   "source": [
    "b = 'elephant'"
   ]
  },
  {
   "cell_type": "code",
   "execution_count": 55,
   "id": "897407ab-c90b-4a95-b24c-4a55d7c61ef8",
   "metadata": {},
   "outputs": [
    {
     "data": {
      "text/plain": [
       "2"
      ]
     },
     "execution_count": 55,
     "metadata": {},
     "output_type": "execute_result"
    }
   ],
   "source": [
    "b.count('e')"
   ]
  },
  {
   "cell_type": "code",
   "execution_count": null,
   "id": "ed3b267d-3934-4432-a72b-14190241162e",
   "metadata": {},
   "outputs": [],
   "source": []
  }
 ],
 "metadata": {
  "kernelspec": {
   "display_name": "Python 3 (ipykernel)",
   "language": "python",
   "name": "python3"
  },
  "language_info": {
   "codemirror_mode": {
    "name": "ipython",
    "version": 3
   },
   "file_extension": ".py",
   "mimetype": "text/x-python",
   "name": "python",
   "nbconvert_exporter": "python",
   "pygments_lexer": "ipython3",
   "version": "3.11.7"
  }
 },
 "nbformat": 4,
 "nbformat_minor": 5
}
