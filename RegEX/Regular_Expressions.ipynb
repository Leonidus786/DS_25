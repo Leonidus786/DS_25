{
 "cells": [
  {
   "cell_type": "code",
   "execution_count": 1,
   "id": "2d1b59d9-9a9e-4d70-a772-746490b6aa61",
   "metadata": {},
   "outputs": [],
   "source": [
    "import re"
   ]
  },
  {
   "cell_type": "code",
   "execution_count": 2,
   "id": "0c2cae71-a3d6-48de-b911-c7ac90299bfb",
   "metadata": {},
   "outputs": [],
   "source": [
    "# Search the string to see if it starts with \"The\" and ends with \"Spain\"\n",
    "txt = \"The rain in Spain\"\n",
    "x = re.search(\"^The.*Spain$\", txt)"
   ]
  },
  {
   "cell_type": "code",
   "execution_count": 3,
   "id": "9bdc21cf-7edb-479b-aaf0-a821e8ab7865",
   "metadata": {},
   "outputs": [
    {
     "name": "stdout",
     "output_type": "stream",
     "text": [
      "YES! We have a match!\n"
     ]
    }
   ],
   "source": [
    "if x:\n",
    "  print(\"YES! We have a match!\")\n",
    "else:\n",
    "  print(\"No match\")"
   ]
  },
  {
   "cell_type": "code",
   "execution_count": 4,
   "id": "d4ee0cbf-c048-4eb7-b8b7-eb1c98f16e5d",
   "metadata": {},
   "outputs": [
    {
     "name": "stdout",
     "output_type": "stream",
     "text": [
      "['A', 'ASCII', 'DEBUG', 'DOTALL', 'I', 'IGNORECASE', 'L', 'LOCALE', 'M', 'MULTILINE', 'Match', 'NOFLAG', 'Pattern', 'RegexFlag', 'S', 'Scanner', 'T', 'TEMPLATE', 'U', 'UNICODE', 'VERBOSE', 'X', '_MAXCACHE', '__all__', '__builtins__', '__cached__', '__doc__', '__file__', '__loader__', '__name__', '__package__', '__path__', '__spec__', '__version__', '_cache', '_casefix', '_compile', '_compile_repl', '_compiler', '_constants', '_expand', '_parser', '_pickle', '_special_chars_map', '_subx', 'compile', 'copyreg', 'enum', 'error', 'escape', 'findall', 'finditer', 'fullmatch', 'functools', 'match', 'purge', 'search', 'split', 'sub', 'subn', 'template']\n"
     ]
    }
   ],
   "source": [
    "y=dir(re)\n",
    "print(y)"
   ]
  },
  {
   "cell_type": "code",
   "execution_count": 5,
   "id": "30ec52b4-205f-4cd4-b899-0c40b2a71b79",
   "metadata": {},
   "outputs": [
    {
     "name": "stdout",
     "output_type": "stream",
     "text": [
      "['h', 'e', 'r', 'a', 'i', 'n', 'i', 'n', 'p', 'a', 'i', 'n']\n"
     ]
    }
   ],
   "source": [
    "txt = \"The rain in Spain\"\n",
    "\n",
    "#Find all lower case characters alphabetically between \"a\" and \"m\":\n",
    "\n",
    "x = re.findall(\"[a-z]\", txt)\n",
    "print(x)"
   ]
  },
  {
   "cell_type": "code",
   "execution_count": 6,
   "id": "ccbdf096-f6e7-45e4-8931-576337a990a8",
   "metadata": {},
   "outputs": [
    {
     "name": "stdout",
     "output_type": "stream",
     "text": [
      "['5', '9']\n"
     ]
    }
   ],
   "source": [
    "txt = \"That will be 59 dollars\"\n",
    "\n",
    "#Find all digit characters:\n",
    "\n",
    "x = re.findall(\"\\d\", txt)\n",
    "print(x)"
   ]
  },
  {
   "cell_type": "code",
   "execution_count": 7,
   "id": "f0718497-bcac-4f95-8ef9-e4cbe045d92d",
   "metadata": {},
   "outputs": [
    {
     "name": "stdout",
     "output_type": "stream",
     "text": [
      "['The']\n",
      "Yes, there is a match!\n"
     ]
    }
   ],
   "source": [
    "txt = \"The rain in Spain\"\n",
    "\n",
    "#Check if the string starts with \"The\":\n",
    "\n",
    "x = re.findall(\"\\AThe\", txt)\n",
    "\n",
    "print(x)\n",
    "\n",
    "if x:\n",
    "  print(\"Yes, there is a match!\")\n",
    "else:\n",
    "  print(\"No match\")"
   ]
  },
  {
   "cell_type": "code",
   "execution_count": 8,
   "id": "3fe5f32b-503d-4812-a75c-0c54891bd7d6",
   "metadata": {},
   "outputs": [
    {
     "name": "stdout",
     "output_type": "stream",
     "text": [
      "['ain', 'ain']\n",
      "Yes, there is at least one match!\n"
     ]
    }
   ],
   "source": [
    "txt = \"The rain in Spain\"\n",
    "\n",
    "#Check if \"ain\" is present at the end of a WORD:\n",
    "\n",
    "x = re.findall(r\"ain\\b\", txt)\n",
    "\n",
    "print(x)\n",
    "\n",
    "if x:\n",
    "  print(\"Yes, there is at least one match!\")\n",
    "else:\n",
    "  print(\"No match\")"
   ]
  }
 ],
 "metadata": {
  "kernelspec": {
   "display_name": "Python 3 (ipykernel)",
   "language": "python",
   "name": "python3"
  },
  "language_info": {
   "codemirror_mode": {
    "name": "ipython",
    "version": 3
   },
   "file_extension": ".py",
   "mimetype": "text/x-python",
   "name": "python",
   "nbconvert_exporter": "python",
   "pygments_lexer": "ipython3",
   "version": "3.11.7"
  }
 },
 "nbformat": 4,
 "nbformat_minor": 5
}
