{
 "cells": [
  {
   "cell_type": "code",
   "execution_count": 1,
   "id": "004bdf6b-4340-4090-9bae-f2e8e02fb6c3",
   "metadata": {},
   "outputs": [],
   "source": [
    "x = 2\n",
    "y = 7.5\n",
    "z = \"Sally\""
   ]
  },
  {
   "cell_type": "code",
   "execution_count": 2,
   "id": "fa140744-f9d6-4031-9c97-c034e902ccc5",
   "metadata": {},
   "outputs": [
    {
     "name": "stdout",
     "output_type": "stream",
     "text": [
      "<class 'int'>\n"
     ]
    }
   ],
   "source": [
    "print(type(x))"
   ]
  },
  {
   "cell_type": "code",
   "execution_count": 13,
   "id": "74ea02aa-fb6f-4a60-97e1-59166ffb87d0",
   "metadata": {},
   "outputs": [],
   "source": [
    "a = str(x)"
   ]
  },
  {
   "cell_type": "code",
   "execution_count": 15,
   "id": "a0bc6e31-07b6-4fea-b6fe-1e55d154ced7",
   "metadata": {},
   "outputs": [
    {
     "data": {
      "text/plain": [
       "'2'"
      ]
     },
     "execution_count": 15,
     "metadata": {},
     "output_type": "execute_result"
    }
   ],
   "source": [
    "a"
   ]
  },
  {
   "cell_type": "code",
   "execution_count": 8,
   "id": "5e2286d1-cc47-43d2-8158-325f9524bb0f",
   "metadata": {},
   "outputs": [
    {
     "data": {
      "text/plain": [
       "float"
      ]
     },
     "execution_count": 8,
     "metadata": {},
     "output_type": "execute_result"
    }
   ],
   "source": [
    "type(y)"
   ]
  },
  {
   "cell_type": "code",
   "execution_count": 11,
   "id": "72db09dd-e10c-4496-aec7-8aa354546f62",
   "metadata": {},
   "outputs": [],
   "source": [
    "b = int(y)"
   ]
  },
  {
   "cell_type": "code",
   "execution_count": 12,
   "id": "029e2ca3-ad9d-4e66-8477-15ef06fdd363",
   "metadata": {},
   "outputs": [
    {
     "data": {
      "text/plain": [
       "7"
      ]
     },
     "execution_count": 12,
     "metadata": {},
     "output_type": "execute_result"
    }
   ],
   "source": [
    "b"
   ]
  },
  {
   "cell_type": "code",
   "execution_count": 16,
   "id": "185e6956-5870-4ecb-ad97-7f6f4653a675",
   "metadata": {},
   "outputs": [],
   "source": [
    "int_1Number = 3"
   ]
  },
  {
   "cell_type": "code",
   "execution_count": 18,
   "id": "a7006cfd-9f44-45ab-95f1-4accf8daaecd",
   "metadata": {},
   "outputs": [],
   "source": [
    "# Assign multiple variables \n",
    "\n",
    "w,f,j,t = 1,2,3,4"
   ]
  },
  {
   "cell_type": "code",
   "execution_count": 19,
   "id": "3192b38d-e731-4598-a762-59237ea30d12",
   "metadata": {},
   "outputs": [
    {
     "data": {
      "text/plain": [
       "1"
      ]
     },
     "execution_count": 19,
     "metadata": {},
     "output_type": "execute_result"
    }
   ],
   "source": [
    "w"
   ]
  },
  {
   "cell_type": "code",
   "execution_count": 20,
   "id": "08218768-6070-4606-89e9-b848491165ef",
   "metadata": {},
   "outputs": [
    {
     "data": {
      "text/plain": [
       "2"
      ]
     },
     "execution_count": 20,
     "metadata": {},
     "output_type": "execute_result"
    }
   ],
   "source": [
    "f"
   ]
  },
  {
   "cell_type": "code",
   "execution_count": 21,
   "id": "f44b1448-5b00-4078-b107-cfc093356733",
   "metadata": {},
   "outputs": [
    {
     "data": {
      "text/plain": [
       "3"
      ]
     },
     "execution_count": 21,
     "metadata": {},
     "output_type": "execute_result"
    }
   ],
   "source": [
    "j"
   ]
  },
  {
   "cell_type": "code",
   "execution_count": 22,
   "id": "0b142a37-e475-4737-a83a-a459a97ee6a6",
   "metadata": {},
   "outputs": [
    {
     "data": {
      "text/plain": [
       "4"
      ]
     },
     "execution_count": 22,
     "metadata": {},
     "output_type": "execute_result"
    }
   ],
   "source": [
    "t"
   ]
  }
 ],
 "metadata": {
  "kernelspec": {
   "display_name": "Python 3 (ipykernel)",
   "language": "python",
   "name": "python3"
  },
  "language_info": {
   "codemirror_mode": {
    "name": "ipython",
    "version": 3
   },
   "file_extension": ".py",
   "mimetype": "text/x-python",
   "name": "python",
   "nbconvert_exporter": "python",
   "pygments_lexer": "ipython3",
   "version": "3.11.7"
  }
 },
 "nbformat": 4,
 "nbformat_minor": 5
}
