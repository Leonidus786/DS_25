{
 "cells": [
  {
   "cell_type": "code",
   "execution_count": 3,
   "id": "aa8b25fc-545c-4370-86fa-c5999c321702",
   "metadata": {},
   "outputs": [
    {
     "name": "stdin",
     "output_type": "stream",
     "text": [
      "Enter a number between 1-7:  4\n"
     ]
    },
    {
     "name": "stdout",
     "output_type": "stream",
     "text": [
      "Tuesday\n"
     ]
    }
   ],
   "source": [
    "\"\"\"Ask the user to enter the number of day\n",
    "and then show the output as weekday. And if user enters\n",
    "a number other than 1-7 then print a message as invalid day.\"\"\"\n",
    "\n",
    "day = int(input(\"Enter a number between 1-7: \"))\n",
    "\n",
    "if day == 1:\n",
    "    print(\"Saturday\")\n",
    "elif day == 2:\n",
    "    print(\"Sunday\")\n",
    "elif day == 3:\n",
    "    print(\"Monday\")\n",
    "elif day == 4:\n",
    "    print(\"Tuesday\")\n",
    "elif day == 5:\n",
    "    print(\"Wednesday\")\n",
    "elif day == 6:\n",
    "    print(\"Thursday\")\n",
    "elif day == 7:\n",
    "    print(\"Friday\")\n",
    "else:\n",
    "    print(\"You've entered a invalid number.\")"
   ]
  }
 ],
 "metadata": {
  "kernelspec": {
   "display_name": "Python 3 (ipykernel)",
   "language": "python",
   "name": "python3"
  },
  "language_info": {
   "codemirror_mode": {
    "name": "ipython",
    "version": 3
   },
   "file_extension": ".py",
   "mimetype": "text/x-python",
   "name": "python",
   "nbconvert_exporter": "python",
   "pygments_lexer": "ipython3",
   "version": "3.11.7"
  }
 },
 "nbformat": 4,
 "nbformat_minor": 5
}
