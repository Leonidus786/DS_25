{
 "cells": [
  {
   "cell_type": "code",
   "execution_count": 7,
   "id": "c18b3309-e332-4c69-bdb1-887be73ec74a",
   "metadata": {},
   "outputs": [
    {
     "name": "stdin",
     "output_type": "stream",
     "text": [
      "Give one subject (Maths or Commerce):  Maths\n"
     ]
    },
    {
     "name": "stdout",
     "output_type": "stream",
     "text": [
      "You've choosen maths. You'll become an enginner.\n"
     ]
    }
   ],
   "source": [
    "# if only one condition is there you can use if.\n",
    "after_10th = input(\"Give one subject (Maths or Commerce): \")\n",
    "\n",
    "if after_10th == \"Maths\":\n",
    "    print(\"You've choosen maths. You'll become an enginner.\")"
   ]
  },
  {
   "cell_type": "code",
   "execution_count": 9,
   "id": "717bf9f0-b733-422c-b1cc-3b8898c99f81",
   "metadata": {},
   "outputs": [
    {
     "name": "stdin",
     "output_type": "stream",
     "text": [
      "Enter your marks:  35\n"
     ]
    },
    {
     "name": "stdout",
     "output_type": "stream",
     "text": [
      "You are passed.\n",
      "Congrats\n"
     ]
    }
   ],
   "source": [
    "# If you have two conditions you can use if and else.\n",
    "\n",
    "marks = int(input(\"Enter your marks: \"))\n",
    "\n",
    "if marks >= 35:\n",
    "    print(\"You are passed.\")\n",
    "    print(\"Congrats\")\n",
    "else:\n",
    "    print(\"Fail\")"
   ]
  },
  {
   "cell_type": "code",
   "execution_count": 13,
   "id": "45629536-663a-4b4b-a162-f834b84ce4ce",
   "metadata": {},
   "outputs": [
    {
     "name": "stdin",
     "output_type": "stream",
     "text": [
      "Enter the weather (H,W,R,C):  H\n"
     ]
    },
    {
     "name": "stdout",
     "output_type": "stream",
     "text": [
      "you can have a icecream\n"
     ]
    }
   ],
   "source": [
    "# Multiple conditions -- more than two conditions\n",
    "\n",
    "weather = input(\"Enter the weather (H,W,R,C): \")\n",
    "\n",
    "if weather == 'H':\n",
    "    print(\"you can have a icecream\")\n",
    "elif weather == \"W\":\n",
    "    print(\"You can have a icecream2\")\n",
    "elif weather == \"R\":\n",
    "    print(\"You can have a icecream3\")\n",
    "else:\n",
    "    print(\"You can't have a icecream\")"
   ]
  },
  {
   "cell_type": "code",
   "execution_count": 20,
   "id": "aeb471a1-3b6d-41fd-ae0c-9665a98b5e57",
   "metadata": {},
   "outputs": [
    {
     "name": "stdout",
     "output_type": "stream",
     "text": [
      "a and b are equal\n"
     ]
    }
   ],
   "source": [
    "# Here elif block will run.\n",
    "a = 200\n",
    "b = 200\n",
    "if b > a:\n",
    "  print(\"b is greater than a\")\n",
    "elif a == b:\n",
    "  print(\"a and b are equal\")\n",
    "else:\n",
    "  print(\"a is greater than b\")"
   ]
  },
  {
   "cell_type": "code",
   "execution_count": 18,
   "id": "69e63ed0-80d0-4999-8af4-578cff2e61dd",
   "metadata": {},
   "outputs": [
    {
     "name": "stdout",
     "output_type": "stream",
     "text": [
      "b is not greater than a\n"
     ]
    }
   ],
   "source": [
    "# here else block will execute because condition inside if is not satisfied.\n",
    "a = 200\n",
    "b = 33\n",
    "if b > a:\n",
    "  print(\"b is greater than a\")\n",
    "else:\n",
    "  print(\"b is not greater than a\")"
   ]
  },
  {
   "cell_type": "code",
   "execution_count": 24,
   "id": "6921d7d1-9924-494e-b13c-43b7520f2bb0",
   "metadata": {},
   "outputs": [
    {
     "name": "stdout",
     "output_type": "stream",
     "text": [
      "b is greater than a\n"
     ]
    }
   ],
   "source": [
    "# if block will run/execute because the condition inside if block is satisfied.\n",
    "a = 200\n",
    "b = 33\n",
    "if b < a:\n",
    "  print(\"b is greater than a\")\n",
    "else:\n",
    "  print(\"b is not greater than a\")"
   ]
  },
  {
   "cell_type": "code",
   "execution_count": 27,
   "id": "20c8e217-4b95-4288-b548-6dea571ed94c",
   "metadata": {},
   "outputs": [
    {
     "name": "stdout",
     "output_type": "stream",
     "text": [
      "a is greater than b\n"
     ]
    }
   ],
   "source": [
    "# Short hand if:-\n",
    "\n",
    "if a > b: print(\"a is greater than b\")"
   ]
  },
  {
   "cell_type": "code",
   "execution_count": 28,
   "id": "771fe694-c2f0-430c-af69-27675df06239",
   "metadata": {},
   "outputs": [
    {
     "name": "stdout",
     "output_type": "stream",
     "text": [
      "B\n"
     ]
    }
   ],
   "source": [
    "a = 2\n",
    "b = 330\n",
    "print(\"A\") if a > b else print(\"B\")"
   ]
  },
  {
   "cell_type": "code",
   "execution_count": 29,
   "id": "58baabc4-359e-4d85-bf09-7732bbfe2dc7",
   "metadata": {},
   "outputs": [
    {
     "name": "stdout",
     "output_type": "stream",
     "text": [
      "Both conditions are True\n"
     ]
    }
   ],
   "source": [
    "# use of and with if\n",
    "a = 200\n",
    "b = 33\n",
    "c = 500\n",
    "if a > b and c > a:\n",
    "  print(\"Both conditions are True\")"
   ]
  },
  {
   "cell_type": "code",
   "execution_count": 30,
   "id": "127914a0-7271-4e73-b86f-e95d1f0fa908",
   "metadata": {},
   "outputs": [
    {
     "name": "stdout",
     "output_type": "stream",
     "text": [
      "At least one of the conditions is True\n"
     ]
    }
   ],
   "source": [
    "# use of or with if\n",
    "if a > b or a > c:\n",
    "  print(\"At least one of the conditions is True\")"
   ]
  },
  {
   "cell_type": "code",
   "execution_count": 32,
   "id": "84aa7ce2-8ad8-4f5e-ab31-420dc8c8c38d",
   "metadata": {},
   "outputs": [
    {
     "name": "stdout",
     "output_type": "stream",
     "text": [
      "a is NOT greater than b\n"
     ]
    }
   ],
   "source": [
    "a = 33\n",
    "b = 200\n",
    "if not a > b:\n",
    "  print(\"a is NOT greater than b\")"
   ]
  },
  {
   "cell_type": "code",
   "execution_count": 34,
   "id": "ad157094-8fd1-428a-9abd-d09ccebcc58b",
   "metadata": {},
   "outputs": [
    {
     "name": "stdout",
     "output_type": "stream",
     "text": [
      "Above ten,\n",
      "and also above 20!\n"
     ]
    }
   ],
   "source": [
    "x = 50\n",
    "\n",
    "if x > 10:\n",
    "  print(\"Above ten,\")\n",
    "  if x > 20:\n",
    "    print(\"and also above 20!\")\n",
    "  else:\n",
    "    print(\"but not above 20.\")"
   ]
  },
  {
   "cell_type": "code",
   "execution_count": 38,
   "id": "2029ffdb-ec95-43b3-9c7d-2ec5f5dc4c82",
   "metadata": {},
   "outputs": [
    {
     "name": "stdout",
     "output_type": "stream",
     "text": [
      "Above 30.\n",
      "not above 40.\n"
     ]
    }
   ],
   "source": [
    "y = 35\n",
    "\n",
    "if y >  30:\n",
    "    print(\"Above 30.\")\n",
    "    if y > 40:\n",
    "        print(\"It is above 40 also.\")\n",
    "    else:\n",
    "        print(\"not above 40.\")"
   ]
  },
  {
   "cell_type": "code",
   "execution_count": 39,
   "id": "209e6337-e330-41aa-a90a-9996f5e1ba03",
   "metadata": {},
   "outputs": [],
   "source": [
    "a = 33\n",
    "b = 200\n",
    "\n",
    "if b > a:\n",
    "  pass"
   ]
  }
 ],
 "metadata": {
  "kernelspec": {
   "display_name": "Python 3 (ipykernel)",
   "language": "python",
   "name": "python3"
  },
  "language_info": {
   "codemirror_mode": {
    "name": "ipython",
    "version": 3
   },
   "file_extension": ".py",
   "mimetype": "text/x-python",
   "name": "python",
   "nbconvert_exporter": "python",
   "pygments_lexer": "ipython3",
   "version": "3.11.7"
  }
 },
 "nbformat": 4,
 "nbformat_minor": 5
}
